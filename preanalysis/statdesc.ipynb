{
 "cells": [
  {
   "cell_type": "code",
   "execution_count": 1,
   "id": "97139a65",
   "metadata": {},
   "outputs": [],
   "source": [
    "import pandas as pd\n",
    "import numpy as np\n",
    "import matplotlib.pyplot as plt\n",
    "import plotly.express as px\n",
    "import seaborn as sns\n",
    "import sklearn"
   ]
  },
  {
   "cell_type": "code",
   "execution_count": 2,
   "id": "68a81473",
   "metadata": {},
   "outputs": [],
   "source": [
    "import os\n",
    "os.chdir(r\"C:\\Users\\cornuch\\Desktop\\SISE\\Text_mining\\projet_disney\")    "
   ]
  },
  {
   "cell_type": "code",
   "execution_count": 3,
   "id": "d59a9dd4",
   "metadata": {},
   "outputs": [],
   "source": [
    "df=pd.read_csv('df_clean_newport.csv',sep=';')"
   ]
  },
  {
   "cell_type": "code",
   "execution_count": 4,
   "id": "73436890",
   "metadata": {},
   "outputs": [
    {
     "data": {
      "text/html": [
       "<div>\n",
       "<style scoped>\n",
       "    .dataframe tbody tr th:only-of-type {\n",
       "        vertical-align: middle;\n",
       "    }\n",
       "\n",
       "    .dataframe tbody tr th {\n",
       "        vertical-align: top;\n",
       "    }\n",
       "\n",
       "    .dataframe thead th {\n",
       "        text-align: right;\n",
       "    }\n",
       "</style>\n",
       "<table border=\"1\" class=\"dataframe\">\n",
       "  <thead>\n",
       "    <tr style=\"text-align: right;\">\n",
       "      <th></th>\n",
       "      <th>index</th>\n",
       "      <th>Names</th>\n",
       "      <th>Country</th>\n",
       "      <th>room_type</th>\n",
       "      <th>nuitee</th>\n",
       "      <th>reservation_date</th>\n",
       "      <th>traveler_infos</th>\n",
       "      <th>date_review</th>\n",
       "      <th>review_title</th>\n",
       "      <th>grade_review</th>\n",
       "      <th>...</th>\n",
       "      <th>negative_review</th>\n",
       "      <th>usefulness_review</th>\n",
       "      <th>hotel</th>\n",
       "      <th>level_grade_review</th>\n",
       "      <th>level_hotel</th>\n",
       "      <th>month_str</th>\n",
       "      <th>month_num</th>\n",
       "      <th>year</th>\n",
       "      <th>delay_comment</th>\n",
       "      <th>date</th>\n",
       "    </tr>\n",
       "  </thead>\n",
       "  <tbody>\n",
       "    <tr>\n",
       "      <th>0</th>\n",
       "      <td>0</td>\n",
       "      <td>Ludovic</td>\n",
       "      <td>La Réunion</td>\n",
       "      <td>Chambre Supérieure - Côté Lac</td>\n",
       "      <td>2</td>\n",
       "      <td>Octobre 2022</td>\n",
       "      <td>Famille</td>\n",
       "      <td>9 octobre 2022</td>\n",
       "      <td>Inoubliable</td>\n",
       "      <td>10.0</td>\n",
       "      <td>...</td>\n",
       "      <td>NaN</td>\n",
       "      <td>0</td>\n",
       "      <td>Disney's Newport Bay Club</td>\n",
       "      <td>2</td>\n",
       "      <td>6</td>\n",
       "      <td>octobre</td>\n",
       "      <td>10</td>\n",
       "      <td>2022</td>\n",
       "      <td>0</td>\n",
       "      <td>2022-10-09</td>\n",
       "    </tr>\n",
       "    <tr>\n",
       "      <th>1</th>\n",
       "      <td>1</td>\n",
       "      <td>Julien</td>\n",
       "      <td>France</td>\n",
       "      <td>Chambre Supérieure</td>\n",
       "      <td>1</td>\n",
       "      <td>Décembre 2022</td>\n",
       "      <td>Couple</td>\n",
       "      <td>15 décembre 2022</td>\n",
       "      <td>Très bien</td>\n",
       "      <td>8.0</td>\n",
       "      <td>...</td>\n",
       "      <td>R.a.s</td>\n",
       "      <td>0</td>\n",
       "      <td>Disney's Newport Bay Club</td>\n",
       "      <td>2</td>\n",
       "      <td>6</td>\n",
       "      <td>décembre</td>\n",
       "      <td>12</td>\n",
       "      <td>2022</td>\n",
       "      <td>0</td>\n",
       "      <td>2022-12-15</td>\n",
       "    </tr>\n",
       "    <tr>\n",
       "      <th>2</th>\n",
       "      <td>2</td>\n",
       "      <td>Celine</td>\n",
       "      <td>France</td>\n",
       "      <td>Chambre Supérieure</td>\n",
       "      <td>2</td>\n",
       "      <td>Décembre 2022</td>\n",
       "      <td>Famille</td>\n",
       "      <td>14 décembre 2022</td>\n",
       "      <td>Agréable</td>\n",
       "      <td>6.0</td>\n",
       "      <td>...</td>\n",
       "      <td>NaN</td>\n",
       "      <td>0</td>\n",
       "      <td>Disney's Newport Bay Club</td>\n",
       "      <td>1</td>\n",
       "      <td>6</td>\n",
       "      <td>décembre</td>\n",
       "      <td>12</td>\n",
       "      <td>2022</td>\n",
       "      <td>0</td>\n",
       "      <td>2022-12-14</td>\n",
       "    </tr>\n",
       "    <tr>\n",
       "      <th>3</th>\n",
       "      <td>3</td>\n",
       "      <td>Diego</td>\n",
       "      <td>France</td>\n",
       "      <td>Chambre Supérieure</td>\n",
       "      <td>1</td>\n",
       "      <td>Novembre 2022</td>\n",
       "      <td>Famille</td>\n",
       "      <td>30 novembre 2022</td>\n",
       "      <td>Agréable</td>\n",
       "      <td>6.0</td>\n",
       "      <td>...</td>\n",
       "      <td>la qualité de la chambre n’était pas top, vieu...</td>\n",
       "      <td>0</td>\n",
       "      <td>Disney's Newport Bay Club</td>\n",
       "      <td>1</td>\n",
       "      <td>6</td>\n",
       "      <td>novembre</td>\n",
       "      <td>11</td>\n",
       "      <td>2022</td>\n",
       "      <td>0</td>\n",
       "      <td>2022-11-30</td>\n",
       "    </tr>\n",
       "    <tr>\n",
       "      <th>4</th>\n",
       "      <td>4</td>\n",
       "      <td>Fabienne</td>\n",
       "      <td>Belgique</td>\n",
       "      <td>Chambre Supérieure</td>\n",
       "      <td>1</td>\n",
       "      <td>Novembre 2022</td>\n",
       "      <td>Famille</td>\n",
       "      <td>18 novembre 2022</td>\n",
       "      <td>déçue qualité prix</td>\n",
       "      <td>6.0</td>\n",
       "      <td>...</td>\n",
       "      <td>la propreté</td>\n",
       "      <td>0</td>\n",
       "      <td>Disney's Newport Bay Club</td>\n",
       "      <td>1</td>\n",
       "      <td>6</td>\n",
       "      <td>novembre</td>\n",
       "      <td>11</td>\n",
       "      <td>2022</td>\n",
       "      <td>0</td>\n",
       "      <td>2022-11-18</td>\n",
       "    </tr>\n",
       "  </tbody>\n",
       "</table>\n",
       "<p>5 rows × 21 columns</p>\n",
       "</div>"
      ],
      "text/plain": [
       "   index     Names     Country                      room_type  nuitee  \\\n",
       "0      0   Ludovic  La Réunion  Chambre Supérieure - Côté Lac       2   \n",
       "1      1    Julien      France             Chambre Supérieure       1   \n",
       "2      2    Celine      France             Chambre Supérieure       2   \n",
       "3      3     Diego      France             Chambre Supérieure       1   \n",
       "4      4  Fabienne    Belgique             Chambre Supérieure       1   \n",
       "\n",
       "  reservation_date traveler_infos        date_review        review_title  \\\n",
       "0     Octobre 2022        Famille     9 octobre 2022         Inoubliable   \n",
       "1    Décembre 2022         Couple   15 décembre 2022           Très bien   \n",
       "2    Décembre 2022        Famille   14 décembre 2022            Agréable   \n",
       "3    Novembre 2022        Famille   30 novembre 2022            Agréable   \n",
       "4    Novembre 2022        Famille   18 novembre 2022  déçue qualité prix   \n",
       "\n",
       "   grade_review  ...                                    negative_review  \\\n",
       "0          10.0  ...                                                NaN   \n",
       "1           8.0  ...                                              R.a.s   \n",
       "2           6.0  ...                                                NaN   \n",
       "3           6.0  ...  la qualité de la chambre n’était pas top, vieu...   \n",
       "4           6.0  ...                                        la propreté   \n",
       "\n",
       "  usefulness_review                      hotel level_grade_review  \\\n",
       "0                 0  Disney's Newport Bay Club                  2   \n",
       "1                 0  Disney's Newport Bay Club                  2   \n",
       "2                 0  Disney's Newport Bay Club                  1   \n",
       "3                 0  Disney's Newport Bay Club                  1   \n",
       "4                 0  Disney's Newport Bay Club                  1   \n",
       "\n",
       "   level_hotel  month_str month_num  year  delay_comment        date  \n",
       "0            6    octobre        10  2022              0  2022-10-09  \n",
       "1            6   décembre        12  2022              0  2022-12-15  \n",
       "2            6   décembre        12  2022              0  2022-12-14  \n",
       "3            6   novembre        11  2022              0  2022-11-30  \n",
       "4            6   novembre        11  2022              0  2022-11-18  \n",
       "\n",
       "[5 rows x 21 columns]"
      ]
     },
     "execution_count": 4,
     "metadata": {},
     "output_type": "execute_result"
    }
   ],
   "source": [
    "df.head()"
   ]
  },
  {
   "cell_type": "code",
   "execution_count": 5,
   "id": "73bd5d21",
   "metadata": {},
   "outputs": [
    {
     "data": {
      "text/plain": [
       "(2272, 21)"
      ]
     },
     "execution_count": 5,
     "metadata": {},
     "output_type": "execute_result"
    }
   ],
   "source": [
    "df.shape"
   ]
  },
  {
   "cell_type": "code",
   "execution_count": 6,
   "id": "5cc702e8",
   "metadata": {},
   "outputs": [
    {
     "name": "stdout",
     "output_type": "stream",
     "text": [
      "<class 'pandas.core.frame.DataFrame'>\n",
      "RangeIndex: 2272 entries, 0 to 2271\n",
      "Data columns (total 21 columns):\n",
      " #   Column              Non-Null Count  Dtype  \n",
      "---  ------              --------------  -----  \n",
      " 0   index               2272 non-null   int64  \n",
      " 1   Names               2272 non-null   object \n",
      " 2   Country             2270 non-null   object \n",
      " 3   room_type           2126 non-null   object \n",
      " 4   nuitee              2272 non-null   int64  \n",
      " 5   reservation_date    2272 non-null   object \n",
      " 6   traveler_infos      2272 non-null   object \n",
      " 7   date_review         2272 non-null   object \n",
      " 8   review_title        2270 non-null   object \n",
      " 9   grade_review        2272 non-null   float64\n",
      " 10  positive_review     627 non-null    object \n",
      " 11  negative_review     494 non-null    object \n",
      " 12  usefulness_review   2272 non-null   int64  \n",
      " 13  hotel               2272 non-null   object \n",
      " 14  level_grade_review  2272 non-null   int64  \n",
      " 15  level_hotel         2272 non-null   int64  \n",
      " 16  month_str           2272 non-null   object \n",
      " 17  month_num           2272 non-null   int64  \n",
      " 18  year                2272 non-null   int64  \n",
      " 19  delay_comment       2272 non-null   int64  \n",
      " 20  date                2272 non-null   object \n",
      "dtypes: float64(1), int64(8), object(12)\n",
      "memory usage: 372.9+ KB\n"
     ]
    }
   ],
   "source": [
    "df.info()"
   ]
  },
  {
   "cell_type": "markdown",
   "id": "514c2a61",
   "metadata": {},
   "source": [
    "# Moyennes des notes selon les catégories"
   ]
  },
  {
   "cell_type": "code",
   "execution_count": 7,
   "id": "dc28520a",
   "metadata": {},
   "outputs": [],
   "source": [
    "df_select3=df[df.hotel==\"Disney's Newport Bay Club\"]\n",
    "df_select2=df[(df.hotel==\"Disney's Newport Bay Club\") & (df.level_grade_review==2)]\n",
    "df_select1=df[(df.hotel==\"Disney's Newport Bay Club\") & (df.level_grade_review==1)]\n",
    "df_select0=df[(df.hotel==\"Disney's Newport Bay Club\") & (df.level_grade_review==0)]"
   ]
  },
  {
   "cell_type": "code",
   "execution_count": 8,
   "id": "a0f2252e",
   "metadata": {},
   "outputs": [],
   "source": [
    "def mean_mark(n,k):\n",
    "    if k==3:\n",
    "        note=df[df.level_hotel==n].grade_review.mean()\n",
    "    else :\n",
    "        note=df[(df.level_hotel==n) & (df.level_grade_review==k)].grade_review.mean()\n",
    "    return note"
   ]
  },
  {
   "cell_type": "code",
   "execution_count": 9,
   "id": "aa0ff112",
   "metadata": {},
   "outputs": [
    {
     "data": {
      "text/plain": [
       "7.4"
      ]
     },
     "execution_count": 9,
     "metadata": {},
     "output_type": "execute_result"
    }
   ],
   "source": [
    "round(mean_mark(6,3),3)"
   ]
  },
  {
   "cell_type": "code",
   "execution_count": 10,
   "id": "9b6c2508",
   "metadata": {},
   "outputs": [
    {
     "data": {
      "text/plain": [
       "9.106"
      ]
     },
     "execution_count": 10,
     "metadata": {},
     "output_type": "execute_result"
    }
   ],
   "source": [
    "round(mean_mark(6,2),3)"
   ]
  },
  {
   "cell_type": "code",
   "execution_count": 11,
   "id": "12aa6989",
   "metadata": {},
   "outputs": [
    {
     "data": {
      "text/plain": [
       "6.662"
      ]
     },
     "execution_count": 11,
     "metadata": {},
     "output_type": "execute_result"
    }
   ],
   "source": [
    "round(mean_mark(6,1),3)"
   ]
  },
  {
   "cell_type": "code",
   "execution_count": 12,
   "id": "fe99de2f",
   "metadata": {},
   "outputs": [
    {
     "data": {
      "text/plain": [
       "3.581"
      ]
     },
     "execution_count": 12,
     "metadata": {},
     "output_type": "execute_result"
    }
   ],
   "source": [
    "round(mean_mark(6,0),3)"
   ]
  },
  {
   "cell_type": "code",
   "execution_count": 13,
   "id": "d7dfa251",
   "metadata": {},
   "outputs": [
    {
     "name": "stdout",
     "output_type": "stream",
     "text": [
      "2.396\n",
      "0.861\n",
      "0.528\n",
      "1.453\n"
     ]
    }
   ],
   "source": [
    "#Ecart-type\n",
    "print(round(df_select3.grade_review.std(),3))\n",
    "print(round(df_select2.grade_review.std(),3))\n",
    "print(round(df_select1.grade_review.std(),3))\n",
    "print(round(df_select0.grade_review.std(),3))"
   ]
  },
  {
   "cell_type": "markdown",
   "id": "e2235d16",
   "metadata": {},
   "source": [
    "# Délai entre commentaires et réservation"
   ]
  },
  {
   "cell_type": "code",
   "execution_count": 14,
   "id": "43beca44",
   "metadata": {},
   "outputs": [],
   "source": [
    "df_delaisup=df[df.delay_comment>=2]"
   ]
  },
  {
   "cell_type": "code",
   "execution_count": 15,
   "id": "bfaeabed",
   "metadata": {},
   "outputs": [
    {
     "data": {
      "text/plain": [
       "8.237"
      ]
     },
     "execution_count": 15,
     "metadata": {},
     "output_type": "execute_result"
    }
   ],
   "source": [
    "#moyenne des notes des personnes ayant mis un commentaire avec plus de délai\n",
    "round(df_delaisup['grade_review'].mean(),3)"
   ]
  },
  {
   "cell_type": "code",
   "execution_count": 16,
   "id": "af8c3654",
   "metadata": {},
   "outputs": [
    {
     "data": {
      "text/plain": [
       "3.477"
      ]
     },
     "execution_count": 16,
     "metadata": {},
     "output_type": "execute_result"
    }
   ],
   "source": [
    "#pourcentage de délai dans les commentaires sur l'ensemble des individus\n",
    "round(len(df[df.delay_comment>=2])*100/df.shape[0],3)"
   ]
  },
  {
   "cell_type": "markdown",
   "id": "bbf52c9e",
   "metadata": {},
   "source": [
    "# Type de séjour"
   ]
  },
  {
   "cell_type": "code",
   "execution_count": 17,
   "id": "117755e5",
   "metadata": {},
   "outputs": [
    {
     "data": {
      "text/plain": [
       "Famille                1610\n",
       "Couple                  453\n",
       "Groupe                  159\n",
       "Voyageur individuel      50\n",
       "Name: traveler_infos, dtype: int64"
      ]
     },
     "execution_count": 17,
     "metadata": {},
     "output_type": "execute_result"
    }
   ],
   "source": [
    "df['traveler_infos'].value_counts()"
   ]
  },
  {
   "cell_type": "code",
   "execution_count": 98,
   "id": "784c4a75",
   "metadata": {},
   "outputs": [],
   "source": [
    "d1=df.groupby(['traveler_infos'])[['index','Country']].count()*100/df.shape[0]\n",
    "d1=d1.rename(columns={\"index\": \"pourcentages\"})"
   ]
  },
  {
   "cell_type": "code",
   "execution_count": 99,
   "id": "76a8f8d9",
   "metadata": {},
   "outputs": [
    {
     "data": {
      "text/html": [
       "<div>\n",
       "<style scoped>\n",
       "    .dataframe tbody tr th:only-of-type {\n",
       "        vertical-align: middle;\n",
       "    }\n",
       "\n",
       "    .dataframe tbody tr th {\n",
       "        vertical-align: top;\n",
       "    }\n",
       "\n",
       "    .dataframe thead th {\n",
       "        text-align: right;\n",
       "    }\n",
       "</style>\n",
       "<table border=\"1\" class=\"dataframe\">\n",
       "  <thead>\n",
       "    <tr style=\"text-align: right;\">\n",
       "      <th></th>\n",
       "      <th>pourcentages</th>\n",
       "      <th>Country</th>\n",
       "    </tr>\n",
       "    <tr>\n",
       "      <th>traveler_infos</th>\n",
       "      <th></th>\n",
       "      <th></th>\n",
       "    </tr>\n",
       "  </thead>\n",
       "  <tbody>\n",
       "    <tr>\n",
       "      <th>Couple</th>\n",
       "      <td>19.938380</td>\n",
       "      <td>19.894366</td>\n",
       "    </tr>\n",
       "    <tr>\n",
       "      <th>Famille</th>\n",
       "      <td>70.862676</td>\n",
       "      <td>70.818662</td>\n",
       "    </tr>\n",
       "    <tr>\n",
       "      <th>Groupe</th>\n",
       "      <td>6.998239</td>\n",
       "      <td>6.998239</td>\n",
       "    </tr>\n",
       "    <tr>\n",
       "      <th>Voyageur individuel</th>\n",
       "      <td>2.200704</td>\n",
       "      <td>2.200704</td>\n",
       "    </tr>\n",
       "  </tbody>\n",
       "</table>\n",
       "</div>"
      ],
      "text/plain": [
       "                     pourcentages    Country\n",
       "traveler_infos                              \n",
       "Couple                  19.938380  19.894366\n",
       "Famille                 70.862676  70.818662\n",
       "Groupe                   6.998239   6.998239\n",
       "Voyageur individuel      2.200704   2.200704"
      ]
     },
     "execution_count": 99,
     "metadata": {},
     "output_type": "execute_result"
    }
   ],
   "source": [
    "d1"
   ]
  },
  {
   "cell_type": "code",
   "execution_count": 100,
   "id": "971cc7e6",
   "metadata": {},
   "outputs": [],
   "source": [
    "d2=df.groupby(['traveler_infos'])[['grade_review','nuitee']].mean()"
   ]
  },
  {
   "cell_type": "code",
   "execution_count": 101,
   "id": "a0d73245",
   "metadata": {},
   "outputs": [
    {
     "data": {
      "text/html": [
       "<div>\n",
       "<style scoped>\n",
       "    .dataframe tbody tr th:only-of-type {\n",
       "        vertical-align: middle;\n",
       "    }\n",
       "\n",
       "    .dataframe tbody tr th {\n",
       "        vertical-align: top;\n",
       "    }\n",
       "\n",
       "    .dataframe thead th {\n",
       "        text-align: right;\n",
       "    }\n",
       "</style>\n",
       "<table border=\"1\" class=\"dataframe\">\n",
       "  <thead>\n",
       "    <tr style=\"text-align: right;\">\n",
       "      <th></th>\n",
       "      <th>grade_review</th>\n",
       "      <th>nuitee</th>\n",
       "    </tr>\n",
       "    <tr>\n",
       "      <th>traveler_infos</th>\n",
       "      <th></th>\n",
       "      <th></th>\n",
       "    </tr>\n",
       "  </thead>\n",
       "  <tbody>\n",
       "    <tr>\n",
       "      <th>Couple</th>\n",
       "      <td>7.987638</td>\n",
       "      <td>1.403974</td>\n",
       "    </tr>\n",
       "    <tr>\n",
       "      <th>Famille</th>\n",
       "      <td>7.184037</td>\n",
       "      <td>1.722360</td>\n",
       "    </tr>\n",
       "    <tr>\n",
       "      <th>Groupe</th>\n",
       "      <td>7.965409</td>\n",
       "      <td>1.553459</td>\n",
       "    </tr>\n",
       "    <tr>\n",
       "      <th>Voyageur individuel</th>\n",
       "      <td>7.234000</td>\n",
       "      <td>1.680000</td>\n",
       "    </tr>\n",
       "  </tbody>\n",
       "</table>\n",
       "</div>"
      ],
      "text/plain": [
       "                     grade_review    nuitee\n",
       "traveler_infos                             \n",
       "Couple                   7.987638  1.403974\n",
       "Famille                  7.184037  1.722360\n",
       "Groupe                   7.965409  1.553459\n",
       "Voyageur individuel      7.234000  1.680000"
      ]
     },
     "execution_count": 101,
     "metadata": {},
     "output_type": "execute_result"
    }
   ],
   "source": [
    "d2"
   ]
  },
  {
   "cell_type": "code",
   "execution_count": 102,
   "id": "30fc34cb",
   "metadata": {},
   "outputs": [],
   "source": [
    "df_sejour=pd.merge(d1,d2,on='traveler_infos')"
   ]
  },
  {
   "cell_type": "code",
   "execution_count": 103,
   "id": "da1fcd28",
   "metadata": {},
   "outputs": [
    {
     "data": {
      "text/html": [
       "<div>\n",
       "<style scoped>\n",
       "    .dataframe tbody tr th:only-of-type {\n",
       "        vertical-align: middle;\n",
       "    }\n",
       "\n",
       "    .dataframe tbody tr th {\n",
       "        vertical-align: top;\n",
       "    }\n",
       "\n",
       "    .dataframe thead th {\n",
       "        text-align: right;\n",
       "    }\n",
       "</style>\n",
       "<table border=\"1\" class=\"dataframe\">\n",
       "  <thead>\n",
       "    <tr style=\"text-align: right;\">\n",
       "      <th></th>\n",
       "      <th>pourcentages</th>\n",
       "      <th>grade_review</th>\n",
       "    </tr>\n",
       "    <tr>\n",
       "      <th>traveler_infos</th>\n",
       "      <th></th>\n",
       "      <th></th>\n",
       "    </tr>\n",
       "  </thead>\n",
       "  <tbody>\n",
       "    <tr>\n",
       "      <th>Couple</th>\n",
       "      <td>19.938</td>\n",
       "      <td>7.988</td>\n",
       "    </tr>\n",
       "    <tr>\n",
       "      <th>Famille</th>\n",
       "      <td>70.863</td>\n",
       "      <td>7.184</td>\n",
       "    </tr>\n",
       "    <tr>\n",
       "      <th>Groupe</th>\n",
       "      <td>6.998</td>\n",
       "      <td>7.965</td>\n",
       "    </tr>\n",
       "    <tr>\n",
       "      <th>Voyageur individuel</th>\n",
       "      <td>2.201</td>\n",
       "      <td>7.234</td>\n",
       "    </tr>\n",
       "  </tbody>\n",
       "</table>\n",
       "</div>"
      ],
      "text/plain": [
       "                     pourcentages  grade_review\n",
       "traveler_infos                                 \n",
       "Couple                     19.938         7.988\n",
       "Famille                    70.863         7.184\n",
       "Groupe                      6.998         7.965\n",
       "Voyageur individuel         2.201         7.234"
      ]
     },
     "execution_count": 103,
     "metadata": {},
     "output_type": "execute_result"
    }
   ],
   "source": [
    "var=['pourcentages','grade_review']\n",
    "round(df_sejour[var],3)"
   ]
  },
  {
   "cell_type": "markdown",
   "id": "25302fb7",
   "metadata": {},
   "source": [
    "# Nombre de nuitées"
   ]
  },
  {
   "cell_type": "code",
   "execution_count": null,
   "id": "dcb0fafd",
   "metadata": {},
   "outputs": [],
   "source": [
    "nuitees=df['nuitee'].value_counts()"
   ]
  },
  {
   "cell_type": "code",
   "execution_count": null,
   "id": "831f371f",
   "metadata": {},
   "outputs": [],
   "source": [
    "nuitees"
   ]
  },
  {
   "cell_type": "code",
   "execution_count": null,
   "id": "4ac910eb",
   "metadata": {},
   "outputs": [],
   "source": [
    "nuitees=nuitees.to_frame()\n",
    "nuitees = nuitees.reset_index()"
   ]
  },
  {
   "cell_type": "code",
   "execution_count": null,
   "id": "657d6eb4",
   "metadata": {},
   "outputs": [],
   "source": [
    "import plotly.express as px\n",
    "fig = px.bar(nuitees, x='index', y='nuitee', title=\"Nombre de nuits par durée du séjour\")\n",
    "fig.show()"
   ]
  },
  {
   "cell_type": "code",
   "execution_count": null,
   "id": "4ed527bb",
   "metadata": {},
   "outputs": [],
   "source": [
    "#Créer groupes\n",
    "grouper = df.groupby(['year','month_str'])\n",
    "\n",
    "#Filtrer colonne et appliquer l'aggrégation\n",
    "grouper['nuitee'].sum().reset_index()"
   ]
  },
  {
   "cell_type": "code",
   "execution_count": null,
   "id": "9720d7de",
   "metadata": {},
   "outputs": [],
   "source": [
    "grouper[['positive_review','negative_review']].count().reset_index()"
   ]
  },
  {
   "cell_type": "code",
   "execution_count": null,
   "id": "c418167a",
   "metadata": {},
   "outputs": [],
   "source": [
    "fig = px.sunburst(df, path=['year', 'month_str'], values='nuitee',\n",
    "                  color='grade_review',\n",
    "                  color_continuous_scale='RdBu',\n",
    "                  color_continuous_midpoint=np.average(df['grade_review'], weights=df['nuitee']))\n",
    "fig.show()"
   ]
  },
  {
   "cell_type": "code",
   "execution_count": null,
   "id": "dbfc5a9b",
   "metadata": {},
   "outputs": [],
   "source": [
    "#df_select=df[((df.year=='2021')&((df.month_str=='décembre')|(df.month_str=='novembre')))|((df.year=='2022')&(df.month_str=='janvier'))]"
   ]
  },
  {
   "cell_type": "markdown",
   "id": "9bfba79a",
   "metadata": {},
   "source": [
    "# Pays"
   ]
  },
  {
   "cell_type": "code",
   "execution_count": null,
   "id": "3d586ac9",
   "metadata": {},
   "outputs": [],
   "source": [
    "#recherche des personnes n'ayant pas indiqué \"Country\"\n",
    "df[df['Country'].isna()]"
   ]
  },
  {
   "cell_type": "code",
   "execution_count": null,
   "id": "2b197a19",
   "metadata": {},
   "outputs": [],
   "source": [
    "pays=df.Country.value_counts()"
   ]
  },
  {
   "cell_type": "code",
   "execution_count": null,
   "id": "b9de0d69",
   "metadata": {},
   "outputs": [],
   "source": [
    "pays10=pays.head(10)"
   ]
  },
  {
   "cell_type": "code",
   "execution_count": null,
   "id": "62fe50e3",
   "metadata": {},
   "outputs": [],
   "source": [
    "pays_pourcent=df['Country'].value_counts()*100/df.shape[0]\n",
    "pays_poucent=pays_pourcent.to_frame()\n",
    "pays_pourcent=pays_pourcent.reset_index()"
   ]
  },
  {
   "cell_type": "code",
   "execution_count": null,
   "id": "9c4f973e",
   "metadata": {},
   "outputs": [],
   "source": [
    "pays_top15_pourcent=pays_pourcent.head(15)\n",
    "pays_top15_pourcent"
   ]
  },
  {
   "cell_type": "code",
   "execution_count": null,
   "id": "74157433",
   "metadata": {},
   "outputs": [],
   "source": [
    "fig = px.bar(pays_top15_pourcent,x='index', y='Country', title=\"Fréquence pour les 15 pays les plus représentés\",labels={'index':'Pays','Country':'Pourcentage'})\n",
    "fig.show()"
   ]
  },
  {
   "cell_type": "markdown",
   "id": "989198da",
   "metadata": {},
   "source": [
    "# Profiling"
   ]
  },
  {
   "cell_type": "code",
   "execution_count": null,
   "id": "5c334199",
   "metadata": {},
   "outputs": [],
   "source": [
    "!pip install pandas_profiling"
   ]
  },
  {
   "cell_type": "code",
   "execution_count": null,
   "id": "be11f5b4",
   "metadata": {},
   "outputs": [],
   "source": [
    "from pandas_profiling import ProfileReport"
   ]
  },
  {
   "cell_type": "code",
   "execution_count": null,
   "id": "34ce8016",
   "metadata": {},
   "outputs": [],
   "source": [
    "profile = ProfileReport(df, title='Analyse du fichier Newport hotel', html={'style':{'full_width':True}})\n",
    "profile.to_notebook_iframe()"
   ]
  },
  {
   "cell_type": "code",
   "execution_count": null,
   "id": "9b60e16c",
   "metadata": {},
   "outputs": [],
   "source": [
    "#profile.to_json()"
   ]
  },
  {
   "cell_type": "code",
   "execution_count": null,
   "id": "72e4508c",
   "metadata": {},
   "outputs": [],
   "source": [
    "#profile.to_file(output_file=\"newport.html\")"
   ]
  },
  {
   "cell_type": "code",
   "execution_count": null,
   "id": "74e2adac",
   "metadata": {},
   "outputs": [],
   "source": []
  }
 ],
 "metadata": {
  "kernelspec": {
   "display_name": "Python 3 (ipykernel)",
   "language": "python",
   "name": "python3"
  },
  "language_info": {
   "codemirror_mode": {
    "name": "ipython",
    "version": 3
   },
   "file_extension": ".py",
   "mimetype": "text/x-python",
   "name": "python",
   "nbconvert_exporter": "python",
   "pygments_lexer": "ipython3",
   "version": "3.9.12"
  }
 },
 "nbformat": 4,
 "nbformat_minor": 5
}
