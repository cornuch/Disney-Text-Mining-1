{
 "cells": [
  {
   "cell_type": "code",
   "execution_count": 13,
   "id": "0f34a681",
   "metadata": {},
   "outputs": [],
   "source": [
    "import psycopg2\n",
    "import psycopg2.extras as extras\n",
    "import pandas as pd\n",
    "import os"
   ]
  },
  {
   "cell_type": "code",
   "execution_count": 14,
   "id": "6c9b4760",
   "metadata": {},
   "outputs": [],
   "source": [
    "os.chdir(\"C:/Users/pauli/Documents/M2/Text Mining/projet/Disney-Text-Mining/fichiers\")\n",
    "mypath = os.getcwd()\n",
    "\n",
    "\n",
    "base = pd.read_csv(\"Scrapping_Cheyenne.csv\",sep=';')"
   ]
  },
  {
   "cell_type": "code",
   "execution_count": 15,
   "id": "b1f1d05e",
   "metadata": {},
   "outputs": [],
   "source": [
    "conn = psycopg2.connect(\n",
    "          user = \"m140\",\n",
    "          password = \"m140\",\n",
    "          host = \"db-etu.univ-lyon2.fr\",\n",
    "          port = \"5432\",\n",
    "          database = \"m140\"\n",
    "    )"
   ]
  },
  {
   "cell_type": "code",
   "execution_count": 16,
   "id": "72b2e818",
   "metadata": {},
   "outputs": [],
   "source": [
    "def execute_req(conn, req):\n",
    "    try: \n",
    "        cursor = conn.cursor()\n",
    "        cursor.execute(req)\n",
    "        conn.commit()\n",
    "        cursor.close()\n",
    "    except (Exception, psycopg2.Error) as error :\n",
    "        print (\"Erreur lors de la création du table PostgreSQL\", error)"
   ]
  },
  {
   "cell_type": "code",
   "execution_count": 17,
   "id": "3668d759",
   "metadata": {},
   "outputs": [],
   "source": [
    "sql_create_history = '''CREATE TABLE IF NOT EXISTS history(\n",
    "    Names TEXT,\n",
    "    Country TEXT,\n",
    "    room_type TEXT,\n",
    "    nuitee INT,\n",
    "    reservation_date TEXT,\n",
    "    traveler_infos TEXT,\n",
    "    date_review TEXT,\n",
    "    review_title TEXT,\n",
    "    grade_review TEXT,\n",
    "    positive_review TEXT,\n",
    "    negative_review TEXT,\n",
    "    usefulness_review INT,\n",
    "    UniqueID TEXT,\n",
    "    hotel TEXT\n",
    "  ); '''\n",
    "\n",
    "execute_req(conn, sql_create_history)"
   ]
  },
  {
   "cell_type": "code",
   "execution_count": 18,
   "id": "3b85a10b",
   "metadata": {},
   "outputs": [],
   "source": [
    "def insert_values(conn, df, table):\n",
    "    tuples = [tuple(x) for x in df.to_numpy()]\n",
    "    cols = ','.join(list(df.columns))\n",
    "    # SQL query to execute\n",
    "    query = \"INSERT INTO %s(%s) VALUES %%s\" % (table, cols)\n",
    "    cursor = conn.cursor()\n",
    "    try:\n",
    "        extras.execute_values(cursor, query, tuples)\n",
    "        conn.commit()\n",
    "    except (Exception, psycopg2.DatabaseError) as error:\n",
    "        print(\"Error: %s\" % error)\n",
    "        conn.rollback()\n",
    "        cursor.close()\n",
    "        return 1\n",
    "    print(\"the dataframe is inserted\")\n",
    "    cursor.close()"
   ]
  },
  {
   "cell_type": "code",
   "execution_count": 19,
   "id": "551ea82c",
   "metadata": {},
   "outputs": [
    {
     "name": "stdout",
     "output_type": "stream",
     "text": [
      "the dataframe is inserted\n"
     ]
    }
   ],
   "source": [
    "insert_values(conn, base, 'history')"
   ]
  },
  {
   "cell_type": "code",
   "execution_count": null,
   "id": "7bd97e61",
   "metadata": {},
   "outputs": [],
   "source": []
  }
 ],
 "metadata": {
  "kernelspec": {
   "display_name": "Python 3 (ipykernel)",
   "language": "python",
   "name": "python3"
  },
  "language_info": {
   "codemirror_mode": {
    "name": "ipython",
    "version": 3
   },
   "file_extension": ".py",
   "mimetype": "text/x-python",
   "name": "python",
   "nbconvert_exporter": "python",
   "pygments_lexer": "ipython3",
   "version": "3.9.15"
  }
 },
 "nbformat": 4,
 "nbformat_minor": 5
}
