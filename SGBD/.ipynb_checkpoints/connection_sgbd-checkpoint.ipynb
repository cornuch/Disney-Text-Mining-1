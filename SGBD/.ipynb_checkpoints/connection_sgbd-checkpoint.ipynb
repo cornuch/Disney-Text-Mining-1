{
 "cells": [
  {
   "cell_type": "code",
   "execution_count": 114,
   "id": "4e4ec051",
   "metadata": {},
   "outputs": [],
   "source": [
    "import psycopg2\n",
    "import pandas as pd\n",
    "import psycopg2.extras as extras"
   ]
  },
  {
   "cell_type": "code",
   "execution_count": 115,
   "id": "4aa3c3dd",
   "metadata": {},
   "outputs": [],
   "source": [
    "client = pd.read_csv(\"C:/Users/pauli/Documents/M2/Text Mining/projet/Disney-Text-Mining/fichiers/tables/client.csv\",sep=';')\n",
    "date = pd.read_csv(\"C:/Users/pauli/Documents/M2/Text Mining/projet/Disney-Text-Mining/fichiers/tables/date.csv\",sep=';')\n",
    "hotel = pd.read_csv(\"C:/Users/pauli/Documents/M2/Text Mining/projet/Disney-Text-Mining/fichiers/tables/hotel.csv\",sep=';')\n",
    "room = pd.read_csv(\"C:/Users/pauli/Documents/M2/Text Mining/projet/Disney-Text-Mining/fichiers/tables/room.csv\",sep=';')\n",
    "reservation = pd.read_csv(\"C:/Users/pauli/Documents/M2/Text Mining/projet/Disney-Text-Mining/fichiers/tables/reservation.csv\",sep=';')\n"
   ]
  },
  {
   "cell_type": "code",
   "execution_count": null,
   "id": "80320a4c",
   "metadata": {},
   "outputs": [],
   "source": []
  },
  {
   "cell_type": "markdown",
   "id": "501182b0",
   "metadata": {},
   "source": [
    "# Oracle"
   ]
  },
  {
   "cell_type": "code",
   "execution_count": 88,
   "id": "660db920",
   "metadata": {},
   "outputs": [],
   "source": [
    "#??"
   ]
  },
  {
   "cell_type": "markdown",
   "id": "0864dd8b",
   "metadata": {},
   "source": [
    "# MySQL"
   ]
  },
  {
   "cell_type": "code",
   "execution_count": 89,
   "id": "084fd65a",
   "metadata": {},
   "outputs": [],
   "source": [
    "#??"
   ]
  },
  {
   "cell_type": "markdown",
   "id": "b16942e4",
   "metadata": {},
   "source": [
    "# PostgreSQL"
   ]
  },
  {
   "cell_type": "code",
   "execution_count": 90,
   "id": "a39fb6a0",
   "metadata": {},
   "outputs": [],
   "source": [
    "#https://waytolearnx.com/2020/06/connexion-a-une-base-de-donnees-postgresql-en-python.html"
   ]
  },
  {
   "cell_type": "markdown",
   "id": "7493b1d9",
   "metadata": {},
   "source": [
    "## create and insert tables"
   ]
  },
  {
   "cell_type": "code",
   "execution_count": 91,
   "id": "7ab07500",
   "metadata": {},
   "outputs": [],
   "source": [
    "def create_tables(conn, table_req):\n",
    "    try: \n",
    "        cursor = conn.cursor()\n",
    "        cursor.execute(table_req)\n",
    "        conn.commit()\n",
    "        cursor.close()\n",
    "    except (Exception, psycopg2.Error) as error :\n",
    "        print (\"Erreur lors de la création du table PostgreSQL\", error)"
   ]
  },
  {
   "cell_type": "code",
   "execution_count": 92,
   "id": "455a4228",
   "metadata": {},
   "outputs": [],
   "source": [
    "def insert_values(conn, df, table):\n",
    "    tuples = [tuple(x) for x in df.to_numpy()]\n",
    "    cols = ','.join(list(df.columns))\n",
    "    # SQL query to execute\n",
    "    query = \"INSERT INTO %s(%s) VALUES %%s\" % (table, cols)\n",
    "    cursor = conn.cursor()\n",
    "    try:\n",
    "        extras.execute_values(cursor, query, tuples)\n",
    "        conn.commit()\n",
    "    except (Exception, psycopg2.DatabaseError) as error:\n",
    "        print(\"Error: %s\" % error)\n",
    "        conn.rollback()\n",
    "        cursor.close()\n",
    "        return 1\n",
    "    print(\"the dataframe is inserted\")\n",
    "    cursor.close()"
   ]
  },
  {
   "cell_type": "code",
   "execution_count": 116,
   "id": "d837dc7b",
   "metadata": {},
   "outputs": [],
   "source": [
    "conn = psycopg2.connect(\n",
    "          user = \"m139\",\n",
    "          password = \"m139\",\n",
    "          host = \"db-etu.univ-lyon2.fr\",\n",
    "          port = \"5432\",\n",
    "          database = \"m139\"\n",
    "    )"
   ]
  },
  {
   "cell_type": "code",
   "execution_count": null,
   "id": "0eb7edc1",
   "metadata": {},
   "outputs": [],
   "source": [
    "sql_create_hotel = '''CREATE TABLE HOTEL(\n",
    "    id_hotel TEXT PRIMARY KEY NOT NULL,\n",
    "    hotel VARCHAR(100)\n",
    "  ); '''\n",
    "\n",
    "create_tables(conn, sql_create_hotel)"
   ]
  },
  {
   "cell_type": "code",
   "execution_count": null,
   "id": "3221f962",
   "metadata": {},
   "outputs": [],
   "source": [
    "sql_create_room = '''CREATE TABLE ROOM(\n",
    "    id_room TEXT PRIMARY KEY NOT NULL,\n",
    "    room_type TEXT,\n",
    "    id_hotel TEXT,\n",
    "    CONSTRAINT ROOM_ibfk_1 FOREIGN KEY (id_hotel) REFERENCES HOTEL(id_hotel)\n",
    "  ); '''\n",
    "create_tables(conn, sql_create_room)"
   ]
  },
  {
   "cell_type": "code",
   "execution_count": null,
   "id": "966e5911",
   "metadata": {},
   "outputs": [],
   "source": [
    "sql_create_client = '''CREATE TABLE CLIENT(\n",
    "    \"id_client\" TEXT PRIMARY KEY NOT NULL,\n",
    "    country TEXT,\n",
    "    nb_night INT,\n",
    "    traveler_infos TEXT,\n",
    "    review_title TEXT, \n",
    "    positive_review TEXT,\n",
    "    negative_review TEXT, \n",
    "    usefulness_review TEXT\n",
    "  ); '''\n",
    "create_tables(conn, sql_create_client)\n"
   ]
  },
  {
   "cell_type": "code",
   "execution_count": null,
   "id": "50563b5d",
   "metadata": {},
   "outputs": [],
   "source": [
    "sql_create_date = '''CREATE TABLE DATE(\n",
    "    id_date TEXT PRIMARY KEY NOT NULL,\n",
    "    month_str TEXT,\n",
    "    year INT,\n",
    "    month_num INT,\n",
    "    date DATE\n",
    "  ); '''\n",
    "create_tables(conn, sql_create_date)\n"
   ]
  },
  {
   "cell_type": "code",
   "execution_count": 111,
   "id": "ad9e13c3",
   "metadata": {},
   "outputs": [
    {
     "name": "stdout",
     "output_type": "stream",
     "text": [
      "Erreur lors de la création du table PostgreSQL relation \"hotel\" already exists\n",
      "\n",
      "Erreur lors de la création du table PostgreSQL current transaction is aborted, commands ignored until end of transaction block\n",
      "\n",
      "Erreur lors de la création du table PostgreSQL current transaction is aborted, commands ignored until end of transaction block\n",
      "\n",
      "Erreur lors de la création du table PostgreSQL current transaction is aborted, commands ignored until end of transaction block\n",
      "\n",
      "Erreur lors de la création du table PostgreSQL current transaction is aborted, commands ignored until end of transaction block\n",
      "\n"
     ]
    }
   ],
   "source": [
    "sql_create_res = '''CREATE TABLE RESERVATION(\n",
    "    id_reservation TEXT PRIMARY KEY NOT NULL,\n",
    "    grade_review FLOAT,\n",
    "    level_grade_review INT,\n",
    "    id_room TEXT,\n",
    "    id_date TEXT,\n",
    "    id_client TEXT,\n",
    "    CONSTRAINT RESERVATION_ibfk_1 FOREIGN KEY (id_room) REFERENCES ROOM(id_room),\n",
    "    CONSTRAINT RESERVATION_ibfk_2 FOREIGN KEY (id_date) REFERENCES DATE(id_date),\n",
    "    CONSTRAINT RESERVATION_ibfk_3 FOREIGN KEY (id_client) REFERENCES CLIENT(id_client)\n",
    "  ); '''\n",
    "create_tables(conn, sql_create_res)\n",
    "    "
   ]
  },
  {
   "cell_type": "code",
   "execution_count": 117,
   "id": "b3e7d037",
   "metadata": {},
   "outputs": [
    {
     "name": "stdout",
     "output_type": "stream",
     "text": [
      "the dataframe is inserted\n"
     ]
    }
   ],
   "source": [
    "insert_values(conn, date, 'date')"
   ]
  },
  {
   "cell_type": "code",
   "execution_count": 118,
   "id": "b223370c",
   "metadata": {},
   "outputs": [
    {
     "name": "stdout",
     "output_type": "stream",
     "text": [
      "the dataframe is inserted\n"
     ]
    }
   ],
   "source": [
    "insert_values(conn, hotel, 'hotel')"
   ]
  },
  {
   "cell_type": "code",
   "execution_count": 119,
   "id": "08d04315",
   "metadata": {},
   "outputs": [
    {
     "name": "stdout",
     "output_type": "stream",
     "text": [
      "the dataframe is inserted\n"
     ]
    }
   ],
   "source": [
    "insert_values(conn, room, 'room')"
   ]
  },
  {
   "cell_type": "code",
   "execution_count": 120,
   "id": "b8cf118b",
   "metadata": {},
   "outputs": [
    {
     "name": "stdout",
     "output_type": "stream",
     "text": [
      "the dataframe is inserted\n"
     ]
    }
   ],
   "source": [
    "insert_values(conn, client, 'client')"
   ]
  },
  {
   "cell_type": "code",
   "execution_count": 121,
   "id": "4cce91a2",
   "metadata": {},
   "outputs": [
    {
     "name": "stdout",
     "output_type": "stream",
     "text": [
      "the dataframe is inserted\n"
     ]
    }
   ],
   "source": [
    "insert_values(conn, reservation, 'reservation')"
   ]
  },
  {
   "cell_type": "code",
   "execution_count": null,
   "id": "9c3899ad",
   "metadata": {},
   "outputs": [],
   "source": []
  },
  {
   "cell_type": "code",
   "execution_count": null,
   "id": "1ee225c8",
   "metadata": {},
   "outputs": [],
   "source": [
    "DROP TABLE reservation;\n",
    "DROP TABLE date;\n",
    "DROP TABLE client;\n",
    "DROP TABLE room;\n",
    "DROP TABLE hotel;"
   ]
  },
  {
   "cell_type": "code",
   "execution_count": null,
   "id": "5049db28",
   "metadata": {},
   "outputs": [],
   "source": [
    "CREATE TABLE HOTEL(\n",
    "    id_hotel TEXT PRIMARY KEY NOT NULL,\n",
    "    hotel TEXT\n",
    "  );\n",
    "  \n",
    "CREATE TABLE ROOM(\n",
    "    id_room TEXT PRIMARY KEY NOT NULL,\n",
    "    room_type TEXT,\n",
    "    id_hotel TEXT,\n",
    "    CONSTRAINT ROOM_ibfk_1 FOREIGN KEY (id_hotel) REFERENCES HOTEL(id_hotel)\n",
    "  ); \n",
    "CREATE TABLE CLIENT(\n",
    "    id_client TEXT PRIMARY KEY NOT NULL,\n",
    "    country TEXT,\n",
    "    nb_night INT,\n",
    "    traveler_infos TEXT,\n",
    "    review_title TEXT, \n",
    "    positive_review TEXT,\n",
    "    negative_review TEXT, \n",
    "    usefulness_review TEXT\n",
    "  );\n",
    "  \n",
    "CREATE TABLE DATE(\n",
    "    id_date TEXT PRIMARY KEY NOT NULL,\n",
    "    month_str TEXT,\n",
    "    year INT,\n",
    "    month_num INT,\n",
    "    date DATE\n",
    "  ); \n",
    "CREATE TABLE RESERVATION(\n",
    "    id_reservation TEXT PRIMARY KEY NOT NULL,\n",
    "    grade_review FLOAT,\n",
    "    level_grade_review INT,\n",
    "    id_room TEXT,\n",
    "    id_date TEXT,\n",
    "    id_client TEXT,\n",
    "    CONSTRAINT RESERVATION_ibfk_1 FOREIGN KEY (id_room) REFERENCES ROOM(id_room),\n",
    "    CONSTRAINT RESERVATION_ibfk_2 FOREIGN KEY (id_date) REFERENCES DATE(id_date),\n",
    "    CONSTRAINT RESERVATION_ibfk_3 FOREIGN KEY (id_client) REFERENCES CLIENT(id_client)\n",
    "  ); "
   ]
  },
  {
   "cell_type": "markdown",
   "id": "32fd51b8",
   "metadata": {},
   "source": [
    "## get tables"
   ]
  },
  {
   "cell_type": "code",
   "execution_count": 127,
   "id": "8ddd74d2",
   "metadata": {},
   "outputs": [],
   "source": [
    "try:\n",
    "    conn = psycopg2.connect(\n",
    "          user = \"m139\",\n",
    "          password = \"m139\",\n",
    "          host = \"db-etu.univ-lyon2.fr\",\n",
    "          port = \"5432\",\n",
    "          database = \"m139\"\n",
    "    )\n",
    "    cur = conn.cursor()\n",
    "    sql = \"SELECT * FROM client\"\n",
    "\n",
    "    cur.execute(sql)\n",
    "    res = cur.fetchall()\n",
    "\n",
    "    cur.close()\n",
    "    conn.close()\n",
    "except (Exception, psycopg2.Error) as error :\n",
    "    print (\"Erreur lors de la connexion à PostgreSQL\", error)\n",
    "\n",
    "\n",
    "#recuperer les donnees de table\n",
    "positive_review = []\n",
    "negative_review = []\n",
    "traveler_infos = []\n",
    "for i in range(0, len(res)):\n",
    "    positive_review.append(res[i][5])\n",
    "    negative_review.append(res[i][6])\n",
    "    traveler_infos.append(res[i][3])\n",
    "\n",
    "#regrouper les donnees dans un dataframe pour la construction de la figure \n",
    "clientpg = pd.DataFrame({\n",
    "    \"positive_review\": positive_review,\n",
    "    \"negative_review\" : negative_review,\n",
    "    \"traveler_infos\" :  traveler_infos\n",
    "})"
   ]
  },
  {
   "cell_type": "code",
   "execution_count": 128,
   "id": "dbf6b386",
   "metadata": {},
   "outputs": [
    {
     "data": {
      "text/html": [
       "<div>\n",
       "<style scoped>\n",
       "    .dataframe tbody tr th:only-of-type {\n",
       "        vertical-align: middle;\n",
       "    }\n",
       "\n",
       "    .dataframe tbody tr th {\n",
       "        vertical-align: top;\n",
       "    }\n",
       "\n",
       "    .dataframe thead th {\n",
       "        text-align: right;\n",
       "    }\n",
       "</style>\n",
       "<table border=\"1\" class=\"dataframe\">\n",
       "  <thead>\n",
       "    <tr style=\"text-align: right;\">\n",
       "      <th></th>\n",
       "      <th>positive_review</th>\n",
       "      <th>negative_review</th>\n",
       "      <th>traveler_infos</th>\n",
       "    </tr>\n",
       "  </thead>\n",
       "  <tbody>\n",
       "    <tr>\n",
       "      <th>0</th>\n",
       "      <td>Le petit déjeuner et l'excellent buffet pour l...</td>\n",
       "      <td>NaN</td>\n",
       "      <td>Famille</td>\n",
       "    </tr>\n",
       "    <tr>\n",
       "      <th>1</th>\n",
       "      <td>Les navettes pour accéder au parc,\\r\\nLa taill...</td>\n",
       "      <td>R.a.s</td>\n",
       "      <td>Couple</td>\n",
       "    </tr>\n",
       "    <tr>\n",
       "      <th>2</th>\n",
       "      <td>Û</td>\n",
       "      <td>NaN</td>\n",
       "      <td>Famille</td>\n",
       "    </tr>\n",
       "    <tr>\n",
       "      <th>3</th>\n",
       "      <td>la proximité du parc Disneyland Paris</td>\n",
       "      <td>la qualité de la chambre n’était pas top, vieu...</td>\n",
       "      <td>Famille</td>\n",
       "    </tr>\n",
       "    <tr>\n",
       "      <th>4</th>\n",
       "      <td>l emplacement</td>\n",
       "      <td>la propreté</td>\n",
       "      <td>Famille</td>\n",
       "    </tr>\n",
       "    <tr>\n",
       "      <th>...</th>\n",
       "      <td>...</td>\n",
       "      <td>...</td>\n",
       "      <td>...</td>\n",
       "    </tr>\n",
       "    <tr>\n",
       "      <th>2267</th>\n",
       "      <td>NaN</td>\n",
       "      <td>NaN</td>\n",
       "      <td>Famille</td>\n",
       "    </tr>\n",
       "    <tr>\n",
       "      <th>2268</th>\n",
       "      <td>NaN</td>\n",
       "      <td>NaN</td>\n",
       "      <td>Couple</td>\n",
       "    </tr>\n",
       "    <tr>\n",
       "      <th>2269</th>\n",
       "      <td>NaN</td>\n",
       "      <td>NaN</td>\n",
       "      <td>Couple</td>\n",
       "    </tr>\n",
       "    <tr>\n",
       "      <th>2270</th>\n",
       "      <td>NaN</td>\n",
       "      <td>NaN</td>\n",
       "      <td>Famille</td>\n",
       "    </tr>\n",
       "    <tr>\n",
       "      <th>2271</th>\n",
       "      <td>NaN</td>\n",
       "      <td>NaN</td>\n",
       "      <td>Groupe</td>\n",
       "    </tr>\n",
       "  </tbody>\n",
       "</table>\n",
       "<p>2272 rows × 3 columns</p>\n",
       "</div>"
      ],
      "text/plain": [
       "                                        positive_review  \\\n",
       "0     Le petit déjeuner et l'excellent buffet pour l...   \n",
       "1     Les navettes pour accéder au parc,\\r\\nLa taill...   \n",
       "2                                                     Û   \n",
       "3                 la proximité du parc Disneyland Paris   \n",
       "4                                         l emplacement   \n",
       "...                                                 ...   \n",
       "2267                                                NaN   \n",
       "2268                                                NaN   \n",
       "2269                                                NaN   \n",
       "2270                                                NaN   \n",
       "2271                                                NaN   \n",
       "\n",
       "                                        negative_review traveler_infos  \n",
       "0                                                   NaN        Famille  \n",
       "1                                                 R.a.s         Couple  \n",
       "2                                                   NaN        Famille  \n",
       "3     la qualité de la chambre n’était pas top, vieu...        Famille  \n",
       "4                                           la propreté        Famille  \n",
       "...                                                 ...            ...  \n",
       "2267                                                NaN        Famille  \n",
       "2268                                                NaN         Couple  \n",
       "2269                                                NaN         Couple  \n",
       "2270                                                NaN        Famille  \n",
       "2271                                                NaN         Groupe  \n",
       "\n",
       "[2272 rows x 3 columns]"
      ]
     },
     "execution_count": 128,
     "metadata": {},
     "output_type": "execute_result"
    }
   ],
   "source": [
    "clientpg"
   ]
  },
  {
   "cell_type": "code",
   "execution_count": null,
   "id": "bc6313c6",
   "metadata": {},
   "outputs": [],
   "source": []
  },
  {
   "cell_type": "code",
   "execution_count": null,
   "id": "0ffa3c7f",
   "metadata": {},
   "outputs": [],
   "source": []
  }
 ],
 "metadata": {
  "kernelspec": {
   "display_name": "Python 3 (ipykernel)",
   "language": "python",
   "name": "python3"
  },
  "language_info": {
   "codemirror_mode": {
    "name": "ipython",
    "version": 3
   },
   "file_extension": ".py",
   "mimetype": "text/x-python",
   "name": "python",
   "nbconvert_exporter": "python",
   "pygments_lexer": "ipython3",
   "version": "3.9.15"
  }
 },
 "nbformat": 4,
 "nbformat_minor": 5
}
