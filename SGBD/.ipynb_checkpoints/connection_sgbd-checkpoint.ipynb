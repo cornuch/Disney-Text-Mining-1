{
 "cells": [
  {
   "cell_type": "code",
   "execution_count": 2,
   "id": "4e4ec051",
   "metadata": {},
   "outputs": [],
   "source": [
    "import psycopg2\n",
    "import pandas as pd\n",
    "import psycopg2.extras as extras\n",
    "import os\n",
    "from os import listdir\n",
    "from os.path import isfile, join"
   ]
  },
  {
   "cell_type": "code",
   "execution_count": 25,
   "id": "4aa3c3dd",
   "metadata": {},
   "outputs": [],
   "source": [
    "os.chdir(\"C:/Users/pauli/Documents/M2/Text Mining/projet/Disney-Text-Mining/fichiers/tables\")\n",
    "mypath = os.getcwd()\n",
    "\n",
    "\n",
    "client = pd.read_csv(str(mypath)+\"/client.csv\",sep=';')\n",
    "date = pd.read_csv(str(mypath)+\"/date.csv\",sep=';')\n",
    "hotel = pd.read_csv(str(mypath)+\"/hotel.csv\",sep=';')\n",
    "room = pd.read_csv(str(mypath)+\"/room.csv\",sep=';')\n",
    "reservation = pd.read_csv(str(mypath)+\"/reservation.csv\",sep=';')"
   ]
  },
  {
   "cell_type": "markdown",
   "id": "b16942e4",
   "metadata": {},
   "source": [
    "# PostgreSQL"
   ]
  },
  {
   "cell_type": "code",
   "execution_count": 28,
   "id": "a39fb6a0",
   "metadata": {},
   "outputs": [],
   "source": [
    "#https://waytolearnx.com/2020/06/connexion-a-une-base-de-donnees-postgresql-en-python.html"
   ]
  },
  {
   "cell_type": "code",
   "execution_count": 29,
   "id": "d837dc7b",
   "metadata": {},
   "outputs": [],
   "source": [
    "conn = psycopg2.connect(\n",
    "          user = \"m139\",\n",
    "          password = \"m139\",\n",
    "          host = \"db-etu.univ-lyon2.fr\",\n",
    "          port = \"5432\",\n",
    "          database = \"m139\"\n",
    "    )"
   ]
  },
  {
   "cell_type": "markdown",
   "id": "1c09ab4f",
   "metadata": {},
   "source": [
    "# execute request "
   ]
  },
  {
   "cell_type": "code",
   "execution_count": 11,
   "id": "691216a9",
   "metadata": {},
   "outputs": [],
   "source": [
    "def execute_req(conn, req):\n",
    "    try: \n",
    "        cursor = conn.cursor()\n",
    "        cursor.execute(req)\n",
    "        conn.commit()\n",
    "        cursor.close()\n",
    "    except (Exception, psycopg2.Error) as error :\n",
    "        print (\"Erreur lors de la création du table PostgreSQL\", error)"
   ]
  },
  {
   "cell_type": "markdown",
   "id": "cd884909",
   "metadata": {},
   "source": [
    "# Inserer un DF"
   ]
  },
  {
   "cell_type": "code",
   "execution_count": null,
   "id": "084a49a5",
   "metadata": {},
   "outputs": [],
   "source": [
    "def insert_values(conn, df, table):\n",
    "    tuples = [tuple(x) for x in df.to_numpy()]\n",
    "    cols = ','.join(list(df.columns))\n",
    "    # SQL query to execute\n",
    "    query = \"INSERT INTO %s(%s) VALUES %%s\" % (table, cols)\n",
    "    cursor = conn.cursor()\n",
    "    try:\n",
    "        extras.execute_values(cursor, query, tuples)\n",
    "        conn.commit()\n",
    "    except (Exception, psycopg2.DatabaseError) as error:\n",
    "        print(\"Error: %s\" % error)\n",
    "        conn.rollback()\n",
    "        cursor.close()\n",
    "        return 1\n",
    "    print(\"the dataframe is inserted\")\n",
    "    cursor.close()"
   ]
  },
  {
   "cell_type": "markdown",
   "id": "8972c656",
   "metadata": {},
   "source": [
    "# drop DW"
   ]
  },
  {
   "cell_type": "code",
   "execution_count": 31,
   "id": "a83dfe01",
   "metadata": {},
   "outputs": [],
   "source": [
    "sql_drop_reservation = '''DROP TABLE reservation; '''\n",
    "execute_req(conn, sql_drop_reservation)"
   ]
  },
  {
   "cell_type": "code",
   "execution_count": 32,
   "id": "f625f89b",
   "metadata": {},
   "outputs": [],
   "source": [
    "sql_drop_date = '''DROP TABLE date; '''\n",
    "execute_req(conn, sql_drop_date)"
   ]
  },
  {
   "cell_type": "code",
   "execution_count": 33,
   "id": "4302ac0f",
   "metadata": {},
   "outputs": [],
   "source": [
    "sql_drop_client = '''DROP TABLE client; '''\n",
    "execute_req(conn, sql_drop_client)"
   ]
  },
  {
   "cell_type": "code",
   "execution_count": 34,
   "id": "7c81a57a",
   "metadata": {},
   "outputs": [],
   "source": [
    "sql_drop_room = '''DROP TABLE room; '''\n",
    "execute_req(conn, sql_drop_room)"
   ]
  },
  {
   "cell_type": "code",
   "execution_count": 35,
   "id": "81607d91",
   "metadata": {},
   "outputs": [],
   "source": [
    "sql_drop_hotel = '''DROP TABLE hotel; '''\n",
    "execute_req(conn, sql_drop_hotel)"
   ]
  },
  {
   "cell_type": "markdown",
   "id": "7493b1d9",
   "metadata": {},
   "source": [
    "# create tables du DW"
   ]
  },
  {
   "cell_type": "code",
   "execution_count": 36,
   "id": "0eb7edc1",
   "metadata": {},
   "outputs": [],
   "source": [
    "sql_create_hotel = '''CREATE TABLE HOTEL(\n",
    "    id_hotel TEXT PRIMARY KEY NOT NULL,\n",
    "    hotel VARCHAR(100),\n",
    "    level_hotel INT\n",
    "  ); '''\n",
    "\n",
    "execute_req(conn, sql_create_hotel)"
   ]
  },
  {
   "cell_type": "code",
   "execution_count": 37,
   "id": "3221f962",
   "metadata": {},
   "outputs": [],
   "source": [
    "sql_create_room = '''CREATE TABLE ROOM(\n",
    "    id_room TEXT PRIMARY KEY NOT NULL,\n",
    "    room_type TEXT,\n",
    "    id_hotel TEXT,\n",
    "    CONSTRAINT ROOM_ibfk_1 FOREIGN KEY (id_hotel) REFERENCES HOTEL(id_hotel)\n",
    "  ); '''\n",
    "execute_req(conn, sql_create_room)"
   ]
  },
  {
   "cell_type": "code",
   "execution_count": 38,
   "id": "966e5911",
   "metadata": {},
   "outputs": [],
   "source": [
    "sql_create_client = '''CREATE TABLE CLIENT(\n",
    "    \"id_client\" TEXT PRIMARY KEY NOT NULL,\n",
    "    country TEXT,\n",
    "    nuitee INT,\n",
    "    traveler_infos TEXT,\n",
    "    review_title TEXT, \n",
    "    positive_review TEXT,\n",
    "    negative_review TEXT, \n",
    "    usefulness_review TEXT,\n",
    "    delay_comment INT\n",
    "  ); '''\n",
    "execute_req(conn, sql_create_client)\n"
   ]
  },
  {
   "cell_type": "code",
   "execution_count": 39,
   "id": "50563b5d",
   "metadata": {},
   "outputs": [],
   "source": [
    "sql_create_date = '''CREATE TABLE DATE(\n",
    "    id_date TEXT PRIMARY KEY NOT NULL,\n",
    "    month_str TEXT,\n",
    "    year INT,\n",
    "    month_num INT,\n",
    "    date DATE\n",
    "  ); '''\n",
    "execute_req(conn, sql_create_date)\n"
   ]
  },
  {
   "cell_type": "code",
   "execution_count": 40,
   "id": "ad9e13c3",
   "metadata": {},
   "outputs": [],
   "source": [
    "sql_create_res = '''CREATE TABLE RESERVATION(\n",
    "    id_reservation TEXT PRIMARY KEY NOT NULL,\n",
    "    grade_review FLOAT,\n",
    "    level_grade_review INT,\n",
    "    id_room TEXT,\n",
    "    id_date TEXT,\n",
    "    id_client TEXT,\n",
    "    CONSTRAINT RESERVATION_ibfk_1 FOREIGN KEY (id_room) REFERENCES ROOM(id_room),\n",
    "    CONSTRAINT RESERVATION_ibfk_2 FOREIGN KEY (id_date) REFERENCES DATE(id_date),\n",
    "    CONSTRAINT RESERVATION_ibfk_3 FOREIGN KEY (id_client) REFERENCES CLIENT(id_client)\n",
    "  ); '''\n",
    "execute_req(conn, sql_create_res)\n",
    "    "
   ]
  },
  {
   "cell_type": "markdown",
   "id": "d5d608aa",
   "metadata": {},
   "source": [
    "# insert values in DW"
   ]
  },
  {
   "cell_type": "code",
   "execution_count": 42,
   "id": "b3e7d037",
   "metadata": {},
   "outputs": [
    {
     "name": "stdout",
     "output_type": "stream",
     "text": [
      "the dataframe is inserted\n"
     ]
    }
   ],
   "source": [
    "insert_values(conn, date, 'date')"
   ]
  },
  {
   "cell_type": "code",
   "execution_count": 43,
   "id": "b223370c",
   "metadata": {},
   "outputs": [
    {
     "name": "stdout",
     "output_type": "stream",
     "text": [
      "the dataframe is inserted\n"
     ]
    }
   ],
   "source": [
    "insert_values(conn, hotel, 'hotel')"
   ]
  },
  {
   "cell_type": "code",
   "execution_count": 44,
   "id": "08d04315",
   "metadata": {},
   "outputs": [
    {
     "name": "stdout",
     "output_type": "stream",
     "text": [
      "the dataframe is inserted\n"
     ]
    }
   ],
   "source": [
    "insert_values(conn, room, 'room')"
   ]
  },
  {
   "cell_type": "code",
   "execution_count": 45,
   "id": "b8cf118b",
   "metadata": {},
   "outputs": [
    {
     "name": "stdout",
     "output_type": "stream",
     "text": [
      "the dataframe is inserted\n"
     ]
    }
   ],
   "source": [
    "insert_values(conn, client, 'client')"
   ]
  },
  {
   "cell_type": "code",
   "execution_count": 46,
   "id": "4cce91a2",
   "metadata": {},
   "outputs": [
    {
     "name": "stdout",
     "output_type": "stream",
     "text": [
      "the dataframe is inserted\n"
     ]
    }
   ],
   "source": [
    "insert_values(conn, reservation, 'reservation')"
   ]
  },
  {
   "cell_type": "markdown",
   "id": "32fd51b8",
   "metadata": {},
   "source": [
    "# get tables du DW"
   ]
  },
  {
   "cell_type": "code",
   "execution_count": 4,
   "id": "8ddd74d2",
   "metadata": {},
   "outputs": [
    {
     "data": {
      "text/html": [
       "<div>\n",
       "<style scoped>\n",
       "    .dataframe tbody tr th:only-of-type {\n",
       "        vertical-align: middle;\n",
       "    }\n",
       "\n",
       "    .dataframe tbody tr th {\n",
       "        vertical-align: top;\n",
       "    }\n",
       "\n",
       "    .dataframe thead th {\n",
       "        text-align: right;\n",
       "    }\n",
       "</style>\n",
       "<table border=\"1\" class=\"dataframe\">\n",
       "  <thead>\n",
       "    <tr style=\"text-align: right;\">\n",
       "      <th></th>\n",
       "      <th>id_reservation</th>\n",
       "      <th>grade_review</th>\n",
       "      <th>level_grade_review</th>\n",
       "      <th>id_room</th>\n",
       "      <th>id_date</th>\n",
       "      <th>id_client</th>\n",
       "      <th>country</th>\n",
       "      <th>nuitee</th>\n",
       "      <th>traveler_infos</th>\n",
       "      <th>review_title</th>\n",
       "      <th>...</th>\n",
       "      <th>usefulness_review</th>\n",
       "      <th>delay_comment</th>\n",
       "      <th>month_str</th>\n",
       "      <th>year</th>\n",
       "      <th>month_num</th>\n",
       "      <th>date</th>\n",
       "      <th>id_hotel</th>\n",
       "      <th>hotel</th>\n",
       "      <th>level_hotel</th>\n",
       "      <th>room_type</th>\n",
       "    </tr>\n",
       "  </thead>\n",
       "  <tbody>\n",
       "    <tr>\n",
       "      <th>0</th>\n",
       "      <td>2631f321-fd21-4956-9f0b-0a4bc0e5dae7</td>\n",
       "      <td>9.0</td>\n",
       "      <td>2</td>\n",
       "      <td>3fd69528-3808-42db-8b85-5478b1092a14</td>\n",
       "      <td>20230101</td>\n",
       "      <td>1de67bb1-041c-4738-8d78-2caa0b156d42</td>\n",
       "      <td>Royaume-Uni</td>\n",
       "      <td>1</td>\n",
       "      <td>Famille</td>\n",
       "      <td>excellent and memorable</td>\n",
       "      <td>...</td>\n",
       "      <td>0</td>\n",
       "      <td>0</td>\n",
       "      <td>janvier</td>\n",
       "      <td>2023</td>\n",
       "      <td>1</td>\n",
       "      <td>2023-01-01</td>\n",
       "      <td>8e91af37-81a4-40d6-a123-708455813b70</td>\n",
       "      <td>Cheyenne</td>\n",
       "      <td>3</td>\n",
       "      <td>Chambre Standard Woody's Roundup</td>\n",
       "    </tr>\n",
       "    <tr>\n",
       "      <th>1</th>\n",
       "      <td>b09eac46-d540-4bc5-806a-a737c3606892</td>\n",
       "      <td>7.0</td>\n",
       "      <td>1</td>\n",
       "      <td>3fd69528-3808-42db-8b85-5478b1092a14</td>\n",
       "      <td>20230101</td>\n",
       "      <td>a211550b-d693-4eed-a030-f6a5ba6d1fbf</td>\n",
       "      <td>Belgique</td>\n",
       "      <td>1</td>\n",
       "      <td>Famille</td>\n",
       "      <td>Bien</td>\n",
       "      <td>...</td>\n",
       "      <td>0</td>\n",
       "      <td>0</td>\n",
       "      <td>janvier</td>\n",
       "      <td>2023</td>\n",
       "      <td>1</td>\n",
       "      <td>2023-01-01</td>\n",
       "      <td>8e91af37-81a4-40d6-a123-708455813b70</td>\n",
       "      <td>Cheyenne</td>\n",
       "      <td>3</td>\n",
       "      <td>Chambre Standard Woody's Roundup</td>\n",
       "    </tr>\n",
       "    <tr>\n",
       "      <th>2</th>\n",
       "      <td>578ba80f-d734-4c9f-99b4-ba43776b78ca</td>\n",
       "      <td>10.0</td>\n",
       "      <td>2</td>\n",
       "      <td>3fd69528-3808-42db-8b85-5478b1092a14</td>\n",
       "      <td>20230101</td>\n",
       "      <td>5ef62afa-cd01-4faa-9fd8-2c87e9e5ad24</td>\n",
       "      <td>Royaume-Uni</td>\n",
       "      <td>2</td>\n",
       "      <td>Famille</td>\n",
       "      <td>amazing and very helpful staff</td>\n",
       "      <td>...</td>\n",
       "      <td>0</td>\n",
       "      <td>0</td>\n",
       "      <td>janvier</td>\n",
       "      <td>2023</td>\n",
       "      <td>1</td>\n",
       "      <td>2023-01-01</td>\n",
       "      <td>8e91af37-81a4-40d6-a123-708455813b70</td>\n",
       "      <td>Cheyenne</td>\n",
       "      <td>3</td>\n",
       "      <td>Chambre Standard Woody's Roundup</td>\n",
       "    </tr>\n",
       "    <tr>\n",
       "      <th>3</th>\n",
       "      <td>04e84db4-103a-40c3-ba4b-736d188c09b2</td>\n",
       "      <td>9.0</td>\n",
       "      <td>2</td>\n",
       "      <td>3fd69528-3808-42db-8b85-5478b1092a14</td>\n",
       "      <td>20230101</td>\n",
       "      <td>71eb69c7-f1d1-47e3-88df-a90a4e255fda</td>\n",
       "      <td>France</td>\n",
       "      <td>1</td>\n",
       "      <td>Famille</td>\n",
       "      <td>On a passé un très bon moment !!</td>\n",
       "      <td>...</td>\n",
       "      <td>0</td>\n",
       "      <td>0</td>\n",
       "      <td>janvier</td>\n",
       "      <td>2023</td>\n",
       "      <td>1</td>\n",
       "      <td>2023-01-01</td>\n",
       "      <td>8e91af37-81a4-40d6-a123-708455813b70</td>\n",
       "      <td>Cheyenne</td>\n",
       "      <td>3</td>\n",
       "      <td>Chambre Standard Woody's Roundup</td>\n",
       "    </tr>\n",
       "    <tr>\n",
       "      <th>4</th>\n",
       "      <td>31c7fea5-f246-4e2b-8f5a-5833f8a42b2f</td>\n",
       "      <td>8.0</td>\n",
       "      <td>2</td>\n",
       "      <td>3fd69528-3808-42db-8b85-5478b1092a14</td>\n",
       "      <td>20230101</td>\n",
       "      <td>ef9d9c0f-c192-413e-837d-1a9c6b1d0301</td>\n",
       "      <td>Pays-Bas</td>\n",
       "      <td>1</td>\n",
       "      <td>Famille</td>\n",
       "      <td>Fijn verblijf gehad, hebben nacht bijgeboekt e...</td>\n",
       "      <td>...</td>\n",
       "      <td>0</td>\n",
       "      <td>0</td>\n",
       "      <td>janvier</td>\n",
       "      <td>2023</td>\n",
       "      <td>1</td>\n",
       "      <td>2023-01-01</td>\n",
       "      <td>8e91af37-81a4-40d6-a123-708455813b70</td>\n",
       "      <td>Cheyenne</td>\n",
       "      <td>3</td>\n",
       "      <td>Chambre Standard Woody's Roundup</td>\n",
       "    </tr>\n",
       "    <tr>\n",
       "      <th>...</th>\n",
       "      <td>...</td>\n",
       "      <td>...</td>\n",
       "      <td>...</td>\n",
       "      <td>...</td>\n",
       "      <td>...</td>\n",
       "      <td>...</td>\n",
       "      <td>...</td>\n",
       "      <td>...</td>\n",
       "      <td>...</td>\n",
       "      <td>...</td>\n",
       "      <td>...</td>\n",
       "      <td>...</td>\n",
       "      <td>...</td>\n",
       "      <td>...</td>\n",
       "      <td>...</td>\n",
       "      <td>...</td>\n",
       "      <td>...</td>\n",
       "      <td>...</td>\n",
       "      <td>...</td>\n",
       "      <td>...</td>\n",
       "      <td>...</td>\n",
       "    </tr>\n",
       "    <tr>\n",
       "      <th>11214</th>\n",
       "      <td>23012349-f892-4a8d-9dab-9ca659c0a1e7</td>\n",
       "      <td>8.0</td>\n",
       "      <td>2</td>\n",
       "      <td>bee020b0-7a87-4430-bf70-b1499ff34967</td>\n",
       "      <td>20191201</td>\n",
       "      <td>f3b755e3-c3b5-4412-bf4d-5d6c80f3952b</td>\n",
       "      <td>Pays-Bas</td>\n",
       "      <td>1</td>\n",
       "      <td>Groupe</td>\n",
       "      <td>Très bien</td>\n",
       "      <td>...</td>\n",
       "      <td>0</td>\n",
       "      <td>1</td>\n",
       "      <td>décembre</td>\n",
       "      <td>2019</td>\n",
       "      <td>12</td>\n",
       "      <td>2019-12-01</td>\n",
       "      <td>ed33c7d9-a17c-4d55-9a12-4f1b14c28805</td>\n",
       "      <td>Davy_Crockett_Ranch</td>\n",
       "      <td>1</td>\n",
       "      <td>Bungalow Tribu Pionnier (5 Adultes + 1 Enfant)</td>\n",
       "    </tr>\n",
       "    <tr>\n",
       "      <th>11215</th>\n",
       "      <td>f7ad1ebd-b9f5-4d05-948b-448d77751e5c</td>\n",
       "      <td>9.6</td>\n",
       "      <td>2</td>\n",
       "      <td>f36d966b-8876-45d8-85eb-7de5ec7bceaf</td>\n",
       "      <td>20200101</td>\n",
       "      <td>0988541e-0aa0-496b-b5be-ac6a8af083c3</td>\n",
       "      <td>La Réunion</td>\n",
       "      <td>1</td>\n",
       "      <td>Famille</td>\n",
       "      <td>Exceptionnel</td>\n",
       "      <td>...</td>\n",
       "      <td>0</td>\n",
       "      <td>1</td>\n",
       "      <td>janvier</td>\n",
       "      <td>2020</td>\n",
       "      <td>1</td>\n",
       "      <td>2020-01-01</td>\n",
       "      <td>73fe902d-e755-435c-83a6-df2e42c54ad8</td>\n",
       "      <td>Newport_Bay_Club</td>\n",
       "      <td>6</td>\n",
       "      <td>Chambre Club Compass (3 Adultes + 1 Enfant)</td>\n",
       "    </tr>\n",
       "    <tr>\n",
       "      <th>11216</th>\n",
       "      <td>2ee6251a-1b00-480a-9894-e1c018678b32</td>\n",
       "      <td>10.0</td>\n",
       "      <td>2</td>\n",
       "      <td>f36d966b-8876-45d8-85eb-7de5ec7bceaf</td>\n",
       "      <td>20200301</td>\n",
       "      <td>bffb4426-c483-408c-af68-7ade5b201e35</td>\n",
       "      <td>France</td>\n",
       "      <td>3</td>\n",
       "      <td>Famille</td>\n",
       "      <td>Exceptionnel</td>\n",
       "      <td>...</td>\n",
       "      <td>0</td>\n",
       "      <td>0</td>\n",
       "      <td>mars</td>\n",
       "      <td>2020</td>\n",
       "      <td>3</td>\n",
       "      <td>2020-03-01</td>\n",
       "      <td>73fe902d-e755-435c-83a6-df2e42c54ad8</td>\n",
       "      <td>Newport_Bay_Club</td>\n",
       "      <td>6</td>\n",
       "      <td>Chambre Club Compass (3 Adultes + 1 Enfant)</td>\n",
       "    </tr>\n",
       "    <tr>\n",
       "      <th>11217</th>\n",
       "      <td>9466fade-e8ef-428f-9609-cf16b054a697</td>\n",
       "      <td>8.0</td>\n",
       "      <td>2</td>\n",
       "      <td>2277a9aa-3602-472f-9414-6c19165d8094</td>\n",
       "      <td>20200301</td>\n",
       "      <td>b2b7d146-4f09-41b9-b347-592809655253</td>\n",
       "      <td>Belgique</td>\n",
       "      <td>2</td>\n",
       "      <td>Voyageur individuel</td>\n",
       "      <td>Très bien</td>\n",
       "      <td>...</td>\n",
       "      <td>1</td>\n",
       "      <td>0</td>\n",
       "      <td>mars</td>\n",
       "      <td>2020</td>\n",
       "      <td>3</td>\n",
       "      <td>2020-03-01</td>\n",
       "      <td>5737b66b-b96a-49eb-94e2-5c144f4e3334</td>\n",
       "      <td>Sequoia_Lodge</td>\n",
       "      <td>4</td>\n",
       "      <td>Chambre Standard proche Installations Hôtelièr...</td>\n",
       "    </tr>\n",
       "    <tr>\n",
       "      <th>11218</th>\n",
       "      <td>473468ff-0054-4174-a9a6-333f4f28f121</td>\n",
       "      <td>7.9</td>\n",
       "      <td>1</td>\n",
       "      <td>e05b3ac3-5ee6-45a2-bbd2-e7bff8b413b7</td>\n",
       "      <td>20200301</td>\n",
       "      <td>21456a19-8d95-4eb9-92ec-9141b44298df</td>\n",
       "      <td>Allemagne</td>\n",
       "      <td>3</td>\n",
       "      <td>Famille</td>\n",
       "      <td>Bien</td>\n",
       "      <td>...</td>\n",
       "      <td>0</td>\n",
       "      <td>0</td>\n",
       "      <td>mars</td>\n",
       "      <td>2020</td>\n",
       "      <td>3</td>\n",
       "      <td>2020-03-01</td>\n",
       "      <td>5737b66b-b96a-49eb-94e2-5c144f4e3334</td>\n",
       "      <td>Sequoia_Lodge</td>\n",
       "      <td>4</td>\n",
       "      <td>Chambre Golden Forest Club – Côté Lac (3 Adult...</td>\n",
       "    </tr>\n",
       "  </tbody>\n",
       "</table>\n",
       "<p>11219 rows × 22 columns</p>\n",
       "</div>"
      ],
      "text/plain": [
       "                             id_reservation  grade_review  level_grade_review  \\\n",
       "0      2631f321-fd21-4956-9f0b-0a4bc0e5dae7           9.0                   2   \n",
       "1      b09eac46-d540-4bc5-806a-a737c3606892           7.0                   1   \n",
       "2      578ba80f-d734-4c9f-99b4-ba43776b78ca          10.0                   2   \n",
       "3      04e84db4-103a-40c3-ba4b-736d188c09b2           9.0                   2   \n",
       "4      31c7fea5-f246-4e2b-8f5a-5833f8a42b2f           8.0                   2   \n",
       "...                                     ...           ...                 ...   \n",
       "11214  23012349-f892-4a8d-9dab-9ca659c0a1e7           8.0                   2   \n",
       "11215  f7ad1ebd-b9f5-4d05-948b-448d77751e5c           9.6                   2   \n",
       "11216  2ee6251a-1b00-480a-9894-e1c018678b32          10.0                   2   \n",
       "11217  9466fade-e8ef-428f-9609-cf16b054a697           8.0                   2   \n",
       "11218  473468ff-0054-4174-a9a6-333f4f28f121           7.9                   1   \n",
       "\n",
       "                                    id_room   id_date  \\\n",
       "0      3fd69528-3808-42db-8b85-5478b1092a14  20230101   \n",
       "1      3fd69528-3808-42db-8b85-5478b1092a14  20230101   \n",
       "2      3fd69528-3808-42db-8b85-5478b1092a14  20230101   \n",
       "3      3fd69528-3808-42db-8b85-5478b1092a14  20230101   \n",
       "4      3fd69528-3808-42db-8b85-5478b1092a14  20230101   \n",
       "...                                     ...       ...   \n",
       "11214  bee020b0-7a87-4430-bf70-b1499ff34967  20191201   \n",
       "11215  f36d966b-8876-45d8-85eb-7de5ec7bceaf  20200101   \n",
       "11216  f36d966b-8876-45d8-85eb-7de5ec7bceaf  20200301   \n",
       "11217  2277a9aa-3602-472f-9414-6c19165d8094  20200301   \n",
       "11218  e05b3ac3-5ee6-45a2-bbd2-e7bff8b413b7  20200301   \n",
       "\n",
       "                                  id_client      country  nuitee  \\\n",
       "0      1de67bb1-041c-4738-8d78-2caa0b156d42  Royaume-Uni       1   \n",
       "1      a211550b-d693-4eed-a030-f6a5ba6d1fbf     Belgique       1   \n",
       "2      5ef62afa-cd01-4faa-9fd8-2c87e9e5ad24  Royaume-Uni       2   \n",
       "3      71eb69c7-f1d1-47e3-88df-a90a4e255fda       France       1   \n",
       "4      ef9d9c0f-c192-413e-837d-1a9c6b1d0301     Pays-Bas       1   \n",
       "...                                     ...          ...     ...   \n",
       "11214  f3b755e3-c3b5-4412-bf4d-5d6c80f3952b     Pays-Bas       1   \n",
       "11215  0988541e-0aa0-496b-b5be-ac6a8af083c3   La Réunion       1   \n",
       "11216  bffb4426-c483-408c-af68-7ade5b201e35       France       3   \n",
       "11217  b2b7d146-4f09-41b9-b347-592809655253     Belgique       2   \n",
       "11218  21456a19-8d95-4eb9-92ec-9141b44298df    Allemagne       3   \n",
       "\n",
       "            traveler_infos                                       review_title  \\\n",
       "0                  Famille                            excellent and memorable   \n",
       "1                  Famille                                              Bien    \n",
       "2                  Famille                     amazing and very helpful staff   \n",
       "3                  Famille                   On a passé un très bon moment !!   \n",
       "4                  Famille  Fijn verblijf gehad, hebben nacht bijgeboekt e...   \n",
       "...                    ...                                                ...   \n",
       "11214               Groupe                                          Très bien   \n",
       "11215              Famille                                       Exceptionnel   \n",
       "11216              Famille                                       Exceptionnel   \n",
       "11217  Voyageur individuel                                          Très bien   \n",
       "11218              Famille                                              Bien    \n",
       "\n",
       "       ... usefulness_review delay_comment month_str  year month_num  \\\n",
       "0      ...                 0             0   janvier  2023         1   \n",
       "1      ...                 0             0   janvier  2023         1   \n",
       "2      ...                 0             0   janvier  2023         1   \n",
       "3      ...                 0             0   janvier  2023         1   \n",
       "4      ...                 0             0   janvier  2023         1   \n",
       "...    ...               ...           ...       ...   ...       ...   \n",
       "11214  ...                 0             1  décembre  2019        12   \n",
       "11215  ...                 0             1   janvier  2020         1   \n",
       "11216  ...                 0             0      mars  2020         3   \n",
       "11217  ...                 1             0      mars  2020         3   \n",
       "11218  ...                 0             0      mars  2020         3   \n",
       "\n",
       "             date                              id_hotel                hotel  \\\n",
       "0      2023-01-01  8e91af37-81a4-40d6-a123-708455813b70             Cheyenne   \n",
       "1      2023-01-01  8e91af37-81a4-40d6-a123-708455813b70             Cheyenne   \n",
       "2      2023-01-01  8e91af37-81a4-40d6-a123-708455813b70             Cheyenne   \n",
       "3      2023-01-01  8e91af37-81a4-40d6-a123-708455813b70             Cheyenne   \n",
       "4      2023-01-01  8e91af37-81a4-40d6-a123-708455813b70             Cheyenne   \n",
       "...           ...                                   ...                  ...   \n",
       "11214  2019-12-01  ed33c7d9-a17c-4d55-9a12-4f1b14c28805  Davy_Crockett_Ranch   \n",
       "11215  2020-01-01  73fe902d-e755-435c-83a6-df2e42c54ad8     Newport_Bay_Club   \n",
       "11216  2020-03-01  73fe902d-e755-435c-83a6-df2e42c54ad8     Newport_Bay_Club   \n",
       "11217  2020-03-01  5737b66b-b96a-49eb-94e2-5c144f4e3334        Sequoia_Lodge   \n",
       "11218  2020-03-01  5737b66b-b96a-49eb-94e2-5c144f4e3334        Sequoia_Lodge   \n",
       "\n",
       "      level_hotel                                          room_type  \n",
       "0               3                   Chambre Standard Woody's Roundup  \n",
       "1               3                   Chambre Standard Woody's Roundup  \n",
       "2               3                   Chambre Standard Woody's Roundup  \n",
       "3               3                   Chambre Standard Woody's Roundup  \n",
       "4               3                   Chambre Standard Woody's Roundup  \n",
       "...           ...                                                ...  \n",
       "11214           1     Bungalow Tribu Pionnier (5 Adultes + 1 Enfant)  \n",
       "11215           6        Chambre Club Compass (3 Adultes + 1 Enfant)  \n",
       "11216           6        Chambre Club Compass (3 Adultes + 1 Enfant)  \n",
       "11217           4  Chambre Standard proche Installations Hôtelièr...  \n",
       "11218           4  Chambre Golden Forest Club – Côté Lac (3 Adult...  \n",
       "\n",
       "[11219 rows x 22 columns]"
      ]
     },
     "execution_count": 4,
     "metadata": {},
     "output_type": "execute_result"
    }
   ],
   "source": [
    "try:\n",
    "    conn = psycopg2.connect(\n",
    "          user = \"m139\",\n",
    "          password = \"m139\",\n",
    "          host = \"db-etu.univ-lyon2.fr\",\n",
    "          port = \"5432\",\n",
    "          database = \"m139\"\n",
    "    )\n",
    "    cur = conn.cursor()\n",
    "    reservation = \"SELECT * FROM reservation\"\n",
    "    client = \"SELECT * FROM client\"\n",
    "    hotel = \"SELECT * FROM hotel\"\n",
    "    room = \"SELECT * FROM room\"\n",
    "    date = \"SELECT * FROM date\"\n",
    "\n",
    "    cur.execute(reservation)\n",
    "    reservation = pd.DataFrame(cur.fetchall(), columns=[desc[0] for desc in cur.description])\n",
    "    cur.execute(client)\n",
    "    client = pd.DataFrame(cur.fetchall(), columns=[desc[0] for desc in cur.description])\n",
    "    cur.execute(hotel)\n",
    "    hotel = pd.DataFrame(cur.fetchall(), columns=[desc[0] for desc in cur.description])\n",
    "    cur.execute(room)\n",
    "    room = pd.DataFrame(cur.fetchall(), columns=[desc[0] for desc in cur.description])\n",
    "    cur.execute(date)\n",
    "    date = pd.DataFrame(cur.fetchall(), columns=[desc[0] for desc in cur.description])\n",
    "\n",
    "    cur.close()\n",
    "    conn.close()\n",
    "except (Exception, psycopg2.Error) as error :\n",
    "    print (\"Erreur lors de la connexion à PostgreSQL\", error)\n",
    "\n",
    "\n",
    "hotel_room = hotel.merge(room, on=\"id_hotel\")\n",
    "res_client = reservation.merge(client, on=\"id_client\")\n",
    "res_client_date = res_client.merge(date, on=\"id_date\")\n",
    "df = res_client_date.merge(hotel_room, on=\"id_room\")\n",
    "df"
   ]
  },
  {
   "cell_type": "markdown",
   "id": "e7f3706d",
   "metadata": {},
   "source": [
    "# DB history"
   ]
  },
  {
   "cell_type": "code",
   "execution_count": 42,
   "id": "bc6313c6",
   "metadata": {},
   "outputs": [],
   "source": [
    "os.chdir(\"C:/Users/pauli/Documents/M2/Text Mining/projet/Disney-Text-Mining/fichiers\")\n",
    "mypath = os.getcwd()\n",
    "\n",
    "Scrapping_Sequoia_Lodge = pd.read_csv(str(mypath)+\"/Scrapping_Sequoia_Lodge.csv\",sep=';')\n",
    "Scrapping_Santa_Fe = pd.read_csv(str(mypath)+\"/Scrapping_Santa_Fe.csv\",sep=';')\n",
    "Scrapping_Newport_Bay_Club = pd.read_csv(str(mypath)+\"/Scrapping_Newport_Bay_Club.csv\",sep=';')\n",
    "Scrapping_New_York = pd.read_csv(str(mypath)+\"/Scrapping_New_York.csv\",sep=';')\n",
    "Scrapping_Davy_Crockett_Ranch = pd.read_csv(str(mypath)+\"/Scrapping_Davy_Crockett_Ranch.csv\",sep=';')"
   ]
  },
  {
   "cell_type": "code",
   "execution_count": 43,
   "id": "dcd1a5cd",
   "metadata": {},
   "outputs": [],
   "source": [
    "import datetime\n",
    "date = datetime.date.today()\n",
    "Scrapping_Sequoia_Lodge=Scrapping_Sequoia_Lodge.assign(execution_date= str(date))\n",
    "Scrapping_Santa_Fe=Scrapping_Santa_Fe.assign(execution_date= str(date))\n",
    "Scrapping_Newport_Bay_Club=Scrapping_Newport_Bay_Club.assign(execution_date= str(date))\n",
    "Scrapping_New_York=Scrapping_New_York.assign(execution_date= str(date))\n",
    "Scrapping_Davy_Crockett_Ranch=Scrapping_Davy_Crockett_Ranch.assign(execution_date=str(date))\n"
   ]
  },
  {
   "cell_type": "code",
   "execution_count": 44,
   "id": "50c5dfa5",
   "metadata": {},
   "outputs": [],
   "source": [
    "conn = psycopg2.connect(\n",
    "          user = \"m140\",\n",
    "          password = \"m140\",\n",
    "          host = \"db-etu.univ-lyon2.fr\",\n",
    "          port = \"5432\",\n",
    "          database = \"m140\"\n",
    "    )"
   ]
  },
  {
   "cell_type": "markdown",
   "id": "a4bca5c7",
   "metadata": {},
   "source": [
    "# drop history"
   ]
  },
  {
   "cell_type": "code",
   "execution_count": null,
   "id": "26d0ece9",
   "metadata": {},
   "outputs": [],
   "source": [
    "sql_drop_hist = '''DROP TABLE history; '''\n",
    "execute_req(conn, sql_drop_hist)"
   ]
  },
  {
   "cell_type": "markdown",
   "id": "63aa353e",
   "metadata": {},
   "source": [
    "# create histoory"
   ]
  },
  {
   "cell_type": "code",
   "execution_count": 45,
   "id": "367276bb",
   "metadata": {},
   "outputs": [],
   "source": [
    "sql_create_history = '''CREATE TABLE IF NOT EXISTS history(\n",
    "                Names TEXT,\n",
    "                Country TEXT,\n",
    "                room_type TEXT,\n",
    "                nuitee INT,\n",
    "                reservation_date TEXT,\n",
    "                traveler_infos TEXT,\n",
    "                date_review TEXT,\n",
    "                review_title TEXT,\n",
    "                grade_review TEXT,\n",
    "                positive_review TEXT,\n",
    "                negative_review TEXT,\n",
    "                usefulness_review INT,\n",
    "                UniqueID TEXT,\n",
    "                hotel TEXT,\n",
    "                execution_date TEXT\n",
    "                ); '''\n",
    "execute_req(conn, sql_create_history)"
   ]
  },
  {
   "cell_type": "markdown",
   "id": "e5cb52e3",
   "metadata": {},
   "source": [
    "# insert DF"
   ]
  },
  {
   "cell_type": "code",
   "execution_count": 47,
   "id": "0ffa3c7f",
   "metadata": {},
   "outputs": [
    {
     "name": "stdout",
     "output_type": "stream",
     "text": [
      "the dataframe is inserted\n"
     ]
    }
   ],
   "source": [
    "insert_values(conn, Scrapping_Sequoia_Lodge, 'history')"
   ]
  },
  {
   "cell_type": "code",
   "execution_count": 48,
   "id": "3fc1add5",
   "metadata": {},
   "outputs": [
    {
     "name": "stdout",
     "output_type": "stream",
     "text": [
      "the dataframe is inserted\n"
     ]
    }
   ],
   "source": [
    "insert_values(conn, Scrapping_Santa_Fe, 'history')"
   ]
  },
  {
   "cell_type": "code",
   "execution_count": 49,
   "id": "f7aa793e",
   "metadata": {},
   "outputs": [
    {
     "name": "stdout",
     "output_type": "stream",
     "text": [
      "the dataframe is inserted\n"
     ]
    }
   ],
   "source": [
    "insert_values(conn, Scrapping_Newport_Bay_Club, 'history')"
   ]
  },
  {
   "cell_type": "code",
   "execution_count": 50,
   "id": "7a584a1d",
   "metadata": {},
   "outputs": [
    {
     "name": "stdout",
     "output_type": "stream",
     "text": [
      "the dataframe is inserted\n"
     ]
    }
   ],
   "source": [
    "insert_values(conn, Scrapping_New_York, 'history')"
   ]
  },
  {
   "cell_type": "code",
   "execution_count": 51,
   "id": "1bddf3a7",
   "metadata": {},
   "outputs": [
    {
     "name": "stdout",
     "output_type": "stream",
     "text": [
      "the dataframe is inserted\n"
     ]
    }
   ],
   "source": [
    "insert_values(conn, Scrapping_Davy_Crockett_Ranch, 'history')"
   ]
  },
  {
   "cell_type": "markdown",
   "id": "0b5fef2f",
   "metadata": {},
   "source": [
    "# get history"
   ]
  },
  {
   "cell_type": "code",
   "execution_count": 57,
   "id": "9983c261",
   "metadata": {},
   "outputs": [
    {
     "name": "stdout",
     "output_type": "stream",
     "text": [
      "['2023-01-19']\n"
     ]
    }
   ],
   "source": [
    "try :\n",
    "    conn = psycopg2.connect(\n",
    "        user = \"m140\",\n",
    "        password = \"m140\",\n",
    "        host = \"db-etu.univ-lyon2.fr\",\n",
    "        port = \"5432\",\n",
    "        database = \"m140\"\n",
    "    )\n",
    "\n",
    "    cur = conn.cursor()\n",
    "\n",
    "    history = \"SELECT * FROM history WHERE execution_date = %s\"\n",
    "    cur.execute(history, (str(date),))\n",
    "    history = pd.DataFrame(cur.fetchall(), columns=[desc[0] for desc in cur.description])\n",
    "    cur.close()\n",
    "    conn.close()\n",
    "except (Exception, psycopg2.Error) as error :\n",
    "    print (\"Erreur lors de la connexion à PostgreSQL\", error)\n",
    "print(history[\"execution_date\"].unique())"
   ]
  }
 ],
 "metadata": {
  "kernelspec": {
   "display_name": "Python 3 (ipykernel)",
   "language": "python",
   "name": "python3"
  },
  "language_info": {
   "codemirror_mode": {
    "name": "ipython",
    "version": 3
   },
   "file_extension": ".py",
   "mimetype": "text/x-python",
   "name": "python",
   "nbconvert_exporter": "python",
   "pygments_lexer": "ipython3",
   "version": "3.9.15"
  },
  "vscode": {
   "interpreter": {
    "hash": "333d2c9757a75282c9d4867cccb346dd97fbdd6438562bec117fa31e687fe23c"
   }
  }
 },
 "nbformat": 4,
 "nbformat_minor": 5
}
