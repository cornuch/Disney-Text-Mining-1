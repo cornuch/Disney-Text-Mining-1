{
 "cells": [
  {
   "cell_type": "code",
   "execution_count": 3,
   "id": "4e4ec051",
   "metadata": {},
   "outputs": [],
   "source": [
    "import psycopg2\n"
   ]
  },
  {
   "cell_type": "markdown",
   "id": "501182b0",
   "metadata": {},
   "source": [
    "# Oracle"
   ]
  },
  {
   "cell_type": "code",
   "execution_count": null,
   "id": "660db920",
   "metadata": {},
   "outputs": [],
   "source": []
  },
  {
   "cell_type": "markdown",
   "id": "0864dd8b",
   "metadata": {},
   "source": [
    "# MySQL"
   ]
  },
  {
   "cell_type": "code",
   "execution_count": null,
   "id": "084fd65a",
   "metadata": {},
   "outputs": [],
   "source": []
  },
  {
   "cell_type": "markdown",
   "id": "b16942e4",
   "metadata": {},
   "source": [
    "# PostgreSQL"
   ]
  },
  {
   "cell_type": "code",
   "execution_count": null,
   "id": "a39fb6a0",
   "metadata": {},
   "outputs": [],
   "source": [
    "#https://waytolearnx.com/2020/06/connexion-a-une-base-de-donnees-postgresql-en-python.html"
   ]
  },
  {
   "cell_type": "code",
   "execution_count": null,
   "id": "0b46d16c",
   "metadata": {},
   "outputs": [],
   "source": [
    "df=pd.read_csv(\"https://raw.githubusercontent.com/paulineattal/Disney-Text-Mining/main/fichiers/df_clean.csv\",sep=';')"
   ]
  },
  {
   "cell_type": "markdown",
   "id": "7493b1d9",
   "metadata": {},
   "source": [
    "## create and insert tables"
   ]
  },
  {
   "cell_type": "code",
   "execution_count": 5,
   "id": "ad9e13c3",
   "metadata": {},
   "outputs": [
    {
     "name": "stdout",
     "output_type": "stream",
     "text": [
      "Erreur lors de l'insertion dans la table person relation \"person\" already exists\n",
      "\n"
     ]
    }
   ],
   "source": [
    "import psycopg2\n",
    "try:\n",
    "    conn = psycopg2.connect(\n",
    "          user = \"m139\",\n",
    "          password = \"m139\",\n",
    "          host = \"db-etu.univ-lyon2.fr\",\n",
    "          port = \"5432\",\n",
    "          database = \"m139\"\n",
    "    )\n",
    "    \n",
    "    cur_create = conn.cursor()\n",
    "    sql_create = '''CREATE TABLE person(\n",
    "        ID INT PRIMARY KEY NOT NULL,\n",
    "        name TEXT NOT NULL,\n",
    "        address TEXT NOT NULL\n",
    "      ); '''\n",
    "    cur_create.execute(sql_create)\n",
    "    \n",
    "    cur_insert = conn.cursor()\n",
    "    sql_insert = \"\"\"INSERT INTO person (id, name, address) VALUES (%s,%s,%s)\"\"\"\n",
    "    value = (1, 'Alex', 'Paris')\n",
    "    cur_insert.execute(sql_insert, value)\n",
    "    \n",
    "    conn.commit()\n",
    "    print (\"enregistrement inséré avec succès dans la table person.\")\n",
    "    print(\"Table créée avec succès dans PostgreSQL\")\n",
    "    \n",
    "  \n",
    "    #fermeture de la connexion à la base de données\n",
    "    cur.close()\n",
    "    conn.close()\n",
    "    print(\"La connexion PostgreSQL est fermée\")\n",
    "except (Exception, psycopg2.Error) as error :\n",
    "    print (\"Erreur lors de l'insertion dans la table person\", error)"
   ]
  },
  {
   "cell_type": "code",
   "execution_count": null,
   "id": "1ee225c8",
   "metadata": {},
   "outputs": [],
   "source": []
  },
  {
   "cell_type": "markdown",
   "id": "32fd51b8",
   "metadata": {},
   "source": [
    "## get tables"
   ]
  },
  {
   "cell_type": "code",
   "execution_count": null,
   "id": "8ddd74d2",
   "metadata": {},
   "outputs": [],
   "source": [
    "try:\n",
    "    conn = psycopg2.connect(\n",
    "          user = \"m139\",\n",
    "          password = \"m139\",\n",
    "          host = \"db-etu.univ-lyon2.fr\",\n",
    "          port = \"5432\",\n",
    "          database = \"disney\"\n",
    "    )\n",
    "    cur = conn.cursor()\n",
    "    sql = \"SELECT * FROM table\"\n",
    "\n",
    "    cur.execute(sql)\n",
    "    res = cur.fetchall()\n",
    "\n",
    "    cur.close()\n",
    "    conn.close()\n",
    "except (Exception, psycopg2.Error) as error :\n",
    "    print (\"Erreur lors de la connexion à PostgreSQL\", error)\n",
    "\n",
    "\n",
    "#recuperer les donnees de table\n",
    "    col1 = []\n",
    "    col2 = []\n",
    "    col3 = []\n",
    "    for i in range(0, len(res)):\n",
    "        col1.append(res[i][0])\n",
    "        col2.append(res[i][1])\n",
    "        col3.append(res[i][2])\n",
    "        \n",
    "    #regrouper les donnees dans un dataframe pour la construction de la figure \n",
    "    table = pd.DataFrame({\n",
    "        \"col1\" :  col2,  \n",
    "        \"col2\" : col2,\n",
    "        \"col3\": col3\n",
    "    })"
   ]
  },
  {
   "cell_type": "code",
   "execution_count": null,
   "id": "dbf6b386",
   "metadata": {},
   "outputs": [],
   "source": []
  },
  {
   "cell_type": "code",
   "execution_count": null,
   "id": "bc6313c6",
   "metadata": {},
   "outputs": [],
   "source": []
  },
  {
   "cell_type": "code",
   "execution_count": null,
   "id": "0ffa3c7f",
   "metadata": {},
   "outputs": [],
   "source": []
  }
 ],
 "metadata": {
  "kernelspec": {
   "display_name": "Python 3 (ipykernel)",
   "language": "python",
   "name": "python3"
  },
  "language_info": {
   "codemirror_mode": {
    "name": "ipython",
    "version": 3
   },
   "file_extension": ".py",
   "mimetype": "text/x-python",
   "name": "python",
   "nbconvert_exporter": "python",
   "pygments_lexer": "ipython3",
   "version": "3.9.15"
  }
 },
 "nbformat": 4,
 "nbformat_minor": 5
}
