{
 "cells": [
  {
   "cell_type": "code",
   "execution_count": 3,
   "id": "4e4ec051",
   "metadata": {},
   "outputs": [],
   "source": [
    "import psycopg2\n",
    "import pandas as pd\n",
    "import psycopg2.extras as extras\n",
    "import os\n",
    "from os import listdir\n",
    "from os.path import isfile, join"
   ]
  },
  {
   "cell_type": "code",
   "execution_count": 8,
   "id": "4aa3c3dd",
   "metadata": {},
   "outputs": [],
   "source": [
    "os.chdir(\"C:/Users/pauli/Documents/M2/Text Mining/projet/Disney-Text-Mining/fichiers/tables\")\n",
    "mypath = os.getcwd()\n",
    "\n",
    "\n",
    "client = pd.read_csv(str(mypath)+\"/client.csv\",sep=';')\n",
    "date = pd.read_csv(str(mypath)+\"/date.csv\",sep=';')\n",
    "hotel = pd.read_csv(str(mypath)+\"/hotel.csv\",sep=';')\n",
    "room = pd.read_csv(str(mypath)+\"/room.csv\",sep=';')\n",
    "reservation = pd.read_csv(str(mypath)+\"/reservation.csv\",sep=';')"
   ]
  },
  {
   "cell_type": "markdown",
   "id": "501182b0",
   "metadata": {},
   "source": [
    "# Oracle"
   ]
  },
  {
   "cell_type": "code",
   "execution_count": 88,
   "id": "660db920",
   "metadata": {},
   "outputs": [],
   "source": [
    "#??\n",
    "#compass club \n",
    "#empire state club "
   ]
  },
  {
   "cell_type": "markdown",
   "id": "0864dd8b",
   "metadata": {},
   "source": [
    "# MySQL"
   ]
  },
  {
   "cell_type": "code",
   "execution_count": 89,
   "id": "084fd65a",
   "metadata": {},
   "outputs": [],
   "source": [
    "#??"
   ]
  },
  {
   "cell_type": "markdown",
   "id": "b16942e4",
   "metadata": {},
   "source": [
    "# PostgreSQL"
   ]
  },
  {
   "cell_type": "code",
   "execution_count": 90,
   "id": "a39fb6a0",
   "metadata": {},
   "outputs": [],
   "source": [
    "#https://waytolearnx.com/2020/06/connexion-a-une-base-de-donnees-postgresql-en-python.html"
   ]
  },
  {
   "cell_type": "code",
   "execution_count": 10,
   "id": "d837dc7b",
   "metadata": {},
   "outputs": [],
   "source": [
    "conn = psycopg2.connect(\n",
    "          user = \"m139\",\n",
    "          password = \"m139\",\n",
    "          host = \"db-etu.univ-lyon2.fr\",\n",
    "          port = \"5432\",\n",
    "          database = \"m139\"\n",
    "    )"
   ]
  },
  {
   "cell_type": "markdown",
   "id": "1c0afedb",
   "metadata": {},
   "source": [
    "# execute request "
   ]
  },
  {
   "cell_type": "code",
   "execution_count": 14,
   "id": "ab89a3e5",
   "metadata": {},
   "outputs": [],
   "source": [
    "def execute_req(conn, req):\n",
    "    try: \n",
    "        cursor = conn.cursor()\n",
    "        cursor.execute(req)\n",
    "        conn.commit()\n",
    "        cursor.close()\n",
    "    except (Exception, psycopg2.Error) as error :\n",
    "        print (\"Erreur lors de la création du table PostgreSQL\", error)"
   ]
  },
  {
   "cell_type": "markdown",
   "id": "6b717466",
   "metadata": {},
   "source": [
    "# drop"
   ]
  },
  {
   "cell_type": "code",
   "execution_count": 15,
   "id": "74429692",
   "metadata": {},
   "outputs": [],
   "source": [
    "sql_drop_reservation = '''DROP TABLE reservation; '''\n",
    "execute_req(conn, sql_drop_reservation)"
   ]
  },
  {
   "cell_type": "code",
   "execution_count": 16,
   "id": "dd26cb21",
   "metadata": {},
   "outputs": [],
   "source": [
    "sql_drop_date = '''DROP TABLE date; '''\n",
    "execute_req(conn, sql_drop_date)"
   ]
  },
  {
   "cell_type": "code",
   "execution_count": 17,
   "id": "063176ac",
   "metadata": {},
   "outputs": [],
   "source": [
    "sql_drop_client = '''DROP TABLE client; '''\n",
    "execute_req(conn, sql_drop_client)"
   ]
  },
  {
   "cell_type": "code",
   "execution_count": 18,
   "id": "4ecfaeda",
   "metadata": {},
   "outputs": [],
   "source": [
    "sql_drop_room = '''DROP TABLE room; '''\n",
    "execute_req(conn, sql_drop_room)"
   ]
  },
  {
   "cell_type": "code",
   "execution_count": 19,
   "id": "edbd20c9",
   "metadata": {},
   "outputs": [],
   "source": [
    "sql_drop_hotel = '''DROP TABLE hotel; '''\n",
    "execute_req(conn, sql_drop_hotel)"
   ]
  },
  {
   "cell_type": "markdown",
   "id": "7493b1d9",
   "metadata": {},
   "source": [
    "## create tables"
   ]
  },
  {
   "cell_type": "code",
   "execution_count": 21,
   "id": "0eb7edc1",
   "metadata": {},
   "outputs": [],
   "source": [
    "sql_create_hotel = '''CREATE TABLE HOTEL(\n",
    "    id_hotel TEXT PRIMARY KEY NOT NULL,\n",
    "    hotel VARCHAR(100)\n",
    "  ); '''\n",
    "\n",
    "execute_req(conn, sql_create_hotel)"
   ]
  },
  {
   "cell_type": "code",
   "execution_count": 22,
   "id": "3221f962",
   "metadata": {},
   "outputs": [],
   "source": [
    "sql_create_room = '''CREATE TABLE ROOM(\n",
    "    id_room TEXT PRIMARY KEY NOT NULL,\n",
    "    room_type TEXT,\n",
    "    id_hotel TEXT,\n",
    "    CONSTRAINT ROOM_ibfk_1 FOREIGN KEY (id_hotel) REFERENCES HOTEL(id_hotel)\n",
    "  ); '''\n",
    "execute_req(conn, sql_create_room)"
   ]
  },
  {
   "cell_type": "code",
   "execution_count": 23,
   "id": "966e5911",
   "metadata": {},
   "outputs": [],
   "source": [
    "sql_create_client = '''CREATE TABLE CLIENT(\n",
    "    \"id_client\" TEXT PRIMARY KEY NOT NULL,\n",
    "    country TEXT,\n",
    "    nb_night INT,\n",
    "    traveler_infos TEXT,\n",
    "    review_title TEXT, \n",
    "    positive_review TEXT,\n",
    "    negative_review TEXT, \n",
    "    usefulness_review TEXT\n",
    "  ); '''\n",
    "execute_req(conn, sql_create_client)\n"
   ]
  },
  {
   "cell_type": "code",
   "execution_count": 24,
   "id": "50563b5d",
   "metadata": {},
   "outputs": [],
   "source": [
    "sql_create_date = '''CREATE TABLE DATE(\n",
    "    id_date TEXT PRIMARY KEY NOT NULL,\n",
    "    month_str TEXT,\n",
    "    year INT,\n",
    "    month_num INT,\n",
    "    date DATE\n",
    "  ); '''\n",
    "execute_req(conn, sql_create_date)\n"
   ]
  },
  {
   "cell_type": "code",
   "execution_count": 25,
   "id": "ad9e13c3",
   "metadata": {},
   "outputs": [],
   "source": [
    "sql_create_res = '''CREATE TABLE RESERVATION(\n",
    "    id_reservation TEXT PRIMARY KEY NOT NULL,\n",
    "    grade_review FLOAT,\n",
    "    level_grade_review INT,\n",
    "    id_room TEXT,\n",
    "    id_date TEXT,\n",
    "    id_client TEXT,\n",
    "    CONSTRAINT RESERVATION_ibfk_1 FOREIGN KEY (id_room) REFERENCES ROOM(id_room),\n",
    "    CONSTRAINT RESERVATION_ibfk_2 FOREIGN KEY (id_date) REFERENCES DATE(id_date),\n",
    "    CONSTRAINT RESERVATION_ibfk_3 FOREIGN KEY (id_client) REFERENCES CLIENT(id_client)\n",
    "  ); '''\n",
    "execute_req(conn, sql_create_res)\n",
    "    "
   ]
  },
  {
   "cell_type": "markdown",
   "id": "bf57aa0e",
   "metadata": {},
   "source": [
    "# insert values"
   ]
  },
  {
   "cell_type": "code",
   "execution_count": 26,
   "id": "455a4228",
   "metadata": {},
   "outputs": [],
   "source": [
    "def insert_values(conn, df, table):\n",
    "    tuples = [tuple(x) for x in df.to_numpy()]\n",
    "    cols = ','.join(list(df.columns))\n",
    "    # SQL query to execute\n",
    "    query = \"INSERT INTO %s(%s) VALUES %%s\" % (table, cols)\n",
    "    cursor = conn.cursor()\n",
    "    try:\n",
    "        extras.execute_values(cursor, query, tuples)\n",
    "        conn.commit()\n",
    "    except (Exception, psycopg2.DatabaseError) as error:\n",
    "        print(\"Error: %s\" % error)\n",
    "        conn.rollback()\n",
    "        cursor.close()\n",
    "        return 1\n",
    "    print(\"the dataframe is inserted\")\n",
    "    cursor.close()"
   ]
  },
  {
   "cell_type": "code",
   "execution_count": 27,
   "id": "b3e7d037",
   "metadata": {},
   "outputs": [
    {
     "name": "stdout",
     "output_type": "stream",
     "text": [
      "the dataframe is inserted\n"
     ]
    }
   ],
   "source": [
    "insert_values(conn, date, 'date')"
   ]
  },
  {
   "cell_type": "code",
   "execution_count": 28,
   "id": "b223370c",
   "metadata": {},
   "outputs": [
    {
     "name": "stdout",
     "output_type": "stream",
     "text": [
      "the dataframe is inserted\n"
     ]
    }
   ],
   "source": [
    "insert_values(conn, hotel, 'hotel')"
   ]
  },
  {
   "cell_type": "code",
   "execution_count": 29,
   "id": "08d04315",
   "metadata": {},
   "outputs": [
    {
     "name": "stdout",
     "output_type": "stream",
     "text": [
      "the dataframe is inserted\n"
     ]
    }
   ],
   "source": [
    "insert_values(conn, room, 'room')"
   ]
  },
  {
   "cell_type": "code",
   "execution_count": 30,
   "id": "b8cf118b",
   "metadata": {},
   "outputs": [
    {
     "name": "stdout",
     "output_type": "stream",
     "text": [
      "the dataframe is inserted\n"
     ]
    }
   ],
   "source": [
    "insert_values(conn, client, 'client')"
   ]
  },
  {
   "cell_type": "code",
   "execution_count": 31,
   "id": "4cce91a2",
   "metadata": {},
   "outputs": [
    {
     "name": "stdout",
     "output_type": "stream",
     "text": [
      "Error: duplicate key value violates unique constraint \"reservation_pkey\"\n",
      "DETAIL:  Key (id_reservation)=(cd7bb95e-305e-45ac-a69e-027cf589187f) already exists.\n",
      "\n"
     ]
    },
    {
     "data": {
      "text/plain": [
       "1"
      ]
     },
     "execution_count": 31,
     "metadata": {},
     "output_type": "execute_result"
    }
   ],
   "source": [
    "insert_values(conn, reservation, 'reservation')"
   ]
  },
  {
   "cell_type": "markdown",
   "id": "32fd51b8",
   "metadata": {},
   "source": [
    "## get tables"
   ]
  },
  {
   "cell_type": "code",
   "execution_count": 41,
   "id": "8ddd74d2",
   "metadata": {},
   "outputs": [
    {
     "data": {
      "text/html": [
       "<div>\n",
       "<style scoped>\n",
       "    .dataframe tbody tr th:only-of-type {\n",
       "        vertical-align: middle;\n",
       "    }\n",
       "\n",
       "    .dataframe tbody tr th {\n",
       "        vertical-align: top;\n",
       "    }\n",
       "\n",
       "    .dataframe thead th {\n",
       "        text-align: right;\n",
       "    }\n",
       "</style>\n",
       "<table border=\"1\" class=\"dataframe\">\n",
       "  <thead>\n",
       "    <tr style=\"text-align: right;\">\n",
       "      <th></th>\n",
       "      <th>id_reservation</th>\n",
       "      <th>grade_review</th>\n",
       "      <th>level_grade_review</th>\n",
       "      <th>id_room</th>\n",
       "      <th>id_date</th>\n",
       "      <th>id_client</th>\n",
       "      <th>country</th>\n",
       "      <th>nb_night</th>\n",
       "      <th>traveler_infos</th>\n",
       "      <th>review_title</th>\n",
       "      <th>positive_review</th>\n",
       "      <th>negative_review</th>\n",
       "      <th>usefulness_review</th>\n",
       "      <th>month_str</th>\n",
       "      <th>year</th>\n",
       "      <th>month_num</th>\n",
       "      <th>date</th>\n",
       "      <th>id_hotel</th>\n",
       "      <th>hotel</th>\n",
       "      <th>room_type</th>\n",
       "    </tr>\n",
       "  </thead>\n",
       "  <tbody>\n",
       "    <tr>\n",
       "      <th>0</th>\n",
       "      <td>e2f7f128-60d0-4262-a3b4-85c8296e8e7f</td>\n",
       "      <td>10.0</td>\n",
       "      <td>2</td>\n",
       "      <td>4e6a65e7-b98b-4a6b-8685-f3f0d2bc6387</td>\n",
       "      <td>20221001</td>\n",
       "      <td>30a40a08-3cd8-44c4-a11e-d8c157241dfd</td>\n",
       "      <td>La Réunion</td>\n",
       "      <td>2</td>\n",
       "      <td>Famille</td>\n",
       "      <td>Inoubliable</td>\n",
       "      <td>Le petit déjeuner et l'excellent buffet pour l...</td>\n",
       "      <td>NaN</td>\n",
       "      <td>NaN</td>\n",
       "      <td>octobre</td>\n",
       "      <td>2022</td>\n",
       "      <td>10</td>\n",
       "      <td>2022-10-01</td>\n",
       "      <td>e8418aca-ee35-4888-8c17-fd4c80c38254</td>\n",
       "      <td>Disney's Newport Bay Club</td>\n",
       "      <td>Chambre Supérieure - Côté Lac</td>\n",
       "    </tr>\n",
       "    <tr>\n",
       "      <th>1</th>\n",
       "      <td>94f75fd8-78f1-4d28-8b15-927452633c15</td>\n",
       "      <td>5.0</td>\n",
       "      <td>0</td>\n",
       "      <td>4e6a65e7-b98b-4a6b-8685-f3f0d2bc6387</td>\n",
       "      <td>20221001</td>\n",
       "      <td>e6cbd030-fe06-4de2-a8af-1bb41139c0f4</td>\n",
       "      <td>France</td>\n",
       "      <td>1</td>\n",
       "      <td>Groupe</td>\n",
       "      <td>tres bon séjour</td>\n",
       "      <td>La proximité du parc, le décor et thème de l’h...</td>\n",
       "      <td>chambre très loin de l’entrée, j’ai du travers...</td>\n",
       "      <td>NaN</td>\n",
       "      <td>octobre</td>\n",
       "      <td>2022</td>\n",
       "      <td>10</td>\n",
       "      <td>2022-10-01</td>\n",
       "      <td>e8418aca-ee35-4888-8c17-fd4c80c38254</td>\n",
       "      <td>Disney's Newport Bay Club</td>\n",
       "      <td>Chambre Supérieure - Côté Lac</td>\n",
       "    </tr>\n",
       "    <tr>\n",
       "      <th>2</th>\n",
       "      <td>04cb3f22-d979-4b63-8dd0-c91e55972cae</td>\n",
       "      <td>8.0</td>\n",
       "      <td>2</td>\n",
       "      <td>4e6a65e7-b98b-4a6b-8685-f3f0d2bc6387</td>\n",
       "      <td>20221001</td>\n",
       "      <td>9c93724c-03fc-4d96-a2af-b0e68f2b14e9</td>\n",
       "      <td>France</td>\n",
       "      <td>1</td>\n",
       "      <td>Famille</td>\n",
       "      <td>Bien</td>\n",
       "      <td>Tout le reste une fois rentré et passé la sécu...</td>\n",
       "      <td>La sécurité extérieure devant l'hôtel ,les age...</td>\n",
       "      <td>NaN</td>\n",
       "      <td>octobre</td>\n",
       "      <td>2022</td>\n",
       "      <td>10</td>\n",
       "      <td>2022-10-01</td>\n",
       "      <td>e8418aca-ee35-4888-8c17-fd4c80c38254</td>\n",
       "      <td>Disney's Newport Bay Club</td>\n",
       "      <td>Chambre Supérieure - Côté Lac</td>\n",
       "    </tr>\n",
       "    <tr>\n",
       "      <th>3</th>\n",
       "      <td>aa1676ec-385d-40bc-9f5b-86105841a092</td>\n",
       "      <td>9.0</td>\n",
       "      <td>2</td>\n",
       "      <td>4e6a65e7-b98b-4a6b-8685-f3f0d2bc6387</td>\n",
       "      <td>20221001</td>\n",
       "      <td>e14a317b-80b4-4b23-84a6-d9187245bbc0</td>\n",
       "      <td>France</td>\n",
       "      <td>1</td>\n",
       "      <td>Couple</td>\n",
       "      <td>une belle expérience Disney</td>\n",
       "      <td>ayant obtenu une chambre médiocre l’établissem...</td>\n",
       "      <td>les chambres standards ne sont pas super inson...</td>\n",
       "      <td>NaN</td>\n",
       "      <td>octobre</td>\n",
       "      <td>2022</td>\n",
       "      <td>10</td>\n",
       "      <td>2022-10-01</td>\n",
       "      <td>e8418aca-ee35-4888-8c17-fd4c80c38254</td>\n",
       "      <td>Disney's Newport Bay Club</td>\n",
       "      <td>Chambre Supérieure - Côté Lac</td>\n",
       "    </tr>\n",
       "    <tr>\n",
       "      <th>4</th>\n",
       "      <td>76deccba-eb8a-4b86-b37a-20f5de43e6dd</td>\n",
       "      <td>10.0</td>\n",
       "      <td>2</td>\n",
       "      <td>4e6a65e7-b98b-4a6b-8685-f3f0d2bc6387</td>\n",
       "      <td>20221001</td>\n",
       "      <td>f1ac7372-6598-45b7-a608-1a97c55d47ec</td>\n",
       "      <td>Irlande</td>\n",
       "      <td>1</td>\n",
       "      <td>Famille</td>\n",
       "      <td>Séjour en famille</td>\n",
       "      <td>La cohérence du décor</td>\n",
       "      <td>On devrait pouvoir choisir ch avec bain ou douche</td>\n",
       "      <td>NaN</td>\n",
       "      <td>octobre</td>\n",
       "      <td>2022</td>\n",
       "      <td>10</td>\n",
       "      <td>2022-10-01</td>\n",
       "      <td>e8418aca-ee35-4888-8c17-fd4c80c38254</td>\n",
       "      <td>Disney's Newport Bay Club</td>\n",
       "      <td>Chambre Supérieure - Côté Lac</td>\n",
       "    </tr>\n",
       "    <tr>\n",
       "      <th>...</th>\n",
       "      <td>...</td>\n",
       "      <td>...</td>\n",
       "      <td>...</td>\n",
       "      <td>...</td>\n",
       "      <td>...</td>\n",
       "      <td>...</td>\n",
       "      <td>...</td>\n",
       "      <td>...</td>\n",
       "      <td>...</td>\n",
       "      <td>...</td>\n",
       "      <td>...</td>\n",
       "      <td>...</td>\n",
       "      <td>...</td>\n",
       "      <td>...</td>\n",
       "      <td>...</td>\n",
       "      <td>...</td>\n",
       "      <td>...</td>\n",
       "      <td>...</td>\n",
       "      <td>...</td>\n",
       "      <td>...</td>\n",
       "    </tr>\n",
       "    <tr>\n",
       "      <th>2267</th>\n",
       "      <td>9b6e618f-2f57-484f-9ef9-82b545517aa1</td>\n",
       "      <td>10.0</td>\n",
       "      <td>2</td>\n",
       "      <td>861f1144-1f79-4db3-b117-bf58423f6f1c</td>\n",
       "      <td>20200201</td>\n",
       "      <td>62e7ddec-6c7d-4433-9be4-30cc3d03157b</td>\n",
       "      <td>Japon</td>\n",
       "      <td>3</td>\n",
       "      <td>Famille</td>\n",
       "      <td>Décevant</td>\n",
       "      <td>NaN</td>\n",
       "      <td>NaN</td>\n",
       "      <td>NaN</td>\n",
       "      <td>février</td>\n",
       "      <td>2020</td>\n",
       "      <td>2</td>\n",
       "      <td>2020-02-01</td>\n",
       "      <td>e8418aca-ee35-4888-8c17-fd4c80c38254</td>\n",
       "      <td>Disney's Newport Bay Club</td>\n",
       "      <td>Chambre Club Compass (4 Adultes)</td>\n",
       "    </tr>\n",
       "    <tr>\n",
       "      <th>2268</th>\n",
       "      <td>7b80b755-cb5b-4bc5-a568-e1e0a165f233</td>\n",
       "      <td>9.0</td>\n",
       "      <td>2</td>\n",
       "      <td>861f1144-1f79-4db3-b117-bf58423f6f1c</td>\n",
       "      <td>20200801</td>\n",
       "      <td>83d62bc3-4fd1-4f43-8de6-a8555c9a5927</td>\n",
       "      <td>Portugal</td>\n",
       "      <td>2</td>\n",
       "      <td>Couple</td>\n",
       "      <td>Fabuleux</td>\n",
       "      <td>NaN</td>\n",
       "      <td>NaN</td>\n",
       "      <td>NaN</td>\n",
       "      <td>août</td>\n",
       "      <td>2020</td>\n",
       "      <td>8</td>\n",
       "      <td>2020-08-01</td>\n",
       "      <td>e8418aca-ee35-4888-8c17-fd4c80c38254</td>\n",
       "      <td>Disney's Newport Bay Club</td>\n",
       "      <td>Chambre Club Compass (4 Adultes)</td>\n",
       "    </tr>\n",
       "    <tr>\n",
       "      <th>2269</th>\n",
       "      <td>7395e05e-fc77-43e9-88ea-ca71301ab8b9</td>\n",
       "      <td>9.2</td>\n",
       "      <td>2</td>\n",
       "      <td>918ab8e7-aa42-4cac-b46e-3a6e669e79f2</td>\n",
       "      <td>20200201</td>\n",
       "      <td>0de80282-f735-4734-bc45-3d12b86cf776</td>\n",
       "      <td>Japon</td>\n",
       "      <td>2</td>\n",
       "      <td>Groupe</td>\n",
       "      <td>Passable</td>\n",
       "      <td>NaN</td>\n",
       "      <td>NaN</td>\n",
       "      <td>NaN</td>\n",
       "      <td>février</td>\n",
       "      <td>2020</td>\n",
       "      <td>2</td>\n",
       "      <td>2020-02-01</td>\n",
       "      <td>e8418aca-ee35-4888-8c17-fd4c80c38254</td>\n",
       "      <td>Disney's Newport Bay Club</td>\n",
       "      <td>Chambre Club Compass (1 Adulte + 3 Enfants)</td>\n",
       "    </tr>\n",
       "    <tr>\n",
       "      <th>2270</th>\n",
       "      <td>aa31e988-4874-4efc-a7b8-91815d993850</td>\n",
       "      <td>3.0</td>\n",
       "      <td>0</td>\n",
       "      <td>85469dd9-6e3a-4395-bef8-3d4835c74cc2</td>\n",
       "      <td>20200701</td>\n",
       "      <td>b78aeb7c-7478-40af-acc2-aa507c854665</td>\n",
       "      <td>Belgique</td>\n",
       "      <td>1</td>\n",
       "      <td>Groupe</td>\n",
       "      <td>Exceptionnel</td>\n",
       "      <td>NaN</td>\n",
       "      <td>NaN</td>\n",
       "      <td>NaN</td>\n",
       "      <td>juillet</td>\n",
       "      <td>2020</td>\n",
       "      <td>7</td>\n",
       "      <td>2020-07-01</td>\n",
       "      <td>e8418aca-ee35-4888-8c17-fd4c80c38254</td>\n",
       "      <td>Disney's Newport Bay Club</td>\n",
       "      <td>Chambre Compass Club – Côté Lac (4 Adultes)</td>\n",
       "    </tr>\n",
       "    <tr>\n",
       "      <th>2271</th>\n",
       "      <td>94341dd4-f58f-452a-b655-817e4c49448c</td>\n",
       "      <td>9.2</td>\n",
       "      <td>2</td>\n",
       "      <td>85469dd9-6e3a-4395-bef8-3d4835c74cc2</td>\n",
       "      <td>20191201</td>\n",
       "      <td>6c96dd37-8297-473c-a815-c133f0a18748</td>\n",
       "      <td>Chypre</td>\n",
       "      <td>1</td>\n",
       "      <td>Famille</td>\n",
       "      <td>Exceptionnel</td>\n",
       "      <td>NaN</td>\n",
       "      <td>NaN</td>\n",
       "      <td>NaN</td>\n",
       "      <td>décembre</td>\n",
       "      <td>2019</td>\n",
       "      <td>12</td>\n",
       "      <td>2019-12-01</td>\n",
       "      <td>e8418aca-ee35-4888-8c17-fd4c80c38254</td>\n",
       "      <td>Disney's Newport Bay Club</td>\n",
       "      <td>Chambre Compass Club – Côté Lac (4 Adultes)</td>\n",
       "    </tr>\n",
       "  </tbody>\n",
       "</table>\n",
       "<p>2272 rows × 20 columns</p>\n",
       "</div>"
      ],
      "text/plain": [
       "                            id_reservation  grade_review  level_grade_review  \\\n",
       "0     e2f7f128-60d0-4262-a3b4-85c8296e8e7f          10.0                   2   \n",
       "1     94f75fd8-78f1-4d28-8b15-927452633c15           5.0                   0   \n",
       "2     04cb3f22-d979-4b63-8dd0-c91e55972cae           8.0                   2   \n",
       "3     aa1676ec-385d-40bc-9f5b-86105841a092           9.0                   2   \n",
       "4     76deccba-eb8a-4b86-b37a-20f5de43e6dd          10.0                   2   \n",
       "...                                    ...           ...                 ...   \n",
       "2267  9b6e618f-2f57-484f-9ef9-82b545517aa1          10.0                   2   \n",
       "2268  7b80b755-cb5b-4bc5-a568-e1e0a165f233           9.0                   2   \n",
       "2269  7395e05e-fc77-43e9-88ea-ca71301ab8b9           9.2                   2   \n",
       "2270  aa31e988-4874-4efc-a7b8-91815d993850           3.0                   0   \n",
       "2271  94341dd4-f58f-452a-b655-817e4c49448c           9.2                   2   \n",
       "\n",
       "                                   id_room   id_date  \\\n",
       "0     4e6a65e7-b98b-4a6b-8685-f3f0d2bc6387  20221001   \n",
       "1     4e6a65e7-b98b-4a6b-8685-f3f0d2bc6387  20221001   \n",
       "2     4e6a65e7-b98b-4a6b-8685-f3f0d2bc6387  20221001   \n",
       "3     4e6a65e7-b98b-4a6b-8685-f3f0d2bc6387  20221001   \n",
       "4     4e6a65e7-b98b-4a6b-8685-f3f0d2bc6387  20221001   \n",
       "...                                    ...       ...   \n",
       "2267  861f1144-1f79-4db3-b117-bf58423f6f1c  20200201   \n",
       "2268  861f1144-1f79-4db3-b117-bf58423f6f1c  20200801   \n",
       "2269  918ab8e7-aa42-4cac-b46e-3a6e669e79f2  20200201   \n",
       "2270  85469dd9-6e3a-4395-bef8-3d4835c74cc2  20200701   \n",
       "2271  85469dd9-6e3a-4395-bef8-3d4835c74cc2  20191201   \n",
       "\n",
       "                                 id_client     country  nb_night  \\\n",
       "0     30a40a08-3cd8-44c4-a11e-d8c157241dfd  La Réunion         2   \n",
       "1     e6cbd030-fe06-4de2-a8af-1bb41139c0f4      France         1   \n",
       "2     9c93724c-03fc-4d96-a2af-b0e68f2b14e9      France         1   \n",
       "3     e14a317b-80b4-4b23-84a6-d9187245bbc0      France         1   \n",
       "4     f1ac7372-6598-45b7-a608-1a97c55d47ec     Irlande         1   \n",
       "...                                    ...         ...       ...   \n",
       "2267  62e7ddec-6c7d-4433-9be4-30cc3d03157b       Japon         3   \n",
       "2268  83d62bc3-4fd1-4f43-8de6-a8555c9a5927    Portugal         2   \n",
       "2269  0de80282-f735-4734-bc45-3d12b86cf776       Japon         2   \n",
       "2270  b78aeb7c-7478-40af-acc2-aa507c854665    Belgique         1   \n",
       "2271  6c96dd37-8297-473c-a815-c133f0a18748      Chypre         1   \n",
       "\n",
       "     traveler_infos                 review_title  \\\n",
       "0           Famille                  Inoubliable   \n",
       "1            Groupe              tres bon séjour   \n",
       "2           Famille                        Bien    \n",
       "3            Couple  une belle expérience Disney   \n",
       "4           Famille            Séjour en famille   \n",
       "...             ...                          ...   \n",
       "2267        Famille                     Décevant   \n",
       "2268         Couple                    Fabuleux    \n",
       "2269         Groupe                     Passable   \n",
       "2270         Groupe                 Exceptionnel   \n",
       "2271        Famille                 Exceptionnel   \n",
       "\n",
       "                                        positive_review  \\\n",
       "0     Le petit déjeuner et l'excellent buffet pour l...   \n",
       "1     La proximité du parc, le décor et thème de l’h...   \n",
       "2     Tout le reste une fois rentré et passé la sécu...   \n",
       "3     ayant obtenu une chambre médiocre l’établissem...   \n",
       "4                                 La cohérence du décor   \n",
       "...                                                 ...   \n",
       "2267                                                NaN   \n",
       "2268                                                NaN   \n",
       "2269                                                NaN   \n",
       "2270                                                NaN   \n",
       "2271                                                NaN   \n",
       "\n",
       "                                        negative_review usefulness_review  \\\n",
       "0                                                   NaN               NaN   \n",
       "1     chambre très loin de l’entrée, j’ai du travers...               NaN   \n",
       "2     La sécurité extérieure devant l'hôtel ,les age...               NaN   \n",
       "3     les chambres standards ne sont pas super inson...               NaN   \n",
       "4     On devrait pouvoir choisir ch avec bain ou douche               NaN   \n",
       "...                                                 ...               ...   \n",
       "2267                                                NaN               NaN   \n",
       "2268                                                NaN               NaN   \n",
       "2269                                                NaN               NaN   \n",
       "2270                                                NaN               NaN   \n",
       "2271                                                NaN               NaN   \n",
       "\n",
       "     month_str  year  month_num        date  \\\n",
       "0      octobre  2022         10  2022-10-01   \n",
       "1      octobre  2022         10  2022-10-01   \n",
       "2      octobre  2022         10  2022-10-01   \n",
       "3      octobre  2022         10  2022-10-01   \n",
       "4      octobre  2022         10  2022-10-01   \n",
       "...        ...   ...        ...         ...   \n",
       "2267   février  2020          2  2020-02-01   \n",
       "2268      août  2020          8  2020-08-01   \n",
       "2269   février  2020          2  2020-02-01   \n",
       "2270   juillet  2020          7  2020-07-01   \n",
       "2271  décembre  2019         12  2019-12-01   \n",
       "\n",
       "                                  id_hotel                      hotel  \\\n",
       "0     e8418aca-ee35-4888-8c17-fd4c80c38254  Disney's Newport Bay Club   \n",
       "1     e8418aca-ee35-4888-8c17-fd4c80c38254  Disney's Newport Bay Club   \n",
       "2     e8418aca-ee35-4888-8c17-fd4c80c38254  Disney's Newport Bay Club   \n",
       "3     e8418aca-ee35-4888-8c17-fd4c80c38254  Disney's Newport Bay Club   \n",
       "4     e8418aca-ee35-4888-8c17-fd4c80c38254  Disney's Newport Bay Club   \n",
       "...                                    ...                        ...   \n",
       "2267  e8418aca-ee35-4888-8c17-fd4c80c38254  Disney's Newport Bay Club   \n",
       "2268  e8418aca-ee35-4888-8c17-fd4c80c38254  Disney's Newport Bay Club   \n",
       "2269  e8418aca-ee35-4888-8c17-fd4c80c38254  Disney's Newport Bay Club   \n",
       "2270  e8418aca-ee35-4888-8c17-fd4c80c38254  Disney's Newport Bay Club   \n",
       "2271  e8418aca-ee35-4888-8c17-fd4c80c38254  Disney's Newport Bay Club   \n",
       "\n",
       "                                        room_type  \n",
       "0                   Chambre Supérieure - Côté Lac  \n",
       "1                   Chambre Supérieure - Côté Lac  \n",
       "2                   Chambre Supérieure - Côté Lac  \n",
       "3                   Chambre Supérieure - Côté Lac  \n",
       "4                   Chambre Supérieure - Côté Lac  \n",
       "...                                           ...  \n",
       "2267             Chambre Club Compass (4 Adultes)  \n",
       "2268             Chambre Club Compass (4 Adultes)  \n",
       "2269  Chambre Club Compass (1 Adulte + 3 Enfants)  \n",
       "2270  Chambre Compass Club – Côté Lac (4 Adultes)  \n",
       "2271  Chambre Compass Club – Côté Lac (4 Adultes)  \n",
       "\n",
       "[2272 rows x 20 columns]"
      ]
     },
     "execution_count": 41,
     "metadata": {},
     "output_type": "execute_result"
    }
   ],
   "source": [
    "try:\n",
    "    conn = psycopg2.connect(\n",
    "          user = \"m139\",\n",
    "          password = \"m139\",\n",
    "          host = \"db-etu.univ-lyon2.fr\",\n",
    "          port = \"5432\",\n",
    "          database = \"m139\"\n",
    "    )\n",
    "    cur = conn.cursor()\n",
    "    reservation = \"SELECT * FROM reservation\"\n",
    "    client = \"SELECT * FROM client\"\n",
    "    hotel = \"SELECT * FROM hotel\"\n",
    "    room = \"SELECT * FROM room\"\n",
    "    date = \"SELECT * FROM date\"\n",
    "\n",
    "    cur.execute(reservation)\n",
    "    reservation = pd.DataFrame(cur.fetchall(), columns=[desc[0] for desc in cur.description])\n",
    "    cur.execute(client)\n",
    "    client = pd.DataFrame(cur.fetchall(), columns=[desc[0] for desc in cur.description])\n",
    "    cur.execute(hotel)\n",
    "    hotel = pd.DataFrame(cur.fetchall(), columns=[desc[0] for desc in cur.description])\n",
    "    cur.execute(room)\n",
    "    room = pd.DataFrame(cur.fetchall(), columns=[desc[0] for desc in cur.description])\n",
    "    cur.execute(date)\n",
    "    date = pd.DataFrame(cur.fetchall(), columns=[desc[0] for desc in cur.description])\n",
    "\n",
    "    cur.close()\n",
    "    conn.close()\n",
    "except (Exception, psycopg2.Error) as error :\n",
    "    print (\"Erreur lors de la connexion à PostgreSQL\", error)\n",
    "\n",
    "\n",
    "hotel_room = hotel.merge(room, on=\"id_hotel\")\n",
    "res_client = reservation.merge(client, on=\"id_client\")\n",
    "res_client_date = res_client.merge(date, on=\"id_date\")\n",
    "df = res_client_date.merge(hotel_room, on=\"id_room\")\n"
   ]
  },
  {
   "cell_type": "code",
   "execution_count": null,
   "id": "d409b85b",
   "metadata": {},
   "outputs": [],
   "source": []
  },
  {
   "cell_type": "code",
   "execution_count": null,
   "id": "dbf6b386",
   "metadata": {},
   "outputs": [],
   "source": []
  },
  {
   "cell_type": "code",
   "execution_count": null,
   "id": "bc6313c6",
   "metadata": {},
   "outputs": [],
   "source": []
  },
  {
   "cell_type": "code",
   "execution_count": null,
   "id": "0ffa3c7f",
   "metadata": {},
   "outputs": [],
   "source": []
  }
 ],
 "metadata": {
  "kernelspec": {
   "display_name": "Python 3 (ipykernel)",
   "language": "python",
   "name": "python3"
  },
  "language_info": {
   "codemirror_mode": {
    "name": "ipython",
    "version": 3
   },
   "file_extension": ".py",
   "mimetype": "text/x-python",
   "name": "python",
   "nbconvert_exporter": "python",
   "pygments_lexer": "ipython3",
   "version": "3.9.15"
  }
 },
 "nbformat": 4,
 "nbformat_minor": 5
}
