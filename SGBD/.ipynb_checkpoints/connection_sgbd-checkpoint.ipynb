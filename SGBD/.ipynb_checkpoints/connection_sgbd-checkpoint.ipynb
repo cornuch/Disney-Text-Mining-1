{
 "cells": [
  {
   "cell_type": "code",
   "execution_count": null,
   "id": "4e4ec051",
   "metadata": {},
   "outputs": [],
   "source": [
    "import psycopg2"
   ]
  },
  {
   "cell_type": "code",
   "execution_count": null,
   "id": "921fba90",
   "metadata": {},
   "outputs": [],
   "source": [
    " "
   ]
  },
  {
   "cell_type": "markdown",
   "id": "501182b0",
   "metadata": {},
   "source": [
    "# Oracle"
   ]
  },
  {
   "cell_type": "code",
   "execution_count": null,
   "id": "8ddd74d2",
   "metadata": {},
   "outputs": [],
   "source": [
    "try:\n",
    "    conn = psycopg2.connect(\n",
    "          user = \"m139\",\n",
    "          password = \"m139\",\n",
    "          host = \"db-etu.univ-lyon2.fr\",\n",
    "          port = \"5432\",\n",
    "          database = \"disney\"\n",
    "    )\n",
    "    cur = conn.cursor()\n",
    "    sql = \"SELECT * FROM table\"\n",
    "\n",
    "    cur.execute(sql)\n",
    "    res = cur.fetchall()\n",
    "\n",
    "    cur.close()\n",
    "    conn.close()\n",
    "except (Exception, psycopg2.Error) as error :\n",
    "    print (\"Erreur lors de la connexion à PostgreSQL\", error)\n",
    "\n",
    "\n",
    "#recuperer les donnees de table\n",
    "    col1 = []\n",
    "    col2 = []\n",
    "    col3 = []\n",
    "    for i in range(0, len(res)):\n",
    "        col1.append(res[i][0])\n",
    "        col2.append(res[i][1])\n",
    "        col3.append(res[i][2])\n",
    "        \n",
    "    #regrouper les donnees dans un dataframe pour la construction de la figure \n",
    "    table = pd.DataFrame({\n",
    "        \"col1\" :  col2,  \n",
    "        \"col2\" : col2,\n",
    "        \"col3\": col3\n",
    "    })"
   ]
  },
  {
   "cell_type": "code",
   "execution_count": null,
   "id": "660db920",
   "metadata": {},
   "outputs": [],
   "source": []
  },
  {
   "cell_type": "code",
   "execution_count": null,
   "id": "084fd65a",
   "metadata": {},
   "outputs": [],
   "source": []
  },
  {
   "cell_type": "code",
   "execution_count": null,
   "id": "509f6e08",
   "metadata": {},
   "outputs": [],
   "source": []
  },
  {
   "cell_type": "markdown",
   "id": "0864dd8b",
   "metadata": {},
   "source": [
    "# MySQL"
   ]
  },
  {
   "cell_type": "code",
   "execution_count": null,
   "id": "27df272d",
   "metadata": {},
   "outputs": [],
   "source": []
  },
  {
   "cell_type": "code",
   "execution_count": null,
   "id": "0f28ac28",
   "metadata": {},
   "outputs": [],
   "source": []
  },
  {
   "cell_type": "code",
   "execution_count": null,
   "id": "e20432bf",
   "metadata": {},
   "outputs": [],
   "source": []
  },
  {
   "cell_type": "code",
   "execution_count": null,
   "id": "2f925b1b",
   "metadata": {},
   "outputs": [],
   "source": []
  },
  {
   "cell_type": "markdown",
   "id": "b16942e4",
   "metadata": {},
   "source": [
    "# PostgreSQL"
   ]
  },
  {
   "cell_type": "code",
   "execution_count": null,
   "id": "a39fb6a0",
   "metadata": {},
   "outputs": [],
   "source": []
  },
  {
   "cell_type": "code",
   "execution_count": null,
   "id": "dbf6b386",
   "metadata": {},
   "outputs": [],
   "source": []
  },
  {
   "cell_type": "code",
   "execution_count": null,
   "id": "bc6313c6",
   "metadata": {},
   "outputs": [],
   "source": []
  },
  {
   "cell_type": "code",
   "execution_count": null,
   "id": "0ffa3c7f",
   "metadata": {},
   "outputs": [],
   "source": []
  }
 ],
 "metadata": {
  "kernelspec": {
   "display_name": "Python 3 (ipykernel)",
   "language": "python",
   "name": "python3"
  },
  "language_info": {
   "codemirror_mode": {
    "name": "ipython",
    "version": 3
   },
   "file_extension": ".py",
   "mimetype": "text/x-python",
   "name": "python",
   "nbconvert_exporter": "python",
   "pygments_lexer": "ipython3",
   "version": "3.9.15"
  }
 },
 "nbformat": 4,
 "nbformat_minor": 5
}
