{
 "cells": [
  {
   "cell_type": "code",
   "execution_count": 75,
   "id": "4e4ec051",
   "metadata": {},
   "outputs": [],
   "source": [
    "import psycopg2\n",
    "import pandas as pd\n",
    "import psycopg2.extras as extras"
   ]
  },
  {
   "cell_type": "code",
   "execution_count": 107,
   "id": "0f530369",
   "metadata": {},
   "outputs": [],
   "source": [
    "client = pd.read_csv(\"C:/Users/pauli/Documents/M2/Text Mining/projet/Disney-Text-Mining/fichiers/tables/client.csv\",sep=';')\n",
    "date = pd.read_csv(\"C:/Users/pauli/Documents/M2/Text Mining/projet/Disney-Text-Mining/fichiers/tables/date.csv\",sep=';')\n",
    "hotel = pd.read_csv(\"C:/Users/pauli/Documents/M2/Text Mining/projet/Disney-Text-Mining/fichiers/tables/hotel.csv\",sep=';')\n",
    "room = pd.read_csv(\"C:/Users/pauli/Documents/M2/Text Mining/projet/Disney-Text-Mining/fichiers/tables/room.csv\",sep=';')\n",
    "reservation = pd.read_csv(\"C:/Users/pauli/Documents/M2/Text Mining/projet/Disney-Text-Mining/fichiers/tables/reservation.csv\",sep=';')\n"
   ]
  },
  {
   "cell_type": "code",
   "execution_count": null,
   "id": "1f53e17d",
   "metadata": {},
   "outputs": [],
   "source": []
  },
  {
   "cell_type": "markdown",
   "id": "501182b0",
   "metadata": {},
   "source": [
    "# Oracle"
   ]
  },
  {
   "cell_type": "code",
   "execution_count": 88,
   "id": "660db920",
   "metadata": {},
   "outputs": [],
   "source": [
    "#??"
   ]
  },
  {
   "cell_type": "markdown",
   "id": "0864dd8b",
   "metadata": {},
   "source": [
    "# MySQL"
   ]
  },
  {
   "cell_type": "code",
   "execution_count": 89,
   "id": "084fd65a",
   "metadata": {},
   "outputs": [],
   "source": [
    "#??"
   ]
  },
  {
   "cell_type": "markdown",
   "id": "b16942e4",
   "metadata": {},
   "source": [
    "# PostgreSQL"
   ]
  },
  {
   "cell_type": "code",
   "execution_count": 90,
   "id": "a39fb6a0",
   "metadata": {},
   "outputs": [],
   "source": [
    "#https://waytolearnx.com/2020/06/connexion-a-une-base-de-donnees-postgresql-en-python.html"
   ]
  },
  {
   "cell_type": "markdown",
   "id": "7493b1d9",
   "metadata": {},
   "source": [
    "## create and insert tables"
   ]
  },
  {
   "cell_type": "code",
   "execution_count": 91,
   "id": "cb4d8e54",
   "metadata": {},
   "outputs": [],
   "source": [
    "def create_tables(conn, table_req):\n",
    "    try: \n",
    "        cursor = conn.cursor()\n",
    "        cursor.execute(table_req)\n",
    "        conn.commit()\n",
    "        cursor.close()\n",
    "    except (Exception, psycopg2.Error) as error :\n",
    "        print (\"Erreur lors de la création du table PostgreSQL\", error)"
   ]
  },
  {
   "cell_type": "code",
   "execution_count": 92,
   "id": "a173bddd",
   "metadata": {},
   "outputs": [],
   "source": [
    "def insert_values(conn, df, table):\n",
    "    tuples = [tuple(x) for x in df.to_numpy()]\n",
    "    cols = ','.join(list(df.columns))\n",
    "    # SQL query to execute\n",
    "    query = \"INSERT INTO %s(%s) VALUES %%s\" % (table, cols)\n",
    "    cursor = conn.cursor()\n",
    "    try:\n",
    "        extras.execute_values(cursor, query, tuples)\n",
    "        conn.commit()\n",
    "    except (Exception, psycopg2.DatabaseError) as error:\n",
    "        print(\"Error: %s\" % error)\n",
    "        conn.rollback()\n",
    "        cursor.close()\n",
    "        return 1\n",
    "    print(\"the dataframe is inserted\")\n",
    "    cursor.close()"
   ]
  },
  {
   "cell_type": "code",
   "execution_count": 93,
   "id": "752355fb",
   "metadata": {},
   "outputs": [],
   "source": [
    "conn = psycopg2.connect(\n",
    "          user = \"m139\",\n",
    "          password = \"m139\",\n",
    "          host = \"db-etu.univ-lyon2.fr\",\n",
    "          port = \"5432\",\n",
    "          database = \"m139\"\n",
    "    )"
   ]
  },
  {
   "cell_type": "code",
   "execution_count": 111,
   "id": "ad9e13c3",
   "metadata": {},
   "outputs": [
    {
     "name": "stdout",
     "output_type": "stream",
     "text": [
      "Erreur lors de la création du table PostgreSQL relation \"hotel\" already exists\n",
      "\n",
      "Erreur lors de la création du table PostgreSQL current transaction is aborted, commands ignored until end of transaction block\n",
      "\n",
      "Erreur lors de la création du table PostgreSQL current transaction is aborted, commands ignored until end of transaction block\n",
      "\n",
      "Erreur lors de la création du table PostgreSQL current transaction is aborted, commands ignored until end of transaction block\n",
      "\n",
      "Erreur lors de la création du table PostgreSQL current transaction is aborted, commands ignored until end of transaction block\n",
      "\n"
     ]
    }
   ],
   "source": [
    "sql_create_hotel = '''CREATE TABLE HOTEL(\n",
    "    id_hotel TEXT PRIMARY KEY NOT NULL,\n",
    "    hotel VARCHAR(100)\n",
    "  ); '''\n",
    "\n",
    "create_tables(conn, sql_create_hotel)\n",
    "\n",
    "sql_create_room = '''CREATE TABLE ROOM(\n",
    "    id_room TEXT PRIMARY KEY NOT NULL,\n",
    "    room_type TEXT,\n",
    "    id_hotel TEXT,\n",
    "    CONSTRAINT ROOM_ibfk_1 FOREIGN KEY (id_hotel) REFERENCES HOTEL(id_hotel)\n",
    "  ); '''\n",
    "create_tables(conn, sql_create_room)\n",
    "\n",
    "sql_create_client = '''CREATE TABLE CLIENT(\n",
    "    \"id_client\" TEXT PRIMARY KEY NOT NULL,\n",
    "    country TEXT,\n",
    "    nb_night INT,\n",
    "    traveler_infos TEXT,\n",
    "    review_title TEXT, \n",
    "    positive_review TEXT,\n",
    "    negative_review TEXT, \n",
    "    usefulness_review TEXT\n",
    "  ); '''\n",
    "create_tables(conn, sql_create_client)\n",
    "\n",
    "sql_create_date = '''CREATE TABLE DATE(\n",
    "    id_date TEXT PRIMARY KEY NOT NULL,\n",
    "    month_str TEXT,\n",
    "    year INT,\n",
    "    month_num INT,\n",
    "    date DATE\n",
    "  ); '''\n",
    "create_tables(conn, sql_create_date)\n",
    "\n",
    "sql_create_res = '''CREATE TABLE RESERVATION(\n",
    "    id_reservation TEXT PRIMARY KEY NOT NULL,\n",
    "    grade_review FLOAT,\n",
    "    level_grade_review INT,\n",
    "    id_room TEXT,\n",
    "    id_date TEXT,\n",
    "    id_client TEXT,\n",
    "    CONSTRAINT RESERVATION_ibfk_1 FOREIGN KEY (id_room) REFERENCES ROOM(id_room),\n",
    "    CONSTRAINT RESERVATION_ibfk_2 FOREIGN KEY (id_date) REFERENCES DATE(id_date),\n",
    "    CONSTRAINT RESERVATION_ibfk_3 FOREIGN KEY (id_client) REFERENCES CLIENT(id_client)\n",
    "  ); '''\n",
    "create_tables(conn, sql_create_res)\n",
    "    "
   ]
  },
  {
   "cell_type": "code",
   "execution_count": 100,
   "id": "371886e8",
   "metadata": {},
   "outputs": [
    {
     "name": "stdout",
     "output_type": "stream",
     "text": [
      "the dataframe is inserted\n"
     ]
    }
   ],
   "source": [
    "insert_values(conn, date, 'date')"
   ]
  },
  {
   "cell_type": "code",
   "execution_count": 101,
   "id": "1767922b",
   "metadata": {},
   "outputs": [
    {
     "name": "stdout",
     "output_type": "stream",
     "text": [
      "the dataframe is inserted\n"
     ]
    }
   ],
   "source": [
    "insert_values(conn, hotel, 'hotel')"
   ]
  },
  {
   "cell_type": "code",
   "execution_count": 102,
   "id": "4a63030f",
   "metadata": {},
   "outputs": [
    {
     "name": "stdout",
     "output_type": "stream",
     "text": [
      "the dataframe is inserted\n"
     ]
    }
   ],
   "source": [
    "insert_values(conn, room, 'room')"
   ]
  },
  {
   "cell_type": "code",
   "execution_count": 103,
   "id": "25704674",
   "metadata": {},
   "outputs": [
    {
     "name": "stdout",
     "output_type": "stream",
     "text": [
      "the dataframe is inserted\n"
     ]
    }
   ],
   "source": [
    "insert_values(conn, client, 'client')"
   ]
  },
  {
   "cell_type": "code",
   "execution_count": 110,
   "id": "fbe1d438",
   "metadata": {},
   "outputs": [],
   "source": [
    "reservation = pd.read_csv(\"C:/Users/pauli/Documents/M2/Text Mining/projet/Disney-Text-Mining/fichiers/tables/reservation.csv\",sep=';')\n",
    "#le probleme l c'esr que id_room n'est pas toujours la, et du cop il rale .... \n",
    "#faudrait mettre un id_room pour les NA ??? \n",
    "#pcq il faudrait quand meme garder les res qui n'ont pas d'id_room... "
   ]
  },
  {
   "cell_type": "code",
   "execution_count": 109,
   "id": "13ecca6e",
   "metadata": {},
   "outputs": [
    {
     "name": "stdout",
     "output_type": "stream",
     "text": [
      "Error: insert or update on table \"reservation\" violates foreign key constraint \"reservation_ibfk_1\"\n",
      "DETAIL:  Key (id_room)=(NaN) is not present in table \"room\".\n",
      "\n"
     ]
    },
    {
     "data": {
      "text/plain": [
       "1"
      ]
     },
     "execution_count": 109,
     "metadata": {},
     "output_type": "execute_result"
    }
   ],
   "source": [
    "insert_values(conn, reservation, 'reservation')"
   ]
  },
  {
   "cell_type": "code",
   "execution_count": null,
   "id": "5fa682ac",
   "metadata": {},
   "outputs": [],
   "source": []
  },
  {
   "cell_type": "code",
   "execution_count": null,
   "id": "1ee225c8",
   "metadata": {},
   "outputs": [],
   "source": [
    "DROP TABLE reservation;\n",
    "DROP TABLE date;\n",
    "DROP TABLE client;\n",
    "DROP TABLE room;\n",
    "DROP TABLE hotel;"
   ]
  },
  {
   "cell_type": "code",
   "execution_count": null,
   "id": "0ba2a548",
   "metadata": {},
   "outputs": [],
   "source": [
    "CREATE TABLE HOTEL(\n",
    "    id_hotel TEXT PRIMARY KEY NOT NULL,\n",
    "    hotel TEXT\n",
    "  );\n",
    "  \n",
    "CREATE TABLE ROOM(\n",
    "    id_room TEXT PRIMARY KEY NOT NULL,\n",
    "    room_type TEXT,\n",
    "    id_hotel TEXT,\n",
    "    CONSTRAINT ROOM_ibfk_1 FOREIGN KEY (id_hotel) REFERENCES HOTEL(id_hotel)\n",
    "  ); \n",
    "CREATE TABLE CLIENT(\n",
    "    id_client TEXT PRIMARY KEY NOT NULL,\n",
    "    country TEXT,\n",
    "    nb_night INT,\n",
    "    traveler_infos TEXT,\n",
    "    review_title TEXT, \n",
    "    positive_review TEXT,\n",
    "    negative_review TEXT, \n",
    "    usefulness_review TEXT\n",
    "  );\n",
    "  \n",
    "CREATE TABLE DATE(\n",
    "    id_date TEXT PRIMARY KEY NOT NULL,\n",
    "    month_str TEXT,\n",
    "    year INT,\n",
    "    month_num INT,\n",
    "    date DATE\n",
    "  ); \n",
    "CREATE TABLE RESERVATION(\n",
    "    id_reservation TEXT PRIMARY KEY NOT NULL,\n",
    "    grade_review FLOAT,\n",
    "    level_grade_review INT,\n",
    "    id_room TEXT,\n",
    "    id_date TEXT,\n",
    "    id_client TEXT,\n",
    "    CONSTRAINT RESERVATION_ibfk_1 FOREIGN KEY (id_room) REFERENCES ROOM(id_room),\n",
    "    CONSTRAINT RESERVATION_ibfk_2 FOREIGN KEY (id_date) REFERENCES DATE(id_date),\n",
    "    CONSTRAINT RESERVATION_ibfk_3 FOREIGN KEY (id_client) REFERENCES CLIENT(id_client)\n",
    "  ); "
   ]
  },
  {
   "cell_type": "markdown",
   "id": "32fd51b8",
   "metadata": {},
   "source": [
    "## get tables"
   ]
  },
  {
   "cell_type": "code",
   "execution_count": null,
   "id": "8ddd74d2",
   "metadata": {},
   "outputs": [],
   "source": [
    "try:\n",
    "    conn = psycopg2.connect(\n",
    "          user = \"m139\",\n",
    "          password = \"m139\",\n",
    "          host = \"db-etu.univ-lyon2.fr\",\n",
    "          port = \"5432\",\n",
    "          database = \"disney\"\n",
    "    )\n",
    "    cur = conn.cursor()\n",
    "    sql = \"SELECT * FROM table\"\n",
    "\n",
    "    cur.execute(sql)\n",
    "    res = cur.fetchall()\n",
    "\n",
    "    cur.close()\n",
    "    conn.close()\n",
    "except (Exception, psycopg2.Error) as error :\n",
    "    print (\"Erreur lors de la connexion à PostgreSQL\", error)\n",
    "\n",
    "\n",
    "#recuperer les donnees de table\n",
    "    col1 = []\n",
    "    col2 = []\n",
    "    col3 = []\n",
    "    for i in range(0, len(res)):\n",
    "        col1.append(res[i][0])\n",
    "        col2.append(res[i][1])\n",
    "        col3.append(res[i][2])\n",
    "        \n",
    "    #regrouper les donnees dans un dataframe pour la construction de la figure \n",
    "    table = pd.DataFrame({\n",
    "        \"col1\" :  col2,  \n",
    "        \"col2\" : col2,\n",
    "        \"col3\": col3\n",
    "    })"
   ]
  },
  {
   "cell_type": "code",
   "execution_count": null,
   "id": "dbf6b386",
   "metadata": {},
   "outputs": [],
   "source": []
  },
  {
   "cell_type": "code",
   "execution_count": null,
   "id": "bc6313c6",
   "metadata": {},
   "outputs": [],
   "source": []
  },
  {
   "cell_type": "code",
   "execution_count": null,
   "id": "0ffa3c7f",
   "metadata": {},
   "outputs": [],
   "source": []
  }
 ],
 "metadata": {
  "kernelspec": {
   "display_name": "Python 3 (ipykernel)",
   "language": "python",
   "name": "python3"
  },
  "language_info": {
   "codemirror_mode": {
    "name": "ipython",
    "version": 3
   },
   "file_extension": ".py",
   "mimetype": "text/x-python",
   "name": "python",
   "nbconvert_exporter": "python",
   "pygments_lexer": "ipython3",
   "version": "3.9.15"
  }
 },
 "nbformat": 4,
 "nbformat_minor": 5
}
