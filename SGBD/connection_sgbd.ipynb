{
 "cells": [
  {
   "cell_type": "code",
   "execution_count": 24,
   "id": "4e4ec051",
   "metadata": {},
   "outputs": [],
   "source": [
    "import psycopg2\n",
    "import pandas as pd\n",
    "import psycopg2.extras as extras\n",
    "import os\n",
    "from os import listdir\n",
    "from os.path import isfile, join"
   ]
  },
  {
   "cell_type": "code",
   "execution_count": 25,
   "id": "4aa3c3dd",
   "metadata": {},
   "outputs": [],
   "source": [
    "os.chdir(\"C:/Users/pauli/Documents/M2/Text Mining/projet/Disney-Text-Mining/fichiers/tables\")\n",
    "mypath = os.getcwd()\n",
    "\n",
    "\n",
    "client = pd.read_csv(str(mypath)+\"/client.csv\",sep=';')\n",
    "date = pd.read_csv(str(mypath)+\"/date.csv\",sep=';')\n",
    "hotel = pd.read_csv(str(mypath)+\"/hotel.csv\",sep=';')\n",
    "room = pd.read_csv(str(mypath)+\"/room.csv\",sep=';')\n",
    "reservation = pd.read_csv(str(mypath)+\"/reservation.csv\",sep=';')"
   ]
  },
  {
   "cell_type": "markdown",
   "id": "501182b0",
   "metadata": {},
   "source": [
    "# Oracle"
   ]
  },
  {
   "cell_type": "code",
   "execution_count": 26,
   "id": "660db920",
   "metadata": {},
   "outputs": [],
   "source": [
    "#??\n",
    "#compass club \n",
    "#empire state club "
   ]
  },
  {
   "cell_type": "markdown",
   "id": "0864dd8b",
   "metadata": {},
   "source": [
    "# MySQL"
   ]
  },
  {
   "cell_type": "code",
   "execution_count": 27,
   "id": "084fd65a",
   "metadata": {},
   "outputs": [],
   "source": [
    "#??"
   ]
  },
  {
   "cell_type": "markdown",
   "id": "b16942e4",
   "metadata": {},
   "source": [
    "# PostgreSQL"
   ]
  },
  {
   "cell_type": "code",
   "execution_count": 28,
   "id": "a39fb6a0",
   "metadata": {},
   "outputs": [],
   "source": [
    "#https://waytolearnx.com/2020/06/connexion-a-une-base-de-donnees-postgresql-en-python.html"
   ]
  },
  {
   "cell_type": "code",
   "execution_count": 29,
   "id": "d837dc7b",
   "metadata": {},
   "outputs": [],
   "source": [
    "conn = psycopg2.connect(\n",
    "          user = \"m139\",\n",
    "          password = \"m139\",\n",
    "          host = \"db-etu.univ-lyon2.fr\",\n",
    "          port = \"5432\",\n",
    "          database = \"m139\"\n",
    "    )"
   ]
  },
  {
   "cell_type": "markdown",
   "id": "1c09ab4f",
   "metadata": {},
   "source": [
    "# execute request "
   ]
  },
  {
   "cell_type": "code",
   "execution_count": 30,
   "id": "691216a9",
   "metadata": {},
   "outputs": [],
   "source": [
    "def execute_req(conn, req):\n",
    "    try: \n",
    "        cursor = conn.cursor()\n",
    "        cursor.execute(req)\n",
    "        conn.commit()\n",
    "        cursor.close()\n",
    "    except (Exception, psycopg2.Error) as error :\n",
    "        print (\"Erreur lors de la création du table PostgreSQL\", error)"
   ]
  },
  {
   "cell_type": "markdown",
   "id": "8972c656",
   "metadata": {},
   "source": [
    "# drop"
   ]
  },
  {
   "cell_type": "code",
   "execution_count": 31,
   "id": "a83dfe01",
   "metadata": {},
   "outputs": [],
   "source": [
    "sql_drop_reservation = '''DROP TABLE reservation; '''\n",
    "execute_req(conn, sql_drop_reservation)"
   ]
  },
  {
   "cell_type": "code",
   "execution_count": 32,
   "id": "f625f89b",
   "metadata": {},
   "outputs": [],
   "source": [
    "sql_drop_date = '''DROP TABLE date; '''\n",
    "execute_req(conn, sql_drop_date)"
   ]
  },
  {
   "cell_type": "code",
   "execution_count": 33,
   "id": "4302ac0f",
   "metadata": {},
   "outputs": [],
   "source": [
    "sql_drop_client = '''DROP TABLE client; '''\n",
    "execute_req(conn, sql_drop_client)"
   ]
  },
  {
   "cell_type": "code",
   "execution_count": 34,
   "id": "7c81a57a",
   "metadata": {},
   "outputs": [],
   "source": [
    "sql_drop_room = '''DROP TABLE room; '''\n",
    "execute_req(conn, sql_drop_room)"
   ]
  },
  {
   "cell_type": "code",
   "execution_count": 35,
   "id": "81607d91",
   "metadata": {},
   "outputs": [],
   "source": [
    "sql_drop_hotel = '''DROP TABLE hotel; '''\n",
    "execute_req(conn, sql_drop_hotel)"
   ]
  },
  {
   "cell_type": "markdown",
   "id": "7493b1d9",
   "metadata": {},
   "source": [
    "## create tables"
   ]
  },
  {
   "cell_type": "code",
   "execution_count": 36,
   "id": "0eb7edc1",
   "metadata": {},
   "outputs": [],
   "source": [
    "sql_create_hotel = '''CREATE TABLE HOTEL(\n",
    "    id_hotel TEXT PRIMARY KEY NOT NULL,\n",
    "    hotel VARCHAR(100),\n",
    "    level_hotel INT\n",
    "  ); '''\n",
    "\n",
    "execute_req(conn, sql_create_hotel)"
   ]
  },
  {
   "cell_type": "code",
   "execution_count": 37,
   "id": "3221f962",
   "metadata": {},
   "outputs": [],
   "source": [
    "sql_create_room = '''CREATE TABLE ROOM(\n",
    "    id_room TEXT PRIMARY KEY NOT NULL,\n",
    "    room_type TEXT,\n",
    "    id_hotel TEXT,\n",
    "    CONSTRAINT ROOM_ibfk_1 FOREIGN KEY (id_hotel) REFERENCES HOTEL(id_hotel)\n",
    "  ); '''\n",
    "execute_req(conn, sql_create_room)"
   ]
  },
  {
   "cell_type": "code",
   "execution_count": 38,
   "id": "966e5911",
   "metadata": {},
   "outputs": [],
   "source": [
    "sql_create_client = '''CREATE TABLE CLIENT(\n",
    "    \"id_client\" TEXT PRIMARY KEY NOT NULL,\n",
    "    country TEXT,\n",
    "    nuitee INT,\n",
    "    traveler_infos TEXT,\n",
    "    review_title TEXT, \n",
    "    positive_review TEXT,\n",
    "    negative_review TEXT, \n",
    "    usefulness_review TEXT,\n",
    "    delay_comment INT\n",
    "  ); '''\n",
    "execute_req(conn, sql_create_client)\n"
   ]
  },
  {
   "cell_type": "code",
   "execution_count": 39,
   "id": "50563b5d",
   "metadata": {},
   "outputs": [],
   "source": [
    "sql_create_date = '''CREATE TABLE DATE(\n",
    "    id_date TEXT PRIMARY KEY NOT NULL,\n",
    "    month_str TEXT,\n",
    "    year INT,\n",
    "    month_num INT,\n",
    "    date DATE\n",
    "  ); '''\n",
    "execute_req(conn, sql_create_date)\n"
   ]
  },
  {
   "cell_type": "code",
   "execution_count": 40,
   "id": "ad9e13c3",
   "metadata": {},
   "outputs": [],
   "source": [
    "sql_create_res = '''CREATE TABLE RESERVATION(\n",
    "    id_reservation TEXT PRIMARY KEY NOT NULL,\n",
    "    grade_review FLOAT,\n",
    "    level_grade_review INT,\n",
    "    id_room TEXT,\n",
    "    id_date TEXT,\n",
    "    id_client TEXT,\n",
    "    CONSTRAINT RESERVATION_ibfk_1 FOREIGN KEY (id_room) REFERENCES ROOM(id_room),\n",
    "    CONSTRAINT RESERVATION_ibfk_2 FOREIGN KEY (id_date) REFERENCES DATE(id_date),\n",
    "    CONSTRAINT RESERVATION_ibfk_3 FOREIGN KEY (id_client) REFERENCES CLIENT(id_client)\n",
    "  ); '''\n",
    "execute_req(conn, sql_create_res)\n",
    "    "
   ]
  },
  {
   "cell_type": "markdown",
   "id": "d5d608aa",
   "metadata": {},
   "source": [
    "# insert values"
   ]
  },
  {
   "cell_type": "code",
   "execution_count": 41,
   "id": "455a4228",
   "metadata": {},
   "outputs": [],
   "source": [
    "def insert_values(conn, df, table):\n",
    "    tuples = [tuple(x) for x in df.to_numpy()]\n",
    "    cols = ','.join(list(df.columns))\n",
    "    # SQL query to execute\n",
    "    query = \"INSERT INTO %s(%s) VALUES %%s\" % (table, cols)\n",
    "    cursor = conn.cursor()\n",
    "    try:\n",
    "        extras.execute_values(cursor, query, tuples)\n",
    "        conn.commit()\n",
    "    except (Exception, psycopg2.DatabaseError) as error:\n",
    "        print(\"Error: %s\" % error)\n",
    "        conn.rollback()\n",
    "        cursor.close()\n",
    "        return 1\n",
    "    print(\"the dataframe is inserted\")\n",
    "    cursor.close()"
   ]
  },
  {
   "cell_type": "code",
   "execution_count": 42,
   "id": "b3e7d037",
   "metadata": {},
   "outputs": [
    {
     "name": "stdout",
     "output_type": "stream",
     "text": [
      "the dataframe is inserted\n"
     ]
    }
   ],
   "source": [
    "insert_values(conn, date, 'date')"
   ]
  },
  {
   "cell_type": "code",
   "execution_count": 43,
   "id": "b223370c",
   "metadata": {},
   "outputs": [
    {
     "name": "stdout",
     "output_type": "stream",
     "text": [
      "the dataframe is inserted\n"
     ]
    }
   ],
   "source": [
    "insert_values(conn, hotel, 'hotel')"
   ]
  },
  {
   "cell_type": "code",
   "execution_count": 44,
   "id": "08d04315",
   "metadata": {},
   "outputs": [
    {
     "name": "stdout",
     "output_type": "stream",
     "text": [
      "the dataframe is inserted\n"
     ]
    }
   ],
   "source": [
    "insert_values(conn, room, 'room')"
   ]
  },
  {
   "cell_type": "code",
   "execution_count": 45,
   "id": "b8cf118b",
   "metadata": {},
   "outputs": [
    {
     "name": "stdout",
     "output_type": "stream",
     "text": [
      "the dataframe is inserted\n"
     ]
    }
   ],
   "source": [
    "insert_values(conn, client, 'client')"
   ]
  },
  {
   "cell_type": "code",
   "execution_count": 46,
   "id": "4cce91a2",
   "metadata": {},
   "outputs": [
    {
     "name": "stdout",
     "output_type": "stream",
     "text": [
      "the dataframe is inserted\n"
     ]
    }
   ],
   "source": [
    "insert_values(conn, reservation, 'reservation')"
   ]
  },
  {
   "cell_type": "markdown",
   "id": "32fd51b8",
   "metadata": {},
   "source": [
    "## get tables"
   ]
  },
  {
   "cell_type": "code",
   "execution_count": 52,
   "id": "8ddd74d2",
   "metadata": {},
   "outputs": [
    {
     "data": {
      "text/html": [
       "<div>\n",
       "<style scoped>\n",
       "    .dataframe tbody tr th:only-of-type {\n",
       "        vertical-align: middle;\n",
       "    }\n",
       "\n",
       "    .dataframe tbody tr th {\n",
       "        vertical-align: top;\n",
       "    }\n",
       "\n",
       "    .dataframe thead th {\n",
       "        text-align: right;\n",
       "    }\n",
       "</style>\n",
       "<table border=\"1\" class=\"dataframe\">\n",
       "  <thead>\n",
       "    <tr style=\"text-align: right;\">\n",
       "      <th></th>\n",
       "      <th>id_reservation</th>\n",
       "      <th>grade_review</th>\n",
       "      <th>level_grade_review</th>\n",
       "      <th>id_room</th>\n",
       "      <th>id_date</th>\n",
       "      <th>id_client</th>\n",
       "      <th>country</th>\n",
       "      <th>nb_night</th>\n",
       "      <th>traveler_infos</th>\n",
       "      <th>review_title</th>\n",
       "      <th>positive_review</th>\n",
       "      <th>negative_review</th>\n",
       "      <th>usefulness_review</th>\n",
       "      <th>month_str</th>\n",
       "      <th>year</th>\n",
       "      <th>month_num</th>\n",
       "      <th>date</th>\n",
       "      <th>id_hotel</th>\n",
       "      <th>hotel</th>\n",
       "      <th>room_type</th>\n",
       "    </tr>\n",
       "  </thead>\n",
       "  <tbody>\n",
       "    <tr>\n",
       "      <th>0</th>\n",
       "      <td>403ca88b-ea0d-4382-bf18-b77776e9a96a</td>\n",
       "      <td>9.0</td>\n",
       "      <td>2</td>\n",
       "      <td>b9203b91-368b-4899-8427-12a1b66183e4</td>\n",
       "      <td>20230101</td>\n",
       "      <td>08f81258-3232-4a0b-b520-180e44269abf</td>\n",
       "      <td>Royaume-Uni</td>\n",
       "      <td>1</td>\n",
       "      <td>Famille</td>\n",
       "      <td>excellent and memorable</td>\n",
       "      <td>NaN</td>\n",
       "      <td>NaN</td>\n",
       "      <td>0</td>\n",
       "      <td>janvier</td>\n",
       "      <td>2023</td>\n",
       "      <td>1</td>\n",
       "      <td>2023-01-01</td>\n",
       "      <td>d1c15602-b86b-4eff-bfb7-46bb7dd0dc1d</td>\n",
       "      <td>Cheyenne</td>\n",
       "      <td>Chambre Standard Woody's Roundup</td>\n",
       "    </tr>\n",
       "    <tr>\n",
       "      <th>1</th>\n",
       "      <td>d20f9677-0403-4d35-9734-735dcd5bf9b9</td>\n",
       "      <td>7.0</td>\n",
       "      <td>1</td>\n",
       "      <td>b9203b91-368b-4899-8427-12a1b66183e4</td>\n",
       "      <td>20230101</td>\n",
       "      <td>1a598c5b-8687-4f31-834e-b2b17ce2ae64</td>\n",
       "      <td>Belgique</td>\n",
       "      <td>1</td>\n",
       "      <td>Famille</td>\n",
       "      <td>Bien</td>\n",
       "      <td>NaN</td>\n",
       "      <td>NaN</td>\n",
       "      <td>0</td>\n",
       "      <td>janvier</td>\n",
       "      <td>2023</td>\n",
       "      <td>1</td>\n",
       "      <td>2023-01-01</td>\n",
       "      <td>d1c15602-b86b-4eff-bfb7-46bb7dd0dc1d</td>\n",
       "      <td>Cheyenne</td>\n",
       "      <td>Chambre Standard Woody's Roundup</td>\n",
       "    </tr>\n",
       "    <tr>\n",
       "      <th>2</th>\n",
       "      <td>491bfe50-de22-4163-b0bf-c0a1b449db13</td>\n",
       "      <td>10.0</td>\n",
       "      <td>2</td>\n",
       "      <td>b9203b91-368b-4899-8427-12a1b66183e4</td>\n",
       "      <td>20230101</td>\n",
       "      <td>18b44676-bcbc-4c5f-862b-02f77b934d1c</td>\n",
       "      <td>Royaume-Uni</td>\n",
       "      <td>2</td>\n",
       "      <td>Famille</td>\n",
       "      <td>amazing and very helpful staff</td>\n",
       "      <td>NaN</td>\n",
       "      <td>NaN</td>\n",
       "      <td>0</td>\n",
       "      <td>janvier</td>\n",
       "      <td>2023</td>\n",
       "      <td>1</td>\n",
       "      <td>2023-01-01</td>\n",
       "      <td>d1c15602-b86b-4eff-bfb7-46bb7dd0dc1d</td>\n",
       "      <td>Cheyenne</td>\n",
       "      <td>Chambre Standard Woody's Roundup</td>\n",
       "    </tr>\n",
       "    <tr>\n",
       "      <th>3</th>\n",
       "      <td>fcd6725a-2494-4f97-96a9-27d9dabedb65</td>\n",
       "      <td>9.0</td>\n",
       "      <td>2</td>\n",
       "      <td>b9203b91-368b-4899-8427-12a1b66183e4</td>\n",
       "      <td>20230101</td>\n",
       "      <td>caa9a5d7-23cf-4804-a6ef-48079a51429e</td>\n",
       "      <td>France</td>\n",
       "      <td>1</td>\n",
       "      <td>Famille</td>\n",
       "      <td>On a passé un très bon moment !!</td>\n",
       "      <td>proximité du parc. décoration. propreté de la ...</td>\n",
       "      <td>la ventilation du chauffage qui faisait du bruit.</td>\n",
       "      <td>0</td>\n",
       "      <td>janvier</td>\n",
       "      <td>2023</td>\n",
       "      <td>1</td>\n",
       "      <td>2023-01-01</td>\n",
       "      <td>d1c15602-b86b-4eff-bfb7-46bb7dd0dc1d</td>\n",
       "      <td>Cheyenne</td>\n",
       "      <td>Chambre Standard Woody's Roundup</td>\n",
       "    </tr>\n",
       "    <tr>\n",
       "      <th>4</th>\n",
       "      <td>b2a8c4ed-34d0-46ab-ba03-bce7a4404abe</td>\n",
       "      <td>8.0</td>\n",
       "      <td>2</td>\n",
       "      <td>b9203b91-368b-4899-8427-12a1b66183e4</td>\n",
       "      <td>20230101</td>\n",
       "      <td>e2310d14-5127-4959-934f-36e9d8a71841</td>\n",
       "      <td>Pays-Bas</td>\n",
       "      <td>1</td>\n",
       "      <td>Famille</td>\n",
       "      <td>Fijn verblijf gehad, hebben nacht bijgeboekt e...</td>\n",
       "      <td>NaN</td>\n",
       "      <td>NaN</td>\n",
       "      <td>0</td>\n",
       "      <td>janvier</td>\n",
       "      <td>2023</td>\n",
       "      <td>1</td>\n",
       "      <td>2023-01-01</td>\n",
       "      <td>d1c15602-b86b-4eff-bfb7-46bb7dd0dc1d</td>\n",
       "      <td>Cheyenne</td>\n",
       "      <td>Chambre Standard Woody's Roundup</td>\n",
       "    </tr>\n",
       "    <tr>\n",
       "      <th>...</th>\n",
       "      <td>...</td>\n",
       "      <td>...</td>\n",
       "      <td>...</td>\n",
       "      <td>...</td>\n",
       "      <td>...</td>\n",
       "      <td>...</td>\n",
       "      <td>...</td>\n",
       "      <td>...</td>\n",
       "      <td>...</td>\n",
       "      <td>...</td>\n",
       "      <td>...</td>\n",
       "      <td>...</td>\n",
       "      <td>...</td>\n",
       "      <td>...</td>\n",
       "      <td>...</td>\n",
       "      <td>...</td>\n",
       "      <td>...</td>\n",
       "      <td>...</td>\n",
       "      <td>...</td>\n",
       "      <td>...</td>\n",
       "    </tr>\n",
       "    <tr>\n",
       "      <th>11214</th>\n",
       "      <td>45a996b4-0a93-4846-94c1-f3972412500a</td>\n",
       "      <td>8.0</td>\n",
       "      <td>2</td>\n",
       "      <td>b3d1970c-2de1-45d7-a7e6-dc9146172945</td>\n",
       "      <td>20191201</td>\n",
       "      <td>7e71f00d-8fcc-4b15-88a4-ed785e982f16</td>\n",
       "      <td>Pays-Bas</td>\n",
       "      <td>1</td>\n",
       "      <td>Groupe</td>\n",
       "      <td>Très bien</td>\n",
       "      <td>NaN</td>\n",
       "      <td>NaN</td>\n",
       "      <td>0</td>\n",
       "      <td>décembre</td>\n",
       "      <td>2019</td>\n",
       "      <td>12</td>\n",
       "      <td>2019-12-01</td>\n",
       "      <td>806fd917-24c9-44b2-990b-6973cee9c360</td>\n",
       "      <td>Davy_Crockett_Ranch</td>\n",
       "      <td>Bungalow Tribu Pionnier (5 Adultes + 1 Enfant)</td>\n",
       "    </tr>\n",
       "    <tr>\n",
       "      <th>11215</th>\n",
       "      <td>ddf84ad0-cb9b-4157-8950-1b61b8b38dd8</td>\n",
       "      <td>9.6</td>\n",
       "      <td>2</td>\n",
       "      <td>ea2fec9b-84d1-436f-a90e-637e15d1b71d</td>\n",
       "      <td>20200101</td>\n",
       "      <td>7227cb88-462e-4f9e-8401-367183a77e60</td>\n",
       "      <td>La Réunion</td>\n",
       "      <td>1</td>\n",
       "      <td>Famille</td>\n",
       "      <td>Exceptionnel</td>\n",
       "      <td>NaN</td>\n",
       "      <td>NaN</td>\n",
       "      <td>0</td>\n",
       "      <td>janvier</td>\n",
       "      <td>2020</td>\n",
       "      <td>1</td>\n",
       "      <td>2020-01-01</td>\n",
       "      <td>d00da4f6-b100-4cc5-bac5-c8508c4bc35a</td>\n",
       "      <td>Newport_Bay_Club</td>\n",
       "      <td>Chambre Club Compass (3 Adultes + 1 Enfant)</td>\n",
       "    </tr>\n",
       "    <tr>\n",
       "      <th>11216</th>\n",
       "      <td>7d72609b-938f-4ba3-bdeb-8d71a1b4722d</td>\n",
       "      <td>10.0</td>\n",
       "      <td>2</td>\n",
       "      <td>ea2fec9b-84d1-436f-a90e-637e15d1b71d</td>\n",
       "      <td>20200301</td>\n",
       "      <td>e5b1e82c-1794-4ef3-a423-63748585dca2</td>\n",
       "      <td>France</td>\n",
       "      <td>3</td>\n",
       "      <td>Famille</td>\n",
       "      <td>Exceptionnel</td>\n",
       "      <td>Hôtel charmant très bon accueil</td>\n",
       "      <td>NaN</td>\n",
       "      <td>0</td>\n",
       "      <td>mars</td>\n",
       "      <td>2020</td>\n",
       "      <td>3</td>\n",
       "      <td>2020-03-01</td>\n",
       "      <td>d00da4f6-b100-4cc5-bac5-c8508c4bc35a</td>\n",
       "      <td>Newport_Bay_Club</td>\n",
       "      <td>Chambre Club Compass (3 Adultes + 1 Enfant)</td>\n",
       "    </tr>\n",
       "    <tr>\n",
       "      <th>11217</th>\n",
       "      <td>09635a1a-fcba-4d79-95d1-19c4b969c201</td>\n",
       "      <td>8.0</td>\n",
       "      <td>2</td>\n",
       "      <td>8bbaa52a-ca7a-4de9-a02a-83100de9d83a</td>\n",
       "      <td>20200301</td>\n",
       "      <td>de6cf0d8-2378-498f-b82d-141d39e7a6bf</td>\n",
       "      <td>Belgique</td>\n",
       "      <td>2</td>\n",
       "      <td>Voyageur individuel</td>\n",
       "      <td>Très bien</td>\n",
       "      <td>Hôtel tres agréable et les employés sont très ...</td>\n",
       "      <td>Literie qui n'est pas au top</td>\n",
       "      <td>1</td>\n",
       "      <td>mars</td>\n",
       "      <td>2020</td>\n",
       "      <td>3</td>\n",
       "      <td>2020-03-01</td>\n",
       "      <td>ab287e48-2017-4844-bbf2-d304cdc28d90</td>\n",
       "      <td>Sequoia_Lodge</td>\n",
       "      <td>Chambre Standard proche Installations Hôtelièr...</td>\n",
       "    </tr>\n",
       "    <tr>\n",
       "      <th>11218</th>\n",
       "      <td>e9cbe6d8-31c8-42b8-b06f-96185477b0ee</td>\n",
       "      <td>7.9</td>\n",
       "      <td>1</td>\n",
       "      <td>4a7b39d2-e9cd-4098-a47a-42026c179b90</td>\n",
       "      <td>20200301</td>\n",
       "      <td>43f0475c-f307-4f18-8798-087877088a09</td>\n",
       "      <td>Allemagne</td>\n",
       "      <td>3</td>\n",
       "      <td>Famille</td>\n",
       "      <td>Bien</td>\n",
       "      <td>NaN</td>\n",
       "      <td>NaN</td>\n",
       "      <td>0</td>\n",
       "      <td>mars</td>\n",
       "      <td>2020</td>\n",
       "      <td>3</td>\n",
       "      <td>2020-03-01</td>\n",
       "      <td>ab287e48-2017-4844-bbf2-d304cdc28d90</td>\n",
       "      <td>Sequoia_Lodge</td>\n",
       "      <td>Chambre Golden Forest Club – Côté Lac (3 Adult...</td>\n",
       "    </tr>\n",
       "  </tbody>\n",
       "</table>\n",
       "<p>11219 rows × 20 columns</p>\n",
       "</div>"
      ],
      "text/plain": [
       "                             id_reservation  grade_review  level_grade_review  \\\n",
       "0      403ca88b-ea0d-4382-bf18-b77776e9a96a           9.0                   2   \n",
       "1      d20f9677-0403-4d35-9734-735dcd5bf9b9           7.0                   1   \n",
       "2      491bfe50-de22-4163-b0bf-c0a1b449db13          10.0                   2   \n",
       "3      fcd6725a-2494-4f97-96a9-27d9dabedb65           9.0                   2   \n",
       "4      b2a8c4ed-34d0-46ab-ba03-bce7a4404abe           8.0                   2   \n",
       "...                                     ...           ...                 ...   \n",
       "11214  45a996b4-0a93-4846-94c1-f3972412500a           8.0                   2   \n",
       "11215  ddf84ad0-cb9b-4157-8950-1b61b8b38dd8           9.6                   2   \n",
       "11216  7d72609b-938f-4ba3-bdeb-8d71a1b4722d          10.0                   2   \n",
       "11217  09635a1a-fcba-4d79-95d1-19c4b969c201           8.0                   2   \n",
       "11218  e9cbe6d8-31c8-42b8-b06f-96185477b0ee           7.9                   1   \n",
       "\n",
       "                                    id_room   id_date  \\\n",
       "0      b9203b91-368b-4899-8427-12a1b66183e4  20230101   \n",
       "1      b9203b91-368b-4899-8427-12a1b66183e4  20230101   \n",
       "2      b9203b91-368b-4899-8427-12a1b66183e4  20230101   \n",
       "3      b9203b91-368b-4899-8427-12a1b66183e4  20230101   \n",
       "4      b9203b91-368b-4899-8427-12a1b66183e4  20230101   \n",
       "...                                     ...       ...   \n",
       "11214  b3d1970c-2de1-45d7-a7e6-dc9146172945  20191201   \n",
       "11215  ea2fec9b-84d1-436f-a90e-637e15d1b71d  20200101   \n",
       "11216  ea2fec9b-84d1-436f-a90e-637e15d1b71d  20200301   \n",
       "11217  8bbaa52a-ca7a-4de9-a02a-83100de9d83a  20200301   \n",
       "11218  4a7b39d2-e9cd-4098-a47a-42026c179b90  20200301   \n",
       "\n",
       "                                  id_client      country  nb_night  \\\n",
       "0      08f81258-3232-4a0b-b520-180e44269abf  Royaume-Uni         1   \n",
       "1      1a598c5b-8687-4f31-834e-b2b17ce2ae64     Belgique         1   \n",
       "2      18b44676-bcbc-4c5f-862b-02f77b934d1c  Royaume-Uni         2   \n",
       "3      caa9a5d7-23cf-4804-a6ef-48079a51429e       France         1   \n",
       "4      e2310d14-5127-4959-934f-36e9d8a71841     Pays-Bas         1   \n",
       "...                                     ...          ...       ...   \n",
       "11214  7e71f00d-8fcc-4b15-88a4-ed785e982f16     Pays-Bas         1   \n",
       "11215  7227cb88-462e-4f9e-8401-367183a77e60   La Réunion         1   \n",
       "11216  e5b1e82c-1794-4ef3-a423-63748585dca2       France         3   \n",
       "11217  de6cf0d8-2378-498f-b82d-141d39e7a6bf     Belgique         2   \n",
       "11218  43f0475c-f307-4f18-8798-087877088a09    Allemagne         3   \n",
       "\n",
       "            traveler_infos                                       review_title  \\\n",
       "0                  Famille                            excellent and memorable   \n",
       "1                  Famille                                              Bien    \n",
       "2                  Famille                     amazing and very helpful staff   \n",
       "3                  Famille                   On a passé un très bon moment !!   \n",
       "4                  Famille  Fijn verblijf gehad, hebben nacht bijgeboekt e...   \n",
       "...                    ...                                                ...   \n",
       "11214               Groupe                                          Très bien   \n",
       "11215              Famille                                       Exceptionnel   \n",
       "11216              Famille                                       Exceptionnel   \n",
       "11217  Voyageur individuel                                          Très bien   \n",
       "11218              Famille                                              Bien    \n",
       "\n",
       "                                         positive_review  \\\n",
       "0                                                    NaN   \n",
       "1                                                    NaN   \n",
       "2                                                    NaN   \n",
       "3      proximité du parc. décoration. propreté de la ...   \n",
       "4                                                    NaN   \n",
       "...                                                  ...   \n",
       "11214                                                NaN   \n",
       "11215                                                NaN   \n",
       "11216                    Hôtel charmant très bon accueil   \n",
       "11217  Hôtel tres agréable et les employés sont très ...   \n",
       "11218                                                NaN   \n",
       "\n",
       "                                         negative_review usefulness_review  \\\n",
       "0                                                    NaN                 0   \n",
       "1                                                    NaN                 0   \n",
       "2                                                    NaN                 0   \n",
       "3      la ventilation du chauffage qui faisait du bruit.                 0   \n",
       "4                                                    NaN                 0   \n",
       "...                                                  ...               ...   \n",
       "11214                                                NaN                 0   \n",
       "11215                                                NaN                 0   \n",
       "11216                                                NaN                 0   \n",
       "11217                       Literie qui n'est pas au top                 1   \n",
       "11218                                                NaN                 0   \n",
       "\n",
       "      month_str  year  month_num        date  \\\n",
       "0       janvier  2023          1  2023-01-01   \n",
       "1       janvier  2023          1  2023-01-01   \n",
       "2       janvier  2023          1  2023-01-01   \n",
       "3       janvier  2023          1  2023-01-01   \n",
       "4       janvier  2023          1  2023-01-01   \n",
       "...         ...   ...        ...         ...   \n",
       "11214  décembre  2019         12  2019-12-01   \n",
       "11215   janvier  2020          1  2020-01-01   \n",
       "11216      mars  2020          3  2020-03-01   \n",
       "11217      mars  2020          3  2020-03-01   \n",
       "11218      mars  2020          3  2020-03-01   \n",
       "\n",
       "                                   id_hotel                hotel  \\\n",
       "0      d1c15602-b86b-4eff-bfb7-46bb7dd0dc1d             Cheyenne   \n",
       "1      d1c15602-b86b-4eff-bfb7-46bb7dd0dc1d             Cheyenne   \n",
       "2      d1c15602-b86b-4eff-bfb7-46bb7dd0dc1d             Cheyenne   \n",
       "3      d1c15602-b86b-4eff-bfb7-46bb7dd0dc1d             Cheyenne   \n",
       "4      d1c15602-b86b-4eff-bfb7-46bb7dd0dc1d             Cheyenne   \n",
       "...                                     ...                  ...   \n",
       "11214  806fd917-24c9-44b2-990b-6973cee9c360  Davy_Crockett_Ranch   \n",
       "11215  d00da4f6-b100-4cc5-bac5-c8508c4bc35a     Newport_Bay_Club   \n",
       "11216  d00da4f6-b100-4cc5-bac5-c8508c4bc35a     Newport_Bay_Club   \n",
       "11217  ab287e48-2017-4844-bbf2-d304cdc28d90        Sequoia_Lodge   \n",
       "11218  ab287e48-2017-4844-bbf2-d304cdc28d90        Sequoia_Lodge   \n",
       "\n",
       "                                               room_type  \n",
       "0                       Chambre Standard Woody's Roundup  \n",
       "1                       Chambre Standard Woody's Roundup  \n",
       "2                       Chambre Standard Woody's Roundup  \n",
       "3                       Chambre Standard Woody's Roundup  \n",
       "4                       Chambre Standard Woody's Roundup  \n",
       "...                                                  ...  \n",
       "11214     Bungalow Tribu Pionnier (5 Adultes + 1 Enfant)  \n",
       "11215        Chambre Club Compass (3 Adultes + 1 Enfant)  \n",
       "11216        Chambre Club Compass (3 Adultes + 1 Enfant)  \n",
       "11217  Chambre Standard proche Installations Hôtelièr...  \n",
       "11218  Chambre Golden Forest Club – Côté Lac (3 Adult...  \n",
       "\n",
       "[11219 rows x 20 columns]"
      ]
     },
     "execution_count": 52,
     "metadata": {},
     "output_type": "execute_result"
    }
   ],
   "source": [
    "try:\n",
    "    conn = psycopg2.connect(\n",
    "          user = \"m139\",\n",
    "          password = \"m139\",\n",
    "          host = \"db-etu.univ-lyon2.fr\",\n",
    "          port = \"5432\",\n",
    "          database = \"m139\"\n",
    "    )\n",
    "    cur = conn.cursor()\n",
    "    reservation = \"SELECT * FROM reservation\"\n",
    "    client = \"SELECT * FROM client\"\n",
    "    hotel = \"SELECT * FROM hotel\"\n",
    "    room = \"SELECT * FROM room\"\n",
    "    date = \"SELECT * FROM date\"\n",
    "\n",
    "    cur.execute(reservation)\n",
    "    reservation = pd.DataFrame(cur.fetchall(), columns=[desc[0] for desc in cur.description])\n",
    "    cur.execute(client)\n",
    "    client = pd.DataFrame(cur.fetchall(), columns=[desc[0] for desc in cur.description])\n",
    "    cur.execute(hotel)\n",
    "    hotel = pd.DataFrame(cur.fetchall(), columns=[desc[0] for desc in cur.description])\n",
    "    cur.execute(room)\n",
    "    room = pd.DataFrame(cur.fetchall(), columns=[desc[0] for desc in cur.description])\n",
    "    cur.execute(date)\n",
    "    date = pd.DataFrame(cur.fetchall(), columns=[desc[0] for desc in cur.description])\n",
    "\n",
    "    cur.close()\n",
    "    conn.close()\n",
    "except (Exception, psycopg2.Error) as error :\n",
    "    print (\"Erreur lors de la connexion à PostgreSQL\", error)\n",
    "\n",
    "\n",
    "hotel_room = hotel.merge(room, on=\"id_hotel\")\n",
    "res_client = reservation.merge(client, on=\"id_client\")\n",
    "res_client_date = res_client.merge(date, on=\"id_date\")\n",
    "df = res_client_date.merge(hotel_room, on=\"id_room\")\n",
    "df"
   ]
  },
  {
   "cell_type": "code",
   "execution_count": null,
   "id": "d409b85b",
   "metadata": {},
   "outputs": [],
   "source": []
  },
  {
   "cell_type": "code",
   "execution_count": null,
   "id": "dbf6b386",
   "metadata": {},
   "outputs": [],
   "source": []
  },
  {
   "cell_type": "code",
   "execution_count": null,
   "id": "bc6313c6",
   "metadata": {},
   "outputs": [],
   "source": []
  },
  {
   "cell_type": "code",
   "execution_count": null,
   "id": "0ffa3c7f",
   "metadata": {},
   "outputs": [],
   "source": []
  }
 ],
 "metadata": {
  "kernelspec": {
   "display_name": "Python 3",
   "language": "python",
   "name": "python3"
  },
  "language_info": {
   "codemirror_mode": {
    "name": "ipython",
    "version": 3
   },
   "file_extension": ".py",
   "mimetype": "text/x-python",
   "name": "python",
   "nbconvert_exporter": "python",
   "pygments_lexer": "ipython3",
   "version": "3.11.1 (v3.11.1:a7a450f84a, Dec  6 2022, 15:24:06) [Clang 13.0.0 (clang-1300.0.29.30)]"
  },
  "vscode": {
   "interpreter": {
    "hash": "333d2c9757a75282c9d4867cccb346dd97fbdd6438562bec117fa31e687fe23c"
   }
  }
 },
 "nbformat": 4,
 "nbformat_minor": 5
}
