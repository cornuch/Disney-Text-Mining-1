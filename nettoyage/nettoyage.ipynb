{
 "cells": [
  {
   "cell_type": "code",
   "execution_count": 1,
   "id": "9913cfa0",
   "metadata": {},
   "outputs": [],
   "source": [
    "import pandas as pd\n",
    "import numpy as np"
   ]
  },
  {
   "cell_type": "code",
   "execution_count": 2,
   "id": "7198372f",
   "metadata": {},
   "outputs": [],
   "source": [
    "import os\n",
    "os.chdir(r\"C:\\Users\\cornuch\\Desktop\\SISE\\Text_mining\\projet_disney\")    "
   ]
  },
  {
   "cell_type": "code",
   "execution_count": 3,
   "id": "2842c108",
   "metadata": {},
   "outputs": [],
   "source": [
    "df=pd.read_csv('Scrapping_Newport_Bay_Club.csv',sep=';')"
   ]
  },
  {
   "cell_type": "code",
   "execution_count": 4,
   "id": "aa7a33dc",
   "metadata": {},
   "outputs": [
    {
     "data": {
      "text/html": [
       "<div>\n",
       "<style scoped>\n",
       "    .dataframe tbody tr th:only-of-type {\n",
       "        vertical-align: middle;\n",
       "    }\n",
       "\n",
       "    .dataframe tbody tr th {\n",
       "        vertical-align: top;\n",
       "    }\n",
       "\n",
       "    .dataframe thead th {\n",
       "        text-align: right;\n",
       "    }\n",
       "</style>\n",
       "<table border=\"1\" class=\"dataframe\">\n",
       "  <thead>\n",
       "    <tr style=\"text-align: right;\">\n",
       "      <th></th>\n",
       "      <th>Names</th>\n",
       "      <th>Country</th>\n",
       "      <th>room_type</th>\n",
       "      <th>nuitee</th>\n",
       "      <th>reservation_date</th>\n",
       "      <th>traveler_infos</th>\n",
       "      <th>date_review</th>\n",
       "      <th>review_title</th>\n",
       "      <th>grade_review</th>\n",
       "      <th>positive_review</th>\n",
       "      <th>negative_review</th>\n",
       "      <th>usefulness_review</th>\n",
       "      <th>hotel</th>\n",
       "    </tr>\n",
       "  </thead>\n",
       "  <tbody>\n",
       "    <tr>\n",
       "      <th>0</th>\n",
       "      <td>Ludovic</td>\n",
       "      <td>La Réunion</td>\n",
       "      <td>Chambre Supérieure - Côté Lac</td>\n",
       "      <td>2</td>\n",
       "      <td>Octobre 2022</td>\n",
       "      <td>Famille</td>\n",
       "      <td>Commentaire envoyé le 9 octobre 2022</td>\n",
       "      <td>Inoubliable</td>\n",
       "      <td>10</td>\n",
       "      <td>Le petit déjeuner et l'excellent buffet pour l...</td>\n",
       "      <td>NaN</td>\n",
       "      <td>0</td>\n",
       "      <td>Disney's Newport Bay Club</td>\n",
       "    </tr>\n",
       "    <tr>\n",
       "      <th>1</th>\n",
       "      <td>Julien</td>\n",
       "      <td>France</td>\n",
       "      <td>Chambre Supérieure</td>\n",
       "      <td>1</td>\n",
       "      <td>Décembre 2022</td>\n",
       "      <td>Couple</td>\n",
       "      <td>Commentaire envoyé le 15 décembre 2022</td>\n",
       "      <td>Très bien</td>\n",
       "      <td>8,0</td>\n",
       "      <td>Les navettes pour accéder au parc,\\r\\nLa taill...</td>\n",
       "      <td>R.a.s</td>\n",
       "      <td>0</td>\n",
       "      <td>Disney's Newport Bay Club</td>\n",
       "    </tr>\n",
       "    <tr>\n",
       "      <th>2</th>\n",
       "      <td>Celine</td>\n",
       "      <td>France</td>\n",
       "      <td>Chambre Supérieure</td>\n",
       "      <td>2</td>\n",
       "      <td>Décembre 2022</td>\n",
       "      <td>Famille</td>\n",
       "      <td>Commentaire envoyé le 14 décembre 2022</td>\n",
       "      <td>Agréable</td>\n",
       "      <td>6,0</td>\n",
       "      <td>Û</td>\n",
       "      <td>NaN</td>\n",
       "      <td>0</td>\n",
       "      <td>Disney's Newport Bay Club</td>\n",
       "    </tr>\n",
       "    <tr>\n",
       "      <th>3</th>\n",
       "      <td>Diego</td>\n",
       "      <td>France</td>\n",
       "      <td>Chambre Supérieure</td>\n",
       "      <td>1</td>\n",
       "      <td>Novembre 2022</td>\n",
       "      <td>Famille</td>\n",
       "      <td>Commentaire envoyé le 30 novembre 2022</td>\n",
       "      <td>Agréable</td>\n",
       "      <td>6,0</td>\n",
       "      <td>la proximité du parc Disneyland Paris</td>\n",
       "      <td>la qualité de la chambre n’était pas top, vieu...</td>\n",
       "      <td>0</td>\n",
       "      <td>Disney's Newport Bay Club</td>\n",
       "    </tr>\n",
       "    <tr>\n",
       "      <th>4</th>\n",
       "      <td>Fabienne</td>\n",
       "      <td>Belgique</td>\n",
       "      <td>Chambre Supérieure</td>\n",
       "      <td>1</td>\n",
       "      <td>Novembre 2022</td>\n",
       "      <td>Famille</td>\n",
       "      <td>Commentaire envoyé le 18 novembre 2022</td>\n",
       "      <td>déçue qualité prix</td>\n",
       "      <td>6,0</td>\n",
       "      <td>l emplacement</td>\n",
       "      <td>la propreté</td>\n",
       "      <td>0</td>\n",
       "      <td>Disney's Newport Bay Club</td>\n",
       "    </tr>\n",
       "  </tbody>\n",
       "</table>\n",
       "</div>"
      ],
      "text/plain": [
       "      Names     Country                      room_type  nuitee  \\\n",
       "0   Ludovic  La Réunion  Chambre Supérieure - Côté Lac       2   \n",
       "1    Julien      France             Chambre Supérieure       1   \n",
       "2    Celine      France             Chambre Supérieure       2   \n",
       "3     Diego      France             Chambre Supérieure       1   \n",
       "4  Fabienne    Belgique             Chambre Supérieure       1   \n",
       "\n",
       "  reservation_date traveler_infos                             date_review  \\\n",
       "0     Octobre 2022        Famille    Commentaire envoyé le 9 octobre 2022   \n",
       "1    Décembre 2022         Couple  Commentaire envoyé le 15 décembre 2022   \n",
       "2    Décembre 2022        Famille  Commentaire envoyé le 14 décembre 2022   \n",
       "3    Novembre 2022        Famille  Commentaire envoyé le 30 novembre 2022   \n",
       "4    Novembre 2022        Famille  Commentaire envoyé le 18 novembre 2022   \n",
       "\n",
       "         review_title grade_review  \\\n",
       "0         Inoubliable           10   \n",
       "1           Très bien          8,0   \n",
       "2            Agréable          6,0   \n",
       "3            Agréable          6,0   \n",
       "4  déçue qualité prix          6,0   \n",
       "\n",
       "                                     positive_review  \\\n",
       "0  Le petit déjeuner et l'excellent buffet pour l...   \n",
       "1  Les navettes pour accéder au parc,\\r\\nLa taill...   \n",
       "2                                                  Û   \n",
       "3              la proximité du parc Disneyland Paris   \n",
       "4                                      l emplacement   \n",
       "\n",
       "                                     negative_review  usefulness_review  \\\n",
       "0                                                NaN                  0   \n",
       "1                                              R.a.s                  0   \n",
       "2                                                NaN                  0   \n",
       "3  la qualité de la chambre n’était pas top, vieu...                  0   \n",
       "4                                        la propreté                  0   \n",
       "\n",
       "                       hotel  \n",
       "0  Disney's Newport Bay Club  \n",
       "1  Disney's Newport Bay Club  \n",
       "2  Disney's Newport Bay Club  \n",
       "3  Disney's Newport Bay Club  \n",
       "4  Disney's Newport Bay Club  "
      ]
     },
     "execution_count": 4,
     "metadata": {},
     "output_type": "execute_result"
    }
   ],
   "source": [
    "df.head()"
   ]
  },
  {
   "cell_type": "code",
   "execution_count": 5,
   "id": "938fb82e",
   "metadata": {},
   "outputs": [
    {
     "data": {
      "text/plain": [
       "(2276, 13)"
      ]
     },
     "execution_count": 5,
     "metadata": {},
     "output_type": "execute_result"
    }
   ],
   "source": [
    "df.shape"
   ]
  },
  {
   "cell_type": "code",
   "execution_count": 6,
   "id": "1621f185",
   "metadata": {},
   "outputs": [
    {
     "name": "stdout",
     "output_type": "stream",
     "text": [
      "<class 'pandas.core.frame.DataFrame'>\n",
      "RangeIndex: 2276 entries, 0 to 2275\n",
      "Data columns (total 13 columns):\n",
      " #   Column             Non-Null Count  Dtype \n",
      "---  ------             --------------  ----- \n",
      " 0   Names              2276 non-null   object\n",
      " 1   Country            2274 non-null   object\n",
      " 2   room_type          2130 non-null   object\n",
      " 3   nuitee             2276 non-null   int64 \n",
      " 4   reservation_date   2276 non-null   object\n",
      " 5   traveler_infos     2276 non-null   object\n",
      " 6   date_review        2276 non-null   object\n",
      " 7   review_title       2274 non-null   object\n",
      " 8   grade_review       2276 non-null   object\n",
      " 9   positive_review    627 non-null    object\n",
      " 10  negative_review    494 non-null    object\n",
      " 11  usefulness_review  2276 non-null   int64 \n",
      " 12  hotel              2276 non-null   object\n",
      "dtypes: int64(2), object(11)\n",
      "memory usage: 231.3+ KB\n"
     ]
    }
   ],
   "source": [
    "df.info()"
   ]
  },
  {
   "cell_type": "markdown",
   "id": "138cef5e",
   "metadata": {},
   "source": [
    "## Ajout dates"
   ]
  },
  {
   "cell_type": "code",
   "execution_count": 7,
   "id": "75cdabce",
   "metadata": {},
   "outputs": [],
   "source": [
    "def clean_date_ajout(df):\n",
    "    df_moisreview=df['date_review'].map(str)\n",
    "    for i in range(df.shape[0]):\n",
    "        df_moisreview[i]=df_moisreview[i].split()[4]\n",
    "    df_moisreservation=df['reservation_date'].map(str)\n",
    "    for i in range(df.shape[0]):\n",
    "        df_moisreservation[i]=df_moisreservation[i].split()[0].lower()\n",
    "        df_anneereservation=df['reservation_date'].map(str)\n",
    "    for i in range(df.shape[0]):\n",
    "        df_anneereservation[i]=df_anneereservation[i].split()[1]\n",
    "        from time import strptime\n",
    "    import locale\n",
    "    locale.setlocale(locale.LC_TIME,'')\n",
    "\n",
    "    list_mois_num = [strptime(moisreservation,'%B').tm_mon for moisreservation in df_moisreservation]\n",
    "    list_mois_com = [strptime(moisreview,'%B').tm_mon for moisreview in df_moisreview]\n",
    "    delai = [com - num if com-num>-1 else 12+(com-num) for com, num in zip(list_mois_com, list_mois_num)]\n",
    "\n",
    "    d = {'month_str': df_moisreservation, 'month_num': list_mois_num, 'year' : df_anneereservation,  'delay_comment': delai}\n",
    "    df_date = pd.DataFrame(data=d)\n",
    "    df = pd.concat([df,df_date], join = 'outer', axis = 1)\n",
    "    return(df)"
   ]
  },
  {
   "cell_type": "code",
   "execution_count": 8,
   "id": "81526b1c",
   "metadata": {},
   "outputs": [],
   "source": [
    "def ajout_levels(df):\n",
    "    conditionlist_note = [\n",
    "    (df['grade_review'] >= 8) ,\n",
    "    (df['grade_review'] > 5) & (df['grade_review'] <8),\n",
    "    (df['grade_review'] <= 5)]\n",
    "    choicelist_note = [2,1,0]\n",
    "    df['level_grade_review'] = np.select(conditionlist_note, choicelist_note, default='Not Specified')\n",
    "    conditionlist_hotel = [\n",
    "    (df['hotel'] == \"Disney's Newport Bay Club\")]\n",
    "    choicelist_hotel = [6]\n",
    "    df['level_hotel'] = np.select(conditionlist_hotel, choicelist_hotel, default='Not Specified')\n",
    "    return(df)"
   ]
  },
  {
   "cell_type": "code",
   "execution_count": 9,
   "id": "f7057bfe",
   "metadata": {},
   "outputs": [],
   "source": [
    "def recodage(df):\n",
    "    # Liste des colonnes à transtyper en numeric\n",
    "    var_tofloat = ['grade_review']\n",
    "    for i in var_tofloat:\n",
    "        df[i] = df[i].str.replace(\",\",\".\")\n",
    "        df[i] = pd.to_numeric(df[i], downcast=\"float\")\n",
    "    return(df)"
   ]
  },
  {
   "cell_type": "code",
   "execution_count": 10,
   "id": "6919350f",
   "metadata": {},
   "outputs": [],
   "source": [
    "df = recodage(df)"
   ]
  },
  {
   "cell_type": "code",
   "execution_count": 11,
   "id": "331e0e90",
   "metadata": {},
   "outputs": [],
   "source": [
    "df = ajout_levels(df)"
   ]
  },
  {
   "cell_type": "code",
   "execution_count": 12,
   "id": "eefd3364",
   "metadata": {},
   "outputs": [],
   "source": [
    "df = clean_date_ajout(df)"
   ]
  },
  {
   "cell_type": "code",
   "execution_count": 13,
   "id": "a8f73cf1",
   "metadata": {},
   "outputs": [
    {
     "name": "stdout",
     "output_type": "stream",
     "text": [
      "<class 'pandas.core.frame.DataFrame'>\n",
      "RangeIndex: 2276 entries, 0 to 2275\n",
      "Data columns (total 19 columns):\n",
      " #   Column              Non-Null Count  Dtype  \n",
      "---  ------              --------------  -----  \n",
      " 0   Names               2276 non-null   object \n",
      " 1   Country             2274 non-null   object \n",
      " 2   room_type           2130 non-null   object \n",
      " 3   nuitee              2276 non-null   int64  \n",
      " 4   reservation_date    2276 non-null   object \n",
      " 5   traveler_infos      2276 non-null   object \n",
      " 6   date_review         2276 non-null   object \n",
      " 7   review_title        2274 non-null   object \n",
      " 8   grade_review        2276 non-null   float32\n",
      " 9   positive_review     627 non-null    object \n",
      " 10  negative_review     494 non-null    object \n",
      " 11  usefulness_review   2276 non-null   int64  \n",
      " 12  hotel               2276 non-null   object \n",
      " 13  level_grade_review  2276 non-null   object \n",
      " 14  level_hotel         2276 non-null   object \n",
      " 15  month_str           2276 non-null   object \n",
      " 16  month_num           2276 non-null   int64  \n",
      " 17  year                2276 non-null   object \n",
      " 18  delay_comment       2276 non-null   int64  \n",
      "dtypes: float32(1), int64(4), object(14)\n",
      "memory usage: 329.1+ KB\n"
     ]
    }
   ],
   "source": [
    "df.info()"
   ]
  },
  {
   "cell_type": "code",
   "execution_count": 14,
   "id": "a1cb2542",
   "metadata": {},
   "outputs": [],
   "source": [
    "df = df.drop_duplicates(keep='first')"
   ]
  },
  {
   "cell_type": "code",
   "execution_count": 15,
   "id": "ba580463",
   "metadata": {},
   "outputs": [],
   "source": [
    "df.drop(df[(df.delay_comment >3)].index , inplace=True)"
   ]
  },
  {
   "cell_type": "code",
   "execution_count": 16,
   "id": "0443dc5b",
   "metadata": {},
   "outputs": [],
   "source": [
    "df=df.reset_index()"
   ]
  },
  {
   "cell_type": "code",
   "execution_count": 17,
   "id": "a7f01921",
   "metadata": {},
   "outputs": [],
   "source": [
    "df_clean_newport=df.copy()"
   ]
  },
  {
   "cell_type": "code",
   "execution_count": 18,
   "id": "c53e2524",
   "metadata": {},
   "outputs": [],
   "source": [
    "df_clean_newport.to_csv(\"C:/Users/cornuch/Desktop/SISE/Text_Mining/projet_disney/df_clean_newport.csv\",sep=';', index=False)"
   ]
  }
 ],
 "metadata": {
  "kernelspec": {
   "display_name": "Python 3 (ipykernel)",
   "language": "python",
   "name": "python3"
  },
  "language_info": {
   "codemirror_mode": {
    "name": "ipython",
    "version": 3
   },
   "file_extension": ".py",
   "mimetype": "text/x-python",
   "name": "python",
   "nbconvert_exporter": "python",
   "pygments_lexer": "ipython3",
   "version": "3.9.12"
  }
 },
 "nbformat": 4,
 "nbformat_minor": 5
}
