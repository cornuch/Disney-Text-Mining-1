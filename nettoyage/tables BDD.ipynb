{
 "cells": [
  {
   "cell_type": "code",
   "execution_count": 42,
   "id": "e303c4de",
   "metadata": {},
   "outputs": [],
   "source": [
    "import pandas as pd\n",
    "import os\n",
    "os.chdir(\"C:/Users/pauli/Documents/M2/Text Mining/projet/Disney-Text-Mining/fichiers\")\n",
    "mypath = os.getcwd()"
   ]
  },
  {
   "cell_type": "markdown",
   "id": "0ac7e598",
   "metadata": {},
   "source": [
    "# table date \n"
   ]
  },
  {
   "cell_type": "code",
   "execution_count": 43,
   "id": "1ccaa349",
   "metadata": {},
   "outputs": [
    {
     "data": {
      "text/plain": [
       "Index(['Names', 'Country', 'room_type', 'nuitee', 'reservation_date',\n",
       "       'traveler_infos', 'date_review', 'review_title', 'grade_review',\n",
       "       'positive_review', 'negative_review', 'usefulness_review', 'UniqueID',\n",
       "       'hotel', 'level_grade_review', 'level_hotel', 'month_str', 'month_num',\n",
       "       'year', 'delay_comment', 'date'],\n",
       "      dtype='object')"
      ]
     },
     "execution_count": 43,
     "metadata": {},
     "output_type": "execute_result"
    }
   ],
   "source": [
    "df = pd.read_csv(str(mypath)+\"/df_clean/df_clean.csv\",sep=';')\n",
    "df.columns"
   ]
  },
  {
   "cell_type": "code",
   "execution_count": 44,
   "id": "ecc13c3d",
   "metadata": {},
   "outputs": [],
   "source": [
    "df[\"id_date\"] = df[\"date\"].astype(str)\n",
    "df[\"id_date\"] = df[\"id_date\"].str.replace(\"-\",\"\")"
   ]
  },
  {
   "cell_type": "code",
   "execution_count": 45,
   "id": "52b472f7",
   "metadata": {},
   "outputs": [],
   "source": [
    "champs_date = [\"month_str\",\"month_num\",\"year\",\"date\", \"id_date\"]"
   ]
  },
  {
   "cell_type": "code",
   "execution_count": 46,
   "id": "b7987c2b",
   "metadata": {},
   "outputs": [],
   "source": [
    "df_date = df[champs_date].copy()\n",
    "df_date.drop_duplicates(keep='first', inplace=True)\n",
    "df_date.reset_index(drop=True, inplace=True)\n",
    "df_date.to_csv(str(mypath)+\"/tables/date.csv\",sep=';', index=False, encoding=\"utf-8-sig\")"
   ]
  },
  {
   "cell_type": "markdown",
   "id": "9f79ed9f",
   "metadata": {},
   "source": [
    "# Client"
   ]
  },
  {
   "cell_type": "code",
   "execution_count": 47,
   "id": "d77eaa8e",
   "metadata": {},
   "outputs": [],
   "source": [
    "champs_client = [\"Country\", \"nuitee\", \"traveler_infos\", \"review_title\", \"positive_review\", \"negative_review\", \"usefulness_review\", \"delay_comment\"]"
   ]
  },
  {
   "cell_type": "code",
   "execution_count": 48,
   "id": "0930d249",
   "metadata": {},
   "outputs": [],
   "source": [
    "df_client = df[champs_client].copy()\n",
    "df_client.rename(columns={'Country': 'country'}, inplace=True)\n",
    "import uuid\n",
    "df_client['id_client'] = df_client.apply(lambda _: uuid.uuid4(), axis=1)\n",
    "df_client.to_csv(str(mypath)+\"/tables/client.csv\",sep=';', index=False, encoding=\"utf-8-sig\")"
   ]
  },
  {
   "cell_type": "markdown",
   "id": "bf772ead",
   "metadata": {},
   "source": [
    "# hotel"
   ]
  },
  {
   "cell_type": "code",
   "execution_count": 49,
   "id": "2af420d1",
   "metadata": {},
   "outputs": [],
   "source": [
    "champs_hotel = [\"hotel\", \"level_hotel\"]"
   ]
  },
  {
   "cell_type": "code",
   "execution_count": 50,
   "id": "7b3aba90",
   "metadata": {},
   "outputs": [],
   "source": [
    "df_hotel = df[champs_hotel].copy()\n",
    "df_hotel.drop_duplicates(keep='first', inplace=True)\n",
    "df_hotel.dropna(inplace=True)\n",
    "import uuid\n",
    "df_hotel['id_hotel'] = df_hotel.apply(lambda _: uuid.uuid4(), axis=1)\n",
    "df_hotel.reset_index(drop=True, inplace=True)\n",
    "df_hotel.to_csv(str(mypath)+\"/tables/hotel.csv\",sep=';', index=False, encoding=\"utf-8-sig\")"
   ]
  },
  {
   "cell_type": "markdown",
   "id": "16b6143d",
   "metadata": {},
   "source": [
    "# chambre"
   ]
  },
  {
   "cell_type": "code",
   "execution_count": 51,
   "id": "4f2d0bb4",
   "metadata": {},
   "outputs": [],
   "source": [
    "champs_chambre = [\"room_type\", \"hotel\"]"
   ]
  },
  {
   "cell_type": "code",
   "execution_count": 52,
   "id": "87bda420",
   "metadata": {},
   "outputs": [],
   "source": [
    "df_room = df[champs_chambre].copy()\n",
    "df_room.drop_duplicates(keep='first', inplace=True)\n",
    "import uuid\n",
    "df_room.reset_index(drop=True, inplace=True)\n",
    "\n",
    "#merge pour avoir id_hotel\n",
    "df_room=df_room.merge(df_hotel, on='hotel')\n",
    "df_room['id_room'] = df_room.apply(lambda _: uuid.uuid4(), axis=1)\n",
    "df_room.drop(columns=['hotel', 'level_hotel'], inplace=True)\n",
    "df_room.to_csv(str(mypath)+\"/tables/room.csv\",sep=';', index=False, encoding=\"utf-8-sig\")"
   ]
  },
  {
   "cell_type": "code",
   "execution_count": 53,
   "id": "d3de475e",
   "metadata": {},
   "outputs": [
    {
     "data": {
      "text/html": [
       "<div>\n",
       "<style scoped>\n",
       "    .dataframe tbody tr th:only-of-type {\n",
       "        vertical-align: middle;\n",
       "    }\n",
       "\n",
       "    .dataframe tbody tr th {\n",
       "        vertical-align: top;\n",
       "    }\n",
       "\n",
       "    .dataframe thead th {\n",
       "        text-align: right;\n",
       "    }\n",
       "</style>\n",
       "<table border=\"1\" class=\"dataframe\">\n",
       "  <thead>\n",
       "    <tr style=\"text-align: right;\">\n",
       "      <th></th>\n",
       "      <th>room_type</th>\n",
       "      <th>id_hotel</th>\n",
       "      <th>id_room</th>\n",
       "    </tr>\n",
       "  </thead>\n",
       "  <tbody>\n",
       "    <tr>\n",
       "      <th>0</th>\n",
       "      <td>Chambre Standard Woody's Roundup</td>\n",
       "      <td>8e91af37-81a4-40d6-a123-708455813b70</td>\n",
       "      <td>3fd69528-3808-42db-8b85-5478b1092a14</td>\n",
       "    </tr>\n",
       "    <tr>\n",
       "      <th>1</th>\n",
       "      <td>NaN</td>\n",
       "      <td>8e91af37-81a4-40d6-a123-708455813b70</td>\n",
       "      <td>cb6b015a-de66-44ac-8039-a151f9760e81</td>\n",
       "    </tr>\n",
       "    <tr>\n",
       "      <th>2</th>\n",
       "      <td>Chambre Double/Lit Gigogne Woody's Roundup - C...</td>\n",
       "      <td>8e91af37-81a4-40d6-a123-708455813b70</td>\n",
       "      <td>ea86ade4-acf9-45f9-960d-5136838c2649</td>\n",
       "    </tr>\n",
       "    <tr>\n",
       "      <th>3</th>\n",
       "      <td>Chambre Woody's Roundup à Proximité des Instal...</td>\n",
       "      <td>8e91af37-81a4-40d6-a123-708455813b70</td>\n",
       "      <td>368c41a7-0b4c-416e-930f-c1da19b32170</td>\n",
       "    </tr>\n",
       "    <tr>\n",
       "      <th>4</th>\n",
       "      <td>Chambre Standard Woody's Roundup (2 Adultes + ...</td>\n",
       "      <td>8e91af37-81a4-40d6-a123-708455813b70</td>\n",
       "      <td>01c8911e-7298-44f8-b630-a6e155ad5e96</td>\n",
       "    </tr>\n",
       "    <tr>\n",
       "      <th>...</th>\n",
       "      <td>...</td>\n",
       "      <td>...</td>\n",
       "      <td>...</td>\n",
       "    </tr>\n",
       "    <tr>\n",
       "      <th>93</th>\n",
       "      <td>Chambre Golden Forest Club – Côté Lac (3 Adult...</td>\n",
       "      <td>5737b66b-b96a-49eb-94e2-5c144f4e3334</td>\n",
       "      <td>e05b3ac3-5ee6-45a2-bbd2-e7bff8b413b7</td>\n",
       "    </tr>\n",
       "    <tr>\n",
       "      <th>94</th>\n",
       "      <td>Chambre Standard proche Installations Hôtelièr...</td>\n",
       "      <td>5737b66b-b96a-49eb-94e2-5c144f4e3334</td>\n",
       "      <td>82fd3421-4cd7-4a54-a784-f706112b55ca</td>\n",
       "    </tr>\n",
       "    <tr>\n",
       "      <th>95</th>\n",
       "      <td>Chambre Golden Forest Club (2 Adultes + 2 Enfa...</td>\n",
       "      <td>5737b66b-b96a-49eb-94e2-5c144f4e3334</td>\n",
       "      <td>1044ce77-eb83-41b2-a960-c4a47bc8e875</td>\n",
       "    </tr>\n",
       "    <tr>\n",
       "      <th>96</th>\n",
       "      <td>Chambre Golden Forest Club (3 Adultes + 1 Enfant)</td>\n",
       "      <td>5737b66b-b96a-49eb-94e2-5c144f4e3334</td>\n",
       "      <td>3051bb40-53ee-49a0-8ef4-e30e461d44d6</td>\n",
       "    </tr>\n",
       "    <tr>\n",
       "      <th>97</th>\n",
       "      <td>Chambre Standard (1 Adulte + 3 Enfants)</td>\n",
       "      <td>5737b66b-b96a-49eb-94e2-5c144f4e3334</td>\n",
       "      <td>ce4e1b69-1ca3-4cb3-875b-128ba2d62008</td>\n",
       "    </tr>\n",
       "  </tbody>\n",
       "</table>\n",
       "<p>98 rows × 3 columns</p>\n",
       "</div>"
      ],
      "text/plain": [
       "                                            room_type  \\\n",
       "0                    Chambre Standard Woody's Roundup   \n",
       "1                                                 NaN   \n",
       "2   Chambre Double/Lit Gigogne Woody's Roundup - C...   \n",
       "3   Chambre Woody's Roundup à Proximité des Instal...   \n",
       "4   Chambre Standard Woody's Roundup (2 Adultes + ...   \n",
       "..                                                ...   \n",
       "93  Chambre Golden Forest Club – Côté Lac (3 Adult...   \n",
       "94  Chambre Standard proche Installations Hôtelièr...   \n",
       "95  Chambre Golden Forest Club (2 Adultes + 2 Enfa...   \n",
       "96  Chambre Golden Forest Club (3 Adultes + 1 Enfant)   \n",
       "97            Chambre Standard (1 Adulte + 3 Enfants)   \n",
       "\n",
       "                                id_hotel                               id_room  \n",
       "0   8e91af37-81a4-40d6-a123-708455813b70  3fd69528-3808-42db-8b85-5478b1092a14  \n",
       "1   8e91af37-81a4-40d6-a123-708455813b70  cb6b015a-de66-44ac-8039-a151f9760e81  \n",
       "2   8e91af37-81a4-40d6-a123-708455813b70  ea86ade4-acf9-45f9-960d-5136838c2649  \n",
       "3   8e91af37-81a4-40d6-a123-708455813b70  368c41a7-0b4c-416e-930f-c1da19b32170  \n",
       "4   8e91af37-81a4-40d6-a123-708455813b70  01c8911e-7298-44f8-b630-a6e155ad5e96  \n",
       "..                                   ...                                   ...  \n",
       "93  5737b66b-b96a-49eb-94e2-5c144f4e3334  e05b3ac3-5ee6-45a2-bbd2-e7bff8b413b7  \n",
       "94  5737b66b-b96a-49eb-94e2-5c144f4e3334  82fd3421-4cd7-4a54-a784-f706112b55ca  \n",
       "95  5737b66b-b96a-49eb-94e2-5c144f4e3334  1044ce77-eb83-41b2-a960-c4a47bc8e875  \n",
       "96  5737b66b-b96a-49eb-94e2-5c144f4e3334  3051bb40-53ee-49a0-8ef4-e30e461d44d6  \n",
       "97  5737b66b-b96a-49eb-94e2-5c144f4e3334  ce4e1b69-1ca3-4cb3-875b-128ba2d62008  \n",
       "\n",
       "[98 rows x 3 columns]"
      ]
     },
     "execution_count": 53,
     "metadata": {},
     "output_type": "execute_result"
    }
   ],
   "source": [
    "df_room"
   ]
  },
  {
   "cell_type": "markdown",
   "id": "5f220f40",
   "metadata": {},
   "source": [
    "# Reservation"
   ]
  },
  {
   "cell_type": "code",
   "execution_count": 54,
   "id": "4fc873d4",
   "metadata": {},
   "outputs": [],
   "source": [
    "champs_res=[\"grade_review\", \"level_grade_review\", \"id_date\", \"room_type\"]"
   ]
  },
  {
   "cell_type": "code",
   "execution_count": 55,
   "id": "4a0db5c3",
   "metadata": {},
   "outputs": [],
   "source": [
    "df_res = df[champs_res].copy()\n",
    "import uuid\n",
    "df_res.reset_index(drop=True, inplace=True)\n",
    "\n",
    "#merge pour avoir tous les id\n",
    "#doit avoir 11219 lignes\n",
    "df_res['id_reservation'] = df_res.apply(lambda _: uuid.uuid4(), axis=1)\n",
    "df_res = pd.merge(df_res, df_room[[\"id_room\", \"room_type\"]], how=\"left\", on = [\"room_type\"])\n",
    "df_res.drop_duplicates(subset=['id_reservation'], inplace=True)\n",
    "df_res.reset_index(drop=True, inplace=True)\n",
    "\n",
    "df_res.drop(columns=['room_type'], inplace=True)\n",
    "df_res = pd.concat([df_res, df_client['id_client']], axis=1) \n",
    "df_res.to_csv(str(mypath)+\"/tables/reservation.csv\",sep=';', index=False, encoding=\"utf-8-sig\")"
   ]
  },
  {
   "cell_type": "code",
   "execution_count": null,
   "id": "e3781caf",
   "metadata": {},
   "outputs": [],
   "source": []
  }
 ],
 "metadata": {
  "kernelspec": {
   "display_name": "Python 3 (ipykernel)",
   "language": "python",
   "name": "python3"
  },
  "language_info": {
   "codemirror_mode": {
    "name": "ipython",
    "version": 3
   },
   "file_extension": ".py",
   "mimetype": "text/x-python",
   "name": "python",
   "nbconvert_exporter": "python",
   "pygments_lexer": "ipython3",
   "version": "3.9.15"
  }
 },
 "nbformat": 4,
 "nbformat_minor": 5
}
