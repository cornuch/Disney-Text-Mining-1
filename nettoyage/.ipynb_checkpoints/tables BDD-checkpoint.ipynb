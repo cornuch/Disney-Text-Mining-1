{
 "cells": [
  {
   "cell_type": "code",
   "execution_count": 171,
   "id": "e303c4de",
   "metadata": {},
   "outputs": [],
   "source": [
    "import pandas as pd\n",
    "import os\n",
    "os.chdir(\"C:/Users/pauli/Documents/M2/Text Mining/projet/Disney-Text-Mining/fichiers\")\n",
    "mypath = os.getcwd()"
   ]
  },
  {
   "cell_type": "markdown",
   "id": "0ac7e598",
   "metadata": {},
   "source": [
    "# table date \n"
   ]
  },
  {
   "cell_type": "code",
   "execution_count": 172,
   "id": "1ccaa349",
   "metadata": {},
   "outputs": [],
   "source": [
    "df = pd.read_csv(str(mypath)+\"/df_clean/df_clean.csv\",sep=';')\n"
   ]
  },
  {
   "cell_type": "code",
   "execution_count": 173,
   "id": "ecc13c3d",
   "metadata": {},
   "outputs": [],
   "source": [
    "df[\"id_date\"] = df[\"date\"].astype(str)\n",
    "df[\"id_date\"] = df[\"id_date\"].str.replace(\"-\",\"\")"
   ]
  },
  {
   "cell_type": "code",
   "execution_count": 174,
   "id": "52b472f7",
   "metadata": {},
   "outputs": [],
   "source": [
    "champs_date = [\"month_str\",\"month_num\",\"year\",\"date\", \"id_date\"]"
   ]
  },
  {
   "cell_type": "code",
   "execution_count": 175,
   "id": "b7987c2b",
   "metadata": {},
   "outputs": [],
   "source": [
    "df_date = df[champs_date].copy()\n",
    "df_date.drop_duplicates(keep='first', inplace=True)\n",
    "df_date.reset_index(drop=True, inplace=True)\n",
    "df_date.to_csv(str(mypath)+\"/tables/date.csv\",sep=';', index=False, encoding=\"utf-8-sig\")"
   ]
  },
  {
   "cell_type": "markdown",
   "id": "9f79ed9f",
   "metadata": {},
   "source": [
    "# Client"
   ]
  },
  {
   "cell_type": "code",
   "execution_count": 176,
   "id": "d77eaa8e",
   "metadata": {},
   "outputs": [],
   "source": [
    "champs_client = [\"Country\", \"nuitee\", \"traveler_infos\", \"review_title\", \"positive_review\", \"negative_review\", \"usefulness_review\"]"
   ]
  },
  {
   "cell_type": "code",
   "execution_count": 177,
   "id": "0930d249",
   "metadata": {},
   "outputs": [],
   "source": [
    "df_client = df[champs_client].copy()\n",
    "df_client.rename(columns={'Country': 'country', 'nuitee': 'nb_night'}, inplace=True)\n",
    "import uuid\n",
    "df_client['id_client'] = df_client.apply(lambda _: uuid.uuid4(), axis=1)\n",
    "df_client.to_csv(str(mypath)+\"/tables/client.csv\",sep=';', index=False, encoding=\"utf-8-sig\")"
   ]
  },
  {
   "cell_type": "markdown",
   "id": "bf772ead",
   "metadata": {},
   "source": [
    "# hotel"
   ]
  },
  {
   "cell_type": "code",
   "execution_count": 178,
   "id": "2af420d1",
   "metadata": {},
   "outputs": [],
   "source": [
    "champs_hotel = [\"hotel\"]"
   ]
  },
  {
   "cell_type": "code",
   "execution_count": 179,
   "id": "7b3aba90",
   "metadata": {},
   "outputs": [],
   "source": [
    "df_hotel = df[champs_hotel].copy()\n",
    "df_hotel.drop_duplicates(keep='first', inplace=True)\n",
    "df_hotel.dropna(inplace=True)\n",
    "import uuid\n",
    "df_hotel['id_hotel'] = df_hotel.apply(lambda _: uuid.uuid4(), axis=1)\n",
    "df_hotel.to_csv(str(mypath)+\"/tables/hotel.csv\",sep=';', index=False, encoding=\"utf-8-sig\")"
   ]
  },
  {
   "cell_type": "markdown",
   "id": "16b6143d",
   "metadata": {},
   "source": [
    "# chambre"
   ]
  },
  {
   "cell_type": "code",
   "execution_count": 180,
   "id": "4f2d0bb4",
   "metadata": {},
   "outputs": [],
   "source": [
    "champs_chambre = [\"room_type\", \"hotel\"]"
   ]
  },
  {
   "cell_type": "code",
   "execution_count": 181,
   "id": "87bda420",
   "metadata": {},
   "outputs": [],
   "source": [
    "df_room = df[champs_chambre].copy()\n",
    "df_room.drop_duplicates(keep='first', inplace=True)\n",
    "import uuid\n",
    "df_room['id_room'] = df_room.apply(lambda _: uuid.uuid4(), axis=1)\n",
    "df_room.reset_index(drop=True, inplace=True)\n",
    "\n",
    "#merge pour avoir id_hotel\n",
    "df_room=df_room.merge(df_hotel, on='hotel')\n",
    "df_room.drop(columns=['hotel'], inplace=True)\n",
    "df_room.to_csv(str(mypath)+\"/tables/room.csv\",sep=';', index=False, encoding=\"utf-8-sig\")"
   ]
  },
  {
   "cell_type": "markdown",
   "id": "5f220f40",
   "metadata": {},
   "source": [
    "# Reservation"
   ]
  },
  {
   "cell_type": "code",
   "execution_count": 182,
   "id": "4fc873d4",
   "metadata": {},
   "outputs": [],
   "source": [
    "champs_res=[\"grade_review\", \"level_grade_review\", \"id_date\", \"room_type\"]"
   ]
  },
  {
   "cell_type": "code",
   "execution_count": 183,
   "id": "4a0db5c3",
   "metadata": {},
   "outputs": [],
   "source": [
    "df_res = df[champs_res].copy()\n",
    "import uuid\n",
    "df_res.reset_index(drop=True, inplace=True)\n",
    "\n",
    "#merge pour avoir tous les id\n",
    "#doit avoir 11219 lignes\n",
    "df_res['id_reservation'] = df_res.apply(lambda _: uuid.uuid4(), axis=1)\n",
    "df_res = pd.merge(df_res, df_room[[\"id_room\", \"room_type\"]], how=\"left\", on = [\"room_type\"])\n",
    "df_res.drop_duplicates(subset=['id_reservation'], inplace=True)\n",
    "df_res.reset_index(drop=True, inplace=True)\n",
    "\n",
    "df_res.drop(columns=['room_type'], inplace=True)\n",
    "df_res = pd.concat([df_res, df_client['id_client']], axis=1) \n",
    "df_res.to_csv(str(mypath)+\"/tables/reservation.csv\",sep=';', index=False, encoding=\"utf-8-sig\")"
   ]
  }
 ],
 "metadata": {
  "kernelspec": {
   "display_name": "Python 3 (ipykernel)",
   "language": "python",
   "name": "python3"
  },
  "language_info": {
   "codemirror_mode": {
    "name": "ipython",
    "version": 3
   },
   "file_extension": ".py",
   "mimetype": "text/x-python",
   "name": "python",
   "nbconvert_exporter": "python",
   "pygments_lexer": "ipython3",
   "version": "3.9.15"
  }
 },
 "nbformat": 4,
 "nbformat_minor": 5
}
