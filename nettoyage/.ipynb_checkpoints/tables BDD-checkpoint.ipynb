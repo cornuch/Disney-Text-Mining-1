{
 "cells": [
  {
   "cell_type": "code",
   "execution_count": 24,
   "id": "e303c4de",
   "metadata": {},
   "outputs": [],
   "source": [
    "import pandas as pd\n",
    "import os\n",
    "os.chdir(\"C:/Users/pauli/Documents/M2/Text Mining/projet/Disney-Text-Mining/fichiers\")\n",
    "mypath = os.getcwd()"
   ]
  },
  {
   "cell_type": "markdown",
   "id": "0ac7e598",
   "metadata": {},
   "source": [
    "# table date \n"
   ]
  },
  {
   "cell_type": "code",
   "execution_count": 25,
   "id": "1ccaa349",
   "metadata": {},
   "outputs": [
    {
     "data": {
      "text/plain": [
       "Index(['Names', 'Country', 'room_type', 'nuitee', 'reservation_date',\n",
       "       'traveler_infos', 'date_review', 'review_title', 'grade_review',\n",
       "       'positive_review', 'negative_review', 'usefulness_review', 'UniqueID',\n",
       "       'hotel', 'level_grade_review', 'level_hotel', 'month_str', 'month_num',\n",
       "       'year', 'delay_comment', 'date'],\n",
       "      dtype='object')"
      ]
     },
     "execution_count": 25,
     "metadata": {},
     "output_type": "execute_result"
    }
   ],
   "source": [
    "df = pd.read_csv(str(mypath)+\"/df_clean/df_clean.csv\",sep=';')\n",
    "df.columns"
   ]
  },
  {
   "cell_type": "code",
   "execution_count": 26,
   "id": "ecc13c3d",
   "metadata": {},
   "outputs": [],
   "source": [
    "df[\"id_date\"] = df[\"date\"].astype(str)\n",
    "df[\"id_date\"] = df[\"id_date\"].str.replace(\"-\",\"\")"
   ]
  },
  {
   "cell_type": "code",
   "execution_count": 27,
   "id": "52b472f7",
   "metadata": {},
   "outputs": [],
   "source": [
    "champs_date = [\"month_str\",\"month_num\",\"year\",\"date\", \"id_date\"]"
   ]
  },
  {
   "cell_type": "code",
   "execution_count": 28,
   "id": "b7987c2b",
   "metadata": {},
   "outputs": [],
   "source": [
    "df_date = df[champs_date].copy()\n",
    "df_date.drop_duplicates(keep='first', inplace=True)\n",
    "df_date.reset_index(drop=True, inplace=True)\n",
    "df_date.to_csv(str(mypath)+\"/tables/date.csv\",sep=';', index=False, encoding=\"utf-8-sig\")"
   ]
  },
  {
   "cell_type": "markdown",
   "id": "9f79ed9f",
   "metadata": {},
   "source": [
    "# Client"
   ]
  },
  {
   "cell_type": "code",
   "execution_count": 29,
   "id": "d77eaa8e",
   "metadata": {},
   "outputs": [],
   "source": [
    "champs_client = [\"Country\", \"nuitee\", \"traveler_infos\", \"review_title\", \"positive_review\", \"negative_review\", \"usefulness_review\", \"delay_comment\"]"
   ]
  },
  {
   "cell_type": "code",
   "execution_count": 30,
   "id": "0930d249",
   "metadata": {},
   "outputs": [],
   "source": [
    "df_client = df[champs_client].copy()\n",
    "df_client.rename(columns={'Country': 'country'}, inplace=True)\n",
    "import uuid\n",
    "df_client['id_client'] = df_client.apply(lambda _: uuid.uuid4(), axis=1)\n",
    "df_client.to_csv(str(mypath)+\"/tables/client.csv\",sep=';', index=False, encoding=\"utf-8-sig\")"
   ]
  },
  {
   "cell_type": "markdown",
   "id": "bf772ead",
   "metadata": {},
   "source": [
    "# hotel"
   ]
  },
  {
   "cell_type": "code",
   "execution_count": 31,
   "id": "2af420d1",
   "metadata": {},
   "outputs": [],
   "source": [
    "champs_hotel = [\"hotel\", \"level_hotel\"]"
   ]
  },
  {
   "cell_type": "code",
   "execution_count": 32,
   "id": "7b3aba90",
   "metadata": {},
   "outputs": [],
   "source": [
    "df_hotel = df[champs_hotel].copy()\n",
    "df_hotel.drop_duplicates(keep='first', inplace=True)\n",
    "df_hotel.dropna(inplace=True)\n",
    "import uuid\n",
    "df_hotel['id_hotel'] = df_hotel.apply(lambda _: uuid.uuid4(), axis=1)\n",
    "df_hotel.reset_index(drop=True, inplace=True)\n",
    "df_hotel.to_csv(str(mypath)+\"/tables/hotel.csv\",sep=';', index=False, encoding=\"utf-8-sig\")"
   ]
  },
  {
   "cell_type": "markdown",
   "id": "16b6143d",
   "metadata": {},
   "source": [
    "# chambre"
   ]
  },
  {
   "cell_type": "code",
   "execution_count": 33,
   "id": "4f2d0bb4",
   "metadata": {},
   "outputs": [],
   "source": [
    "champs_chambre = [\"room_type\", \"hotel\"]"
   ]
  },
  {
   "cell_type": "code",
   "execution_count": 40,
   "id": "87bda420",
   "metadata": {},
   "outputs": [],
   "source": [
    "df_room = df[champs_chambre].copy()\n",
    "df_room.drop_duplicates(keep='first', inplace=True)\n",
    "import uuid\n",
    "df_room.reset_index(drop=True, inplace=True)\n",
    "\n",
    "#merge pour avoir id_hotel\n",
    "df_room=df_room.merge(df_hotel, on='hotel')\n",
    "df_room['id_room'] = df_room.apply(lambda _: uuid.uuid4(), axis=1)\n",
    "df_room.drop(columns=['hotel', 'level_hotel'], inplace=True)\n",
    "df_room.to_csv(str(mypath)+\"/tables/room.csv\",sep=';', index=False, encoding=\"utf-8-sig\")"
   ]
  },
  {
   "cell_type": "code",
   "execution_count": 41,
   "id": "7ab2210e",
   "metadata": {},
   "outputs": [
    {
     "data": {
      "text/html": [
       "<div>\n",
       "<style scoped>\n",
       "    .dataframe tbody tr th:only-of-type {\n",
       "        vertical-align: middle;\n",
       "    }\n",
       "\n",
       "    .dataframe tbody tr th {\n",
       "        vertical-align: top;\n",
       "    }\n",
       "\n",
       "    .dataframe thead th {\n",
       "        text-align: right;\n",
       "    }\n",
       "</style>\n",
       "<table border=\"1\" class=\"dataframe\">\n",
       "  <thead>\n",
       "    <tr style=\"text-align: right;\">\n",
       "      <th></th>\n",
       "      <th>room_type</th>\n",
       "      <th>id_hotel</th>\n",
       "      <th>id_room</th>\n",
       "    </tr>\n",
       "  </thead>\n",
       "  <tbody>\n",
       "    <tr>\n",
       "      <th>0</th>\n",
       "      <td>Chambre Standard Woody's Roundup</td>\n",
       "      <td>b3fd4c1c-48f8-40c3-aaf8-436b772a4ff6</td>\n",
       "      <td>64def945-493f-458c-bd46-0005b14a00e0</td>\n",
       "    </tr>\n",
       "    <tr>\n",
       "      <th>1</th>\n",
       "      <td>NaN</td>\n",
       "      <td>b3fd4c1c-48f8-40c3-aaf8-436b772a4ff6</td>\n",
       "      <td>f4bf5b58-2ea5-434f-9df0-b80e1acc9b1b</td>\n",
       "    </tr>\n",
       "    <tr>\n",
       "      <th>2</th>\n",
       "      <td>Chambre Double/Lit Gigogne Woody's Roundup - C...</td>\n",
       "      <td>b3fd4c1c-48f8-40c3-aaf8-436b772a4ff6</td>\n",
       "      <td>390bed98-fc91-44f7-b180-78e60627f2d5</td>\n",
       "    </tr>\n",
       "    <tr>\n",
       "      <th>3</th>\n",
       "      <td>Chambre Woody's Roundup à Proximité des Instal...</td>\n",
       "      <td>b3fd4c1c-48f8-40c3-aaf8-436b772a4ff6</td>\n",
       "      <td>ec851b25-abe6-4275-bcb1-9af13c5e4451</td>\n",
       "    </tr>\n",
       "    <tr>\n",
       "      <th>4</th>\n",
       "      <td>Chambre Standard Woody's Roundup (2 Adultes + ...</td>\n",
       "      <td>b3fd4c1c-48f8-40c3-aaf8-436b772a4ff6</td>\n",
       "      <td>1fa42ea8-ff96-4f6f-99c9-51aeb157da15</td>\n",
       "    </tr>\n",
       "    <tr>\n",
       "      <th>...</th>\n",
       "      <td>...</td>\n",
       "      <td>...</td>\n",
       "      <td>...</td>\n",
       "    </tr>\n",
       "    <tr>\n",
       "      <th>93</th>\n",
       "      <td>Chambre Golden Forest Club – Côté Lac (3 Adult...</td>\n",
       "      <td>2ec40eeb-040c-4277-b30a-277dd4df2202</td>\n",
       "      <td>fa1025c4-565f-4e2b-9ff8-7fd839256dc1</td>\n",
       "    </tr>\n",
       "    <tr>\n",
       "      <th>94</th>\n",
       "      <td>Chambre Standard proche Installations Hôtelièr...</td>\n",
       "      <td>2ec40eeb-040c-4277-b30a-277dd4df2202</td>\n",
       "      <td>03ad932d-2b6e-46ea-80f0-0ff68bc8c70f</td>\n",
       "    </tr>\n",
       "    <tr>\n",
       "      <th>95</th>\n",
       "      <td>Chambre Golden Forest Club (2 Adultes + 2 Enfa...</td>\n",
       "      <td>2ec40eeb-040c-4277-b30a-277dd4df2202</td>\n",
       "      <td>8613ec70-ef8b-4b11-88d1-2587fb1a9567</td>\n",
       "    </tr>\n",
       "    <tr>\n",
       "      <th>96</th>\n",
       "      <td>Chambre Golden Forest Club (3 Adultes + 1 Enfant)</td>\n",
       "      <td>2ec40eeb-040c-4277-b30a-277dd4df2202</td>\n",
       "      <td>3d9b8e0f-8fa4-4fda-8a5b-6c5aaa29c108</td>\n",
       "    </tr>\n",
       "    <tr>\n",
       "      <th>97</th>\n",
       "      <td>Chambre Standard (1 Adulte + 3 Enfants)</td>\n",
       "      <td>2ec40eeb-040c-4277-b30a-277dd4df2202</td>\n",
       "      <td>b4ccc4f3-746a-4195-af43-2cfbc99f9e17</td>\n",
       "    </tr>\n",
       "  </tbody>\n",
       "</table>\n",
       "<p>98 rows × 3 columns</p>\n",
       "</div>"
      ],
      "text/plain": [
       "                                            room_type  \\\n",
       "0                    Chambre Standard Woody's Roundup   \n",
       "1                                                 NaN   \n",
       "2   Chambre Double/Lit Gigogne Woody's Roundup - C...   \n",
       "3   Chambre Woody's Roundup à Proximité des Instal...   \n",
       "4   Chambre Standard Woody's Roundup (2 Adultes + ...   \n",
       "..                                                ...   \n",
       "93  Chambre Golden Forest Club – Côté Lac (3 Adult...   \n",
       "94  Chambre Standard proche Installations Hôtelièr...   \n",
       "95  Chambre Golden Forest Club (2 Adultes + 2 Enfa...   \n",
       "96  Chambre Golden Forest Club (3 Adultes + 1 Enfant)   \n",
       "97            Chambre Standard (1 Adulte + 3 Enfants)   \n",
       "\n",
       "                                id_hotel                               id_room  \n",
       "0   b3fd4c1c-48f8-40c3-aaf8-436b772a4ff6  64def945-493f-458c-bd46-0005b14a00e0  \n",
       "1   b3fd4c1c-48f8-40c3-aaf8-436b772a4ff6  f4bf5b58-2ea5-434f-9df0-b80e1acc9b1b  \n",
       "2   b3fd4c1c-48f8-40c3-aaf8-436b772a4ff6  390bed98-fc91-44f7-b180-78e60627f2d5  \n",
       "3   b3fd4c1c-48f8-40c3-aaf8-436b772a4ff6  ec851b25-abe6-4275-bcb1-9af13c5e4451  \n",
       "4   b3fd4c1c-48f8-40c3-aaf8-436b772a4ff6  1fa42ea8-ff96-4f6f-99c9-51aeb157da15  \n",
       "..                                   ...                                   ...  \n",
       "93  2ec40eeb-040c-4277-b30a-277dd4df2202  fa1025c4-565f-4e2b-9ff8-7fd839256dc1  \n",
       "94  2ec40eeb-040c-4277-b30a-277dd4df2202  03ad932d-2b6e-46ea-80f0-0ff68bc8c70f  \n",
       "95  2ec40eeb-040c-4277-b30a-277dd4df2202  8613ec70-ef8b-4b11-88d1-2587fb1a9567  \n",
       "96  2ec40eeb-040c-4277-b30a-277dd4df2202  3d9b8e0f-8fa4-4fda-8a5b-6c5aaa29c108  \n",
       "97  2ec40eeb-040c-4277-b30a-277dd4df2202  b4ccc4f3-746a-4195-af43-2cfbc99f9e17  \n",
       "\n",
       "[98 rows x 3 columns]"
      ]
     },
     "execution_count": 41,
     "metadata": {},
     "output_type": "execute_result"
    }
   ],
   "source": [
    "df_room"
   ]
  },
  {
   "cell_type": "markdown",
   "id": "5f220f40",
   "metadata": {},
   "source": [
    "# Reservation"
   ]
  },
  {
   "cell_type": "code",
   "execution_count": 35,
   "id": "4fc873d4",
   "metadata": {},
   "outputs": [],
   "source": [
    "champs_res=[\"grade_review\", \"level_grade_review\", \"id_date\", \"room_type\"]"
   ]
  },
  {
   "cell_type": "code",
   "execution_count": 36,
   "id": "4a0db5c3",
   "metadata": {},
   "outputs": [],
   "source": [
    "df_res = df[champs_res].copy()\n",
    "import uuid\n",
    "df_res.reset_index(drop=True, inplace=True)\n",
    "\n",
    "#merge pour avoir tous les id\n",
    "#doit avoir 11219 lignes\n",
    "df_res['id_reservation'] = df_res.apply(lambda _: uuid.uuid4(), axis=1)\n",
    "df_res = pd.merge(df_res, df_room[[\"id_room\", \"room_type\"]], how=\"left\", on = [\"room_type\"])\n",
    "df_res.drop_duplicates(subset=['id_reservation'], inplace=True)\n",
    "df_res.reset_index(drop=True, inplace=True)\n",
    "\n",
    "df_res.drop(columns=['room_type'], inplace=True)\n",
    "df_res = pd.concat([df_res, df_client['id_client']], axis=1) \n",
    "df_res.to_csv(str(mypath)+\"/tables/reservation.csv\",sep=';', index=False, encoding=\"utf-8-sig\")"
   ]
  }
 ],
 "metadata": {
  "kernelspec": {
   "display_name": "Python 3 (ipykernel)",
   "language": "python",
   "name": "python3"
  },
  "language_info": {
   "codemirror_mode": {
    "name": "ipython",
    "version": 3
   },
   "file_extension": ".py",
   "mimetype": "text/x-python",
   "name": "python",
   "nbconvert_exporter": "python",
   "pygments_lexer": "ipython3",
   "version": "3.9.15"
  }
 },
 "nbformat": 4,
 "nbformat_minor": 5
}
