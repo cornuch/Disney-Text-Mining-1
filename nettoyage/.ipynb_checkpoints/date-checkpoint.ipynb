{
 "cells": [
  {
   "cell_type": "code",
   "execution_count": 2,
   "id": "0f7cfafe",
   "metadata": {},
   "outputs": [],
   "source": [
    "import pandas as pd"
   ]
  },
  {
   "cell_type": "code",
   "execution_count": 3,
   "id": "96bcee45",
   "metadata": {},
   "outputs": [],
   "source": [
    "df=pd.read_csv(\"https://raw.githubusercontent.com/paulineattal/Disney-Text-Mining/main/fichiers/Scrapping_Newport_Bay_Club_071222.csv\",sep=';')"
   ]
  },
  {
   "cell_type": "code",
   "execution_count": 6,
   "id": "01f90bf4",
   "metadata": {},
   "outputs": [
    {
     "name": "stdout",
     "output_type": "stream",
     "text": [
      "0       Septembre\n",
      "1        Novembre\n",
      "2        Novembre\n",
      "3        Novembre\n",
      "4        Novembre\n",
      "          ...    \n",
      "2280      Janvier\n",
      "2281     Décembre\n",
      "2282      Janvier\n",
      "2283      Janvier\n",
      "2284     Décembre\n",
      "Name: reservation_type, Length: 2285, dtype: object\n"
     ]
    }
   ],
   "source": [
    "df_mois_sejour=df['reservation_type'].map(str)\n",
    "for i in range(df.shape[0]):\n",
    "    df_mois_sejour[i]=df_mois_sejour[i].split()[3]\n",
    "print(df_mois_sejour)"
   ]
  },
  {
   "cell_type": "code",
   "execution_count": 7,
   "id": "87356e1a",
   "metadata": {},
   "outputs": [
    {
     "name": "stdout",
     "output_type": "stream",
     "text": [
      "0       2022\n",
      "1       2022\n",
      "2       2022\n",
      "3       2022\n",
      "4       2022\n",
      "        ... \n",
      "2280    2020\n",
      "2281    2019\n",
      "2282    2020\n",
      "2283    2020\n",
      "2284    2019\n",
      "Name: reservation_type, Length: 2285, dtype: object\n"
     ]
    }
   ],
   "source": [
    "df_annee_sejour=df['reservation_type'].map(str)\n",
    "for i in range(df.shape[0]):\n",
    "    df_annee_sejour[i]=df_annee_sejour[i].split()[4]\n",
    "print(df_annee_sejour)"
   ]
  },
  {
   "cell_type": "code",
   "execution_count": 9,
   "id": "b7cd617b",
   "metadata": {},
   "outputs": [
    {
     "data": {
      "text/html": [
       "<div>\n",
       "<style scoped>\n",
       "    .dataframe tbody tr th:only-of-type {\n",
       "        vertical-align: middle;\n",
       "    }\n",
       "\n",
       "    .dataframe tbody tr th {\n",
       "        vertical-align: top;\n",
       "    }\n",
       "\n",
       "    .dataframe thead th {\n",
       "        text-align: right;\n",
       "    }\n",
       "</style>\n",
       "<table border=\"1\" class=\"dataframe\">\n",
       "  <thead>\n",
       "    <tr style=\"text-align: right;\">\n",
       "      <th></th>\n",
       "      <th>mois_str</th>\n",
       "      <th>mois_num</th>\n",
       "      <th>année</th>\n",
       "    </tr>\n",
       "  </thead>\n",
       "  <tbody>\n",
       "    <tr>\n",
       "      <th>0</th>\n",
       "      <td>Septembre</td>\n",
       "      <td>9</td>\n",
       "      <td>2022</td>\n",
       "    </tr>\n",
       "    <tr>\n",
       "      <th>1</th>\n",
       "      <td>Novembre</td>\n",
       "      <td>11</td>\n",
       "      <td>2022</td>\n",
       "    </tr>\n",
       "    <tr>\n",
       "      <th>2</th>\n",
       "      <td>Novembre</td>\n",
       "      <td>11</td>\n",
       "      <td>2022</td>\n",
       "    </tr>\n",
       "    <tr>\n",
       "      <th>3</th>\n",
       "      <td>Novembre</td>\n",
       "      <td>11</td>\n",
       "      <td>2022</td>\n",
       "    </tr>\n",
       "    <tr>\n",
       "      <th>4</th>\n",
       "      <td>Novembre</td>\n",
       "      <td>11</td>\n",
       "      <td>2022</td>\n",
       "    </tr>\n",
       "    <tr>\n",
       "      <th>...</th>\n",
       "      <td>...</td>\n",
       "      <td>...</td>\n",
       "      <td>...</td>\n",
       "    </tr>\n",
       "    <tr>\n",
       "      <th>2280</th>\n",
       "      <td>Janvier</td>\n",
       "      <td>1</td>\n",
       "      <td>2020</td>\n",
       "    </tr>\n",
       "    <tr>\n",
       "      <th>2281</th>\n",
       "      <td>Décembre</td>\n",
       "      <td>12</td>\n",
       "      <td>2019</td>\n",
       "    </tr>\n",
       "    <tr>\n",
       "      <th>2282</th>\n",
       "      <td>Janvier</td>\n",
       "      <td>1</td>\n",
       "      <td>2020</td>\n",
       "    </tr>\n",
       "    <tr>\n",
       "      <th>2283</th>\n",
       "      <td>Janvier</td>\n",
       "      <td>1</td>\n",
       "      <td>2020</td>\n",
       "    </tr>\n",
       "    <tr>\n",
       "      <th>2284</th>\n",
       "      <td>Décembre</td>\n",
       "      <td>12</td>\n",
       "      <td>2019</td>\n",
       "    </tr>\n",
       "  </tbody>\n",
       "</table>\n",
       "<p>2285 rows × 3 columns</p>\n",
       "</div>"
      ],
      "text/plain": [
       "       mois_str  mois_num année\n",
       "0     Septembre         9  2022\n",
       "1      Novembre        11  2022\n",
       "2      Novembre        11  2022\n",
       "3      Novembre        11  2022\n",
       "4      Novembre        11  2022\n",
       "...         ...       ...   ...\n",
       "2280    Janvier         1  2020\n",
       "2281   Décembre        12  2019\n",
       "2282    Janvier         1  2020\n",
       "2283    Janvier         1  2020\n",
       "2284   Décembre        12  2019\n",
       "\n",
       "[2285 rows x 3 columns]"
      ]
     },
     "execution_count": 9,
     "metadata": {},
     "output_type": "execute_result"
    }
   ],
   "source": [
    "from time import strptime\n",
    "import locale\n",
    "locale.setlocale(locale.LC_TIME,'')\n",
    "\n",
    "\n",
    "list_mois_num = [strptime(mois_sejour,'%B').tm_mon for mois_sejour in df_mois_sejour]\n",
    "\n",
    "d = {'mois_str': df_mois_sejour, 'mois_num': list_mois_num, 'année' : df_annee_sejour}\n",
    "df = pd.DataFrame(data=d)\n",
    "df\n",
    "#possibilité de rajouter num semaine, ou autres info ?? \n"
   ]
  }
 ],
 "metadata": {
  "kernelspec": {
   "display_name": "Python 3 (ipykernel)",
   "language": "python",
   "name": "python3"
  },
  "language_info": {
   "codemirror_mode": {
    "name": "ipython",
    "version": 3
   },
   "file_extension": ".py",
   "mimetype": "text/x-python",
   "name": "python",
   "nbconvert_exporter": "python",
   "pygments_lexer": "ipython3",
   "version": "3.9.15"
  }
 },
 "nbformat": 4,
 "nbformat_minor": 5
}
