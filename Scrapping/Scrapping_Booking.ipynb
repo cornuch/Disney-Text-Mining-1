{
 "cells": [
  {
   "cell_type": "code",
   "execution_count": 1,
   "metadata": {},
   "outputs": [],
   "source": [
    "from selenium import webdriver\n",
    "from selenium.webdriver.common.by import By\n",
    "from bs4 import BeautifulSoup\n",
    "import time\n",
    "\n",
    "import numpy as np\n"
   ]
  },
  {
   "cell_type": "code",
   "execution_count": 56,
   "metadata": {},
   "outputs": [
    {
     "name": "stderr",
     "output_type": "stream",
     "text": [
      "C:\\Users\\houde\\AppData\\Local\\Temp\\ipykernel_10892\\1965043799.py:5: DeprecationWarning: executable_path has been deprecated, please pass in a Service object\n",
      "  driver = webdriver.Chrome(\"/usr/local/bin/chromedriver\")\n"
     ]
    },
    {
     "ename": "TypeError",
     "evalue": "'NoneType' object is not callable",
     "output_type": "error",
     "traceback": [
      "\u001b[1;31m---------------------------------------------------------------------------\u001b[0m",
      "\u001b[1;31mTypeError\u001b[0m                                 Traceback (most recent call last)",
      "Cell \u001b[1;32mIn[56], line 27\u001b[0m\n\u001b[0;32m     22\u001b[0m all_content \u001b[39m=\u001b[39m bs4get\u001b[39m.\u001b[39mfindAll(\u001b[39m\"\u001b[39m\u001b[39mul\u001b[39m\u001b[39m\"\u001b[39m, class_\u001b[39m=\u001b[39m \u001b[39m\"\u001b[39m\u001b[39mreview_list\u001b[39m\u001b[39m\"\u001b[39m)\n\u001b[0;32m     24\u001b[0m \u001b[39mfor\u001b[39;00m content \u001b[39min\u001b[39;00m all_content :\n\u001b[0;32m     25\u001b[0m \n\u001b[0;32m     26\u001b[0m     \u001b[39m# Get the names\u001b[39;00m\n\u001b[1;32m---> 27\u001b[0m     name \u001b[39m=\u001b[39m content\u001b[39m.\u001b[39;49mfind_elements(By\u001b[39m.\u001b[39;49mXPATH, \u001b[39m'\u001b[39;49m\u001b[39m//div[@class=\u001b[39;49m\u001b[39m\"\u001b[39;49m\u001b[39mbui-avatar-block__text\u001b[39;49m\u001b[39m\"\u001b[39;49m\u001b[39m]//span[@class=\u001b[39;49m\u001b[39m\"\u001b[39;49m\u001b[39mbui-avatar-block__title\u001b[39;49m\u001b[39m\"\u001b[39;49m\u001b[39m]\u001b[39;49m\u001b[39m'\u001b[39;49m)\u001b[39m.\u001b[39mtext\n\u001b[0;32m     29\u001b[0m     collectNames\u001b[39m.\u001b[39mappend(name)\n\u001b[0;32m     31\u001b[0m \u001b[39mprint\u001b[39m(collectNames)\n",
      "\u001b[1;31mTypeError\u001b[0m: 'NoneType' object is not callable"
     ]
    }
   ],
   "source": [
    "# Url / set a list of URLS later\n",
    "url = \"https://www.booking.com/hotel/fr/disney-39-s-newport-bay-club-r.fr.html#tab-reviews\"\n",
    "\n",
    "# Get the driver\n",
    "driver = webdriver.Chrome(\"/usr/local/bin/chromedriver\")\n",
    "\n",
    "# Create list to get the data\n",
    "collectNames = []\n",
    "collectCountry = []\n",
    "# Put the url into the driver\n",
    "driver.get(url)\n",
    "\n",
    "# Reject cookies\n",
    "driver.find_element(By.ID, \"onetrust-reject-all-handler\").click()\n",
    "\n",
    "# Number of reviews per pages\n",
    "n_reviews = driver.find_element(By.CLASS_NAME, \"review_list\")\n",
    "\n",
    "#page_content = driver.page_source\n",
    "#bs4get = BeautifulSoup(page_content)\n",
    "\n",
    "#all_content = bs4get.findAll(\"ul\", class_= \"review_list\")\n",
    "\n",
    "\n",
    "    # Get the names\n",
    "namepath = '//*[@id=\"review_list_page_container\"]/ul/li[1]/div/div[2]/div[2]/div[1]/span[2]'\n",
    "countrypath = '//*[@id=\"review_list_page_container\"]/ul/li[1]/div/div[2]/div[1]/div[1]/div/div[2]/span[2]/text()'\n",
    "name = driver.find_elements(By.XPATH, 'namepath').text\n",
    "country = driver.find_elements(By.XPATH, 'namepath').text\n",
    "\n",
    "\n",
    "collectNames.append(name)\n",
    "collectCountry.append(country)\n",
    "\n",
    "# ID \n",
    "print(collectNames)\n"
   ]
  },
  {
   "cell_type": "code",
   "execution_count": 48,
   "metadata": {},
   "outputs": [
    {
     "name": "stdout",
     "output_type": "stream",
     "text": [
      "['Laura\\nBelgique']\n"
     ]
    }
   ],
   "source": [
    "print(collectNom)\n",
    "\n",
    "time.sleep(1)\n",
    "\n",
    "# Switch pages \n",
    "driver.find_element(By.CLASS_NAME, \"pagenext\").click()\n",
    "\n"
   ]
  },
  {
   "cell_type": "code",
   "execution_count": 32,
   "metadata": {},
   "outputs": [
    {
     "name": "stderr",
     "output_type": "stream",
     "text": [
      "C:\\Users\\houde\\AppData\\Local\\Temp\\ipykernel_10892\\2123798703.py:3: DeprecationWarning: executable_path has been deprecated, please pass in a Service object\n",
      "  driver = webdriver.Chrome(\"/usr/local/bin/chromedriver\")\n"
     ]
    },
    {
     "ename": "TypeError",
     "evalue": "'NoneType' object is not callable",
     "output_type": "error",
     "traceback": [
      "\u001b[1;31m---------------------------------------------------------------------------\u001b[0m",
      "\u001b[1;31mTypeError\u001b[0m                                 Traceback (most recent call last)",
      "Cell \u001b[1;32mIn[32], line 12\u001b[0m\n\u001b[0;32m     10\u001b[0m content \u001b[39m=\u001b[39m driver\u001b[39m.\u001b[39mpage_source\n\u001b[0;32m     11\u001b[0m soup \u001b[39m=\u001b[39m BeautifulSoup(content)\n\u001b[1;32m---> 12\u001b[0m one \u001b[39m=\u001b[39m soup\u001b[39m.\u001b[39;49mfind_element(By\u001b[39m.\u001b[39;49mXPATH, \u001b[39m'\u001b[39;49m\u001b[39m//div[@class=\u001b[39;49m\u001b[39m\"\u001b[39;49m\u001b[39mbui-avatar-block__text\u001b[39;49m\u001b[39m\"\u001b[39;49m\u001b[39m]//span[@class=\u001b[39;49m\u001b[39m\"\u001b[39;49m\u001b[39mbui-avatar-block__title\u001b[39;49m\u001b[39m\"\u001b[39;49m\u001b[39m]\u001b[39;49m\u001b[39m'\u001b[39;49m)\u001b[39m.\u001b[39mtext\n\u001b[0;32m     14\u001b[0m test1\u001b[39m.\u001b[39mappend(one)\n\u001b[0;32m     16\u001b[0m time\u001b[39m.\u001b[39msleep(\u001b[39m1\u001b[39m)\n",
      "\u001b[1;31mTypeError\u001b[0m: 'NoneType' object is not callable"
     ]
    }
   ],
   "source": [
    " \n",
    " # Find numpages but lot of incovenients\n",
    "    numpages = driver.find_element(By.CLASS_NAME, \"bui-pagination__item\")\n",
    "\n",
    "\n",
    "\n"
   ]
  },
  {
   "cell_type": "code",
   "execution_count": null,
   "metadata": {},
   "outputs": [],
   "source": [
    "Un = bui-list__body\n",
    "Durée = bui-list__body\n",
    "Date = c-review-block__date\n",
    "Qui = bui-list__body"
   ]
  }
 ],
 "metadata": {
  "kernelspec": {
   "display_name": "Python 3.11.0 64-bit",
   "language": "python",
   "name": "python3"
  },
  "language_info": {
   "codemirror_mode": {
    "name": "ipython",
    "version": 3
   },
   "file_extension": ".py",
   "mimetype": "text/x-python",
   "name": "python",
   "nbconvert_exporter": "python",
   "pygments_lexer": "ipython3",
   "version": "3.11.0"
  },
  "orig_nbformat": 4,
  "vscode": {
   "interpreter": {
    "hash": "b16b5e40b26fc74d21e921d7f9348a7b0997adadfafa1fa5a2ce7e2f89b5982f"
   }
  }
 },
 "nbformat": 4,
 "nbformat_minor": 2
}
