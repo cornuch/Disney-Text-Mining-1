{
 "cells": [
  {
   "cell_type": "code",
   "execution_count": 3,
   "metadata": {},
   "outputs": [],
   "source": [
    "from selenium import webdriver\n",
    "from selenium.webdriver.common.by import By\n",
    "from bs4 import BeautifulSoup\n",
    "import time\n",
    "\n",
    "import numpy as np\n"
   ]
  },
  {
   "cell_type": "code",
   "execution_count": 11,
   "metadata": {},
   "outputs": [
    {
     "name": "stderr",
     "output_type": "stream",
     "text": [
      "C:\\Users\\houde\\AppData\\Local\\Temp\\ipykernel_19636\\3011750415.py:5: DeprecationWarning: executable_path has been deprecated, please pass in a Service object\n",
      "  driver = webdriver.Chrome(\"/usr/local/bin/chromedriver\")\n"
     ]
    },
    {
     "name": "stdout",
     "output_type": "stream",
     "text": [
      "['Commentaire envoyé le 21 septembre 2021']\n"
     ]
    }
   ],
   "source": [
    "# Url / set a list of URLS later\n",
    "url = \"https://www.booking.com/hotel/fr/disney-39-s-newport-bay-club-r.fr.html#tab-reviews\"\n",
    "\n",
    "# Get the driver\n",
    "driver = webdriver.Chrome(\"/usr/local/bin/chromedriver\")\n",
    "\n",
    "# Create list to get the data\n",
    "collectNames = []\n",
    "collectCountry = []\n",
    "# Put the url into the driver\n",
    "driver.get(url)\n",
    "\n",
    "# Reject cookies\n",
    "driver.find_element(By.ID, \"onetrust-reject-all-handler\").click()\n",
    "\n",
    "# Number of reviews per pages\n",
    "#n_reviews = driver.find_element(By.CLASS_NAME, \"review_list\")\n",
    "#page_content = driver.page_source\n",
    "#bs4get = BeautifulSoup(page_content)\n",
    "#all_content = bs4get.findAll(\"ul\", class_= \"review_list\")\n",
    "\n",
    "# Get path \n",
    "country_path = '//*[@id=\"review_list_page_container\"]/ul/li[1]/div/div[2]/div[1]/div[1]/div/div[2]/span[2]'\n",
    "type_room_path = '//*[@id=\"review_list_page_container\"]/ul/li[1]/div/div[2]/div[1]/div[2]/ul/li/a/div'\n",
    "len_reservation_path = '//*[@id=\"review_list_page_container\"]/ul/li[1]/div/div[2]/div[1]/ul[1]/li/div'\n",
    "month_year_path = '//*[@id=\"review_list_page_container\"]/ul/li[1]/div/div[2]/div[1]/ul[1]/li/div/span'\n",
    "voyageur_info_path = '//*[@id=\"review_list_page_container\"]/ul/li[1]/div/div[2]/div[1]/ul[2]/li'\n",
    "date_review_path = '//*[@id=\"review_list_page_container\"]/ul/li[1]/div/div[2]/div[2]/div[1]/span[2]'\n",
    "\n",
    "# Information\n",
    "country = driver.find_element(By.XPATH, country_path).text\n",
    "type_room = driver.find_element(By.XPATH, type_room_path).text\n",
    "len_reservation = driver.find_element(By.XPATH, len_reservation_path)\n",
    "month_year = driver.find_element(By.XPATH, month_year_path).text\n",
    "voyageur_info = driver.find_element(By.XPATH, voyageur_info_path)\n",
    "date_review = driver.find_element(By.XPATH, date_review_path).text\n",
    "\n",
    "# Apppend to list \n",
    "collectNames.append(name)\n",
    "collectCountry.append(country)\n",
    "\n",
    "# Print result\n",
    "print(collectNames)\n",
    "print(collectCountry)\n"
   ]
  },
  {
   "cell_type": "code",
   "execution_count": 48,
   "metadata": {},
   "outputs": [
    {
     "name": "stdout",
     "output_type": "stream",
     "text": [
      "['Laura\\nBelgique']\n"
     ]
    }
   ],
   "source": [
    "time.sleep(1)\n",
    "\n",
    "# Switch pages \n",
    "driver.find_element(By.CLASS_NAME, \"pagenext\").click()"
   ]
  },
  {
   "cell_type": "code",
   "execution_count": 32,
   "metadata": {},
   "outputs": [
    {
     "name": "stderr",
     "output_type": "stream",
     "text": [
      "C:\\Users\\houde\\AppData\\Local\\Temp\\ipykernel_10892\\2123798703.py:3: DeprecationWarning: executable_path has been deprecated, please pass in a Service object\n",
      "  driver = webdriver.Chrome(\"/usr/local/bin/chromedriver\")\n"
     ]
    },
    {
     "ename": "TypeError",
     "evalue": "'NoneType' object is not callable",
     "output_type": "error",
     "traceback": [
      "\u001b[1;31m---------------------------------------------------------------------------\u001b[0m",
      "\u001b[1;31mTypeError\u001b[0m                                 Traceback (most recent call last)",
      "Cell \u001b[1;32mIn[32], line 12\u001b[0m\n\u001b[0;32m     10\u001b[0m content \u001b[39m=\u001b[39m driver\u001b[39m.\u001b[39mpage_source\n\u001b[0;32m     11\u001b[0m soup \u001b[39m=\u001b[39m BeautifulSoup(content)\n\u001b[1;32m---> 12\u001b[0m one \u001b[39m=\u001b[39m soup\u001b[39m.\u001b[39;49mfind_element(By\u001b[39m.\u001b[39;49mXPATH, \u001b[39m'\u001b[39;49m\u001b[39m//div[@class=\u001b[39;49m\u001b[39m\"\u001b[39;49m\u001b[39mbui-avatar-block__text\u001b[39;49m\u001b[39m\"\u001b[39;49m\u001b[39m]//span[@class=\u001b[39;49m\u001b[39m\"\u001b[39;49m\u001b[39mbui-avatar-block__title\u001b[39;49m\u001b[39m\"\u001b[39;49m\u001b[39m]\u001b[39;49m\u001b[39m'\u001b[39;49m)\u001b[39m.\u001b[39mtext\n\u001b[0;32m     14\u001b[0m test1\u001b[39m.\u001b[39mappend(one)\n\u001b[0;32m     16\u001b[0m time\u001b[39m.\u001b[39msleep(\u001b[39m1\u001b[39m)\n",
      "\u001b[1;31mTypeError\u001b[0m: 'NoneType' object is not callable"
     ]
    }
   ],
   "source": [
    " # Find numpages but lot of incovenients\n",
    "    numpages = driver.find_element(By.CLASS_NAME, \"bui-pagination__item\")"
   ]
  },
  {
   "cell_type": "code",
   "execution_count": null,
   "metadata": {},
   "outputs": [],
   "source": [
    "Un = bui-list__body\n",
    "Durée = bui-list__body\n",
    "Date = c-review-block__date\n",
    "Qui = bui-list__body"
   ]
  }
 ],
 "metadata": {
  "kernelspec": {
   "display_name": "Python 3.11.0 64-bit",
   "language": "python",
   "name": "python3"
  },
  "language_info": {
   "codemirror_mode": {
    "name": "ipython",
    "version": 3
   },
   "file_extension": ".py",
   "mimetype": "text/x-python",
   "name": "python",
   "nbconvert_exporter": "python",
   "pygments_lexer": "ipython3",
   "version": "3.11.0"
  },
  "orig_nbformat": 4,
  "vscode": {
   "interpreter": {
    "hash": "b16b5e40b26fc74d21e921d7f9348a7b0997adadfafa1fa5a2ce7e2f89b5982f"
   }
  }
 },
 "nbformat": 4,
 "nbformat_minor": 2
}
