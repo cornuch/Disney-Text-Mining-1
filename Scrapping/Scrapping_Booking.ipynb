{
 "cells": [
  {
   "cell_type": "code",
   "execution_count": 14,
   "metadata": {},
   "outputs": [],
   "source": [
    "from selenium import webdriver\n",
    "from selenium.webdriver.common.by import By\n",
    "from bs4 import BeautifulSoup\n",
    "import time\n",
    "\n",
    "import numpy as np\n"
   ]
  },
  {
   "cell_type": "code",
   "execution_count": 34,
   "metadata": {},
   "outputs": [
    {
     "name": "stderr",
     "output_type": "stream",
     "text": [
      "C:\\Users\\houde\\AppData\\Local\\Temp\\ipykernel_19636\\3399804205.py:5: DeprecationWarning: executable_path has been deprecated, please pass in a Service object\n",
      "  driver = webdriver.Chrome(\"/usr/local/bin/chromedriver\")\n"
     ]
    },
    {
     "name": "stdout",
     "output_type": "stream",
     "text": [
      "['Ganna', 'Diego', 'Fabienne', 'Pierre', 'Christine', 'Gilles', 'Nino', 'Anne-sophie', 'Charline', 'Andre']\n",
      "['Ukraine', 'France', 'Belgique', 'France', 'France', 'France', 'Suisse', 'Suisse', 'Belgique', 'France']\n",
      "[[...], [...], [...], [...], [...], [...], [...], [...], [...], [...]]\n",
      "[[...], [...], [...], [...], [...], [...], [...], [...], [...], [...]]\n",
      "[[...], [...], [...], [...], [...], [...], [...], [...], [...], [...]]\n",
      "['Famille', 'Famille', 'Famille', 'Famille', 'Famille', 'Voyageur individuel', 'Famille', 'Famille', 'Famille', 'Famille']\n",
      "[]\n",
      "['Good choice for visiting Disneyland', 'Agréable', 'déçue qualité prix', 'très moyen par rapport au prix', 'Très bien', 'Comme une ambiance de croisière Disney', 'très bon moment passé en famille', 'agreable, très couteux', 'Avis mitigé', 'cher pour les prestations fournis']\n",
      "['10', '6,0', '6,0', '6,0', '8,0', '8,0', '7,0', '7,0', '7,0', '6,0']\n",
      "['', 'la proximité du parc Disneyland Paris', 'l emplacement', 'très bon personnel dédié mais la sécurité fait du zèle', 'La décoration de la chambre est adorable.\\nOn a une bouilloire pour préparer du thé ou du café.\\nOn a un large choix au petit déjeuné.\\nLa piscine est top. Pas beaucoup de monde.\\nLa boutique dans l hôtel est super pratique.', \"L'ambiance nautique de l'hôtel et la qualité des infrastructures rendent cette hôtel disney très agréable. Tout est mis en place pour que l'on se sentent bien après une belle journée au parc. Piscine & salle de sport ( serviettes fournis à discrétion ) , restaurant, bar et même une boutique Disney dans l'hôtel. Dans la chambre, machine à café senseo, thé et eau minéral.\", 'je pense qu’il serait judicieux afin que l’on fasse un effort collectif concernant nos énergie d’éteindre les lumières à partir de minuit concernant la piscine extérieure et les guirlandes lumineuses', 'le personnel', \"L'hôtel est très joli, le décor est détaillé. \\nLe lit double est confortable.\\nLe monsieur qui nous a accueillit à l'accueil était très sympa. Le petit déjeuner était très copieux, il y a beaucoup de choix différents pour les viennoiseries et les pains, chaque région peut se faire le petit-déjeuner qu'il aime.\", 'pas loin du parc Disney']\n",
      "[]\n",
      "[]\n"
     ]
    }
   ],
   "source": [
    "# Url / set a list of URLS later\n",
    "url = \"https://www.booking.com/hotel/fr/disney-39-s-newport-bay-club-r.fr.html#tab-reviews\"\n",
    "\n",
    "# Get the driver\n",
    "driver = webdriver.Chrome(\"/usr/local/bin/chromedriver\")\n",
    "\n",
    "# Create list to get the data\n",
    "collectName = []\n",
    "collectCountry = []\n",
    "collectType_room = []\n",
    "collectLen_reservation = []\n",
    "collectMonth_year = []\n",
    "collectVoyageur_info = []\n",
    "collectDate_review = []\n",
    "collectReview_title = []\n",
    "collectGrade_review = []\n",
    "collectPositive_review = []\n",
    "collectNegative_review = []\n",
    "collectIs_review_usefull = []\n",
    "\n",
    "# Put the url into the driver\n",
    "driver.get(url)\n",
    "\n",
    "# Reject cookies\n",
    "driver.find_element(By.ID, \"onetrust-reject-all-handler\").click()\n",
    "\n",
    "# Number of reviews per pages\n",
    "#n_reviews = driver.find_element(By.CLASS_NAME, \"review_list\")\n",
    "#page_content = driver.page_source\n",
    "#bs4get = BeautifulSoup(page_content)\n",
    "#all_content = bs4get.findAll(\"ul\", class_= \"review_list\")\n",
    "\n",
    "for i in range(1,11):\n",
    "# Get path \n",
    "    name_path = '//*[@id=\"review_list_page_container\"]/ul/li['+str(i)+']/div/div[2]/div[1]/div[1]/div/div[2]/span[1]'\n",
    "    country_path = '//*[@id=\"review_list_page_container\"]/ul/li['+str(i)+']/div/div[2]/div[1]/div[1]/div/div[2]/span[2]'\n",
    "    type_room_path = '//*[@id=\"review_list_page_container\"]/ul/li['+str(i)+']/div/div[2]/div[1]/div[2]/ul/li/a/div'\n",
    "    len_reservation_path = '//*[@id=\"review_list_page_container\"]/ul/li['+str(i)+']/div/div[2]/div[1]/ul[1]/li/div'\n",
    "    month_year_path = '//*[@id=\"review_list_page_container\"]/ul/li['+str(i)+']/div/div[2]/div[1]/ul[1]/li/div/span'\n",
    "    voyageur_info_path = '//*[@id=\"review_list_page_container\"]/ul/li['+str(i)+']/div/div[2]/div[1]/ul[2]/li'\n",
    "    date_review_path = '//*[@id=\"review_list_page_container\"]/ul/li['+str(i)+']/div/div[2]/div[2]/div[1]/span[2]'\n",
    "    review_title_path = '//*[@id=\"review_list_page_container\"]/ul/li['+str(i)+']/div/div[2]/div[2]/div[1]/div/div[1]/h3'\n",
    "    grade_review_path = '//*[@id=\"review_list_page_container\"]/ul/li['+str(i)+']/div/div[2]/div[2]/div[1]/div/div[2]/div/div'\n",
    "    positive_review_path = '//*[@id=\"review_list_page_container\"]/ul/li['+str(i)+']/div/div[2]/div[2]/div[2]/div/div[1]/p/span[3]'\n",
    "    negative_review_path = '//*[@id=\"review_list_page_container\"]/ul/li['+str(i)+']/div/div[2]/div[2]/div[2]/div/div[2]/p/span[3]'\n",
    "    is_review_usefull_path = '//*[@id=\"review_list_page_container\"]/ul/li['+str(i)+']/div/div[2]/div[2]/div[3]/div/div[1]/p[1]'\n",
    "\n",
    "# Information\n",
    "    name = driver.find_element(By.XPATH, name_path).text\n",
    "    country = driver.find_element(By.XPATH, country_path).text\n",
    "    type_room = driver.find_element(By.XPATH, type_room_path).text\n",
    "    len_reservation = driver.find_element(By.XPATH, len_reservation_path).text\n",
    "    month_year = driver.find_element(By.XPATH, month_year_path).text\n",
    "    voyageur_info = driver.find_element(By.XPATH, voyageur_info_path).text\n",
    "    #date_review = driver.find_element(By.XPATH, date_review_path).text\n",
    "    review_title = driver.find_element(By.XPATH, review_title_path).text\n",
    "    grade_review = driver.find_element(By.XPATH, grade_review_path).text\n",
    "    positive_review = driver.find_element(By.XPATH, positive_review_path).text\n",
    "    #negative_review = driver.find_element(By.XPATH, negative_review_path).text\n",
    "    #is_review_usefull = driver.find_element(By.XPATH, is_review_usefull_path).text\n",
    "\n",
    "# Apppend to list \n",
    "\n",
    "    collectName.append(name)\n",
    "    collectCountry.append(country)\n",
    "    collectType_room.append(collectType_room)\n",
    "    collectLen_reservation.append(collectLen_reservation)\n",
    "    collectMonth_year.append(collectMonth_year)\n",
    "    collectVoyageur_info.append(voyageur_info)\n",
    "    #collectDate_review.append(date_review)\n",
    "    collectReview_title.append(review_title)\n",
    "    collectGrade_review.append(grade_review)\n",
    "    collectPositive_review.append(positive_review)\n",
    "    #collectNegative_review.append(negative_review)\n",
    "    #collectIs_review_usefull.append(is_review_usefull)\n",
    "\n",
    "    time.sleep(1)\n",
    "\n",
    "    if i == 10:\n",
    "        i = 0\n",
    "    # Switch pages \n",
    "        driver.find_element(By.CLASS_NAME, \"pagenext\").click()\n",
    "        \n",
    "\n",
    "# Print result\n",
    "print(collectName)\n",
    "print(collectCountry)\n",
    "print(collectType_room)\n",
    "print(collectLen_reservation)\n",
    "print(collectMonth_year)\n",
    "print(collectVoyageur_info)\n",
    "print(collectDate_review)\n",
    "print(collectReview_title)\n",
    "print(collectGrade_review)\n",
    "print(collectPositive_review)\n",
    "print(collectNegative_review)\n",
    "print(collectIs_review_usefull)\n"
   ]
  },
  {
   "cell_type": "code",
   "execution_count": 96,
   "metadata": {},
   "outputs": [
    {
     "name": "stderr",
     "output_type": "stream",
     "text": [
      "C:\\Users\\houde\\AppData\\Local\\Temp\\ipykernel_19636\\3196208583.py:5: DeprecationWarning: executable_path has been deprecated, please pass in a Service object\n",
      "  driver = webdriver.Chrome(\"/usr/lib/chromium-browser/chromedriver\")\n"
     ]
    }
   ],
   "source": [
    "# Url / set a list of URLS later\n",
    "url = \"https://www.booking.com/hotel/fr/disney-39-s-newport-bay-club-r.fr.html#tab-reviews\"\n",
    "\n",
    "# Get the driver\n",
    "driver = webdriver.Chrome(\"/usr/local/bin/chromedriver\")\n",
    "\n",
    "doc_review = []\n",
    "# Put the url into the driver\n",
    "driver.get(url)\n",
    "\n",
    "# Reject cookies\n",
    "driver.find_element(By.ID, \"onetrust-reject-all-handler\").click()\n",
    "\n",
    "chiffres = list(\"0123456789\")\n",
    "n_pages = driver.find_element(By.XPATH, '//*[@id=\"review_list_page_container\"]/div[4]/div/div[1]/div/div[2]/div').text\n",
    "n_pages = n_pages[-5:]\n",
    "n_pages = \"\".join([w for w in n_pages if w in chiffres])\n",
    "n_pages = int(n_pages)\n",
    "\n",
    "for p in range(1,n_pages+1):\n",
    "    time.sleep(2)\n",
    "\n",
    "    for i in range(1,11):\n",
    "        full_review_path = '//*[@id=\"review_list_page_container\"]/ul/li['+str(i)+']'\n",
    "        try : \n",
    "            review = driver.find_element(By.XPATH,  full_review_path).text\n",
    "        except:\n",
    "            pass\n",
    "        doc_review.append(review)\n",
    "\n",
    "    try:\n",
    "        driver.find_element(By.CLASS_NAME, \"pagenext\").click()  \n",
    "    except:\n",
    "        pass\n"
   ]
  },
  {
   "cell_type": "code",
   "execution_count": 118,
   "metadata": {},
   "outputs": [],
   "source": [
    "#np.savetxt(\"scrapping_v1.csv\",doc_review, delimiter =\";\",  fmt ='% s') \n"
   ]
  },
  {
   "cell_type": "markdown",
   "metadata": {},
   "source": [
    "Stockage du scrapping dans un fichier pickle (car peut exigeant à l'écriture) afin d'ouvrir les données sans avoir à scrapper à chaque fois (12 minutes)"
   ]
  },
  {
   "cell_type": "code",
   "execution_count": 132,
   "metadata": {},
   "outputs": [],
   "source": [
    "# Python program to store list to file using pickle module\n",
    "import pickle\n",
    "\n",
    "# write list to binary file\n",
    "def write_list(a_list):\n",
    "    # store list in binary file so 'wb' mode\n",
    "    with open('scrapping', 'wb') as fp:\n",
    "        pickle.dump(doc_review, fp)\n",
    "        print('Done writing list into a binary file')\n",
    "\n",
    "# Read list to memory\n",
    "def read_list():\n",
    "    # for reading also binary mode is important\n",
    "    with open('scrapping', 'rb') as fp:\n",
    "        n_list = pickle.load(fp)\n",
    "        return n_list"
   ]
  },
  {
   "cell_type": "code",
   "execution_count": 130,
   "metadata": {},
   "outputs": [
    {
     "name": "stdout",
     "output_type": "stream",
     "text": [
      "Done writing list into a binary file\n"
     ]
    }
   ],
   "source": [
    "write_list(doc_review)"
   ]
  },
  {
   "cell_type": "code",
   "execution_count": 133,
   "metadata": {},
   "outputs": [],
   "source": [
    "scrapped = read_list()\n",
    "print(scrapped)"
   ]
  }
 ],
 "metadata": {
  "kernelspec": {
   "display_name": "Python 3.11.0 64-bit",
   "language": "python",
   "name": "python3"
  },
  "language_info": {
   "codemirror_mode": {
    "name": "ipython",
    "version": 3
   },
   "file_extension": ".py",
   "mimetype": "text/x-python",
   "name": "python",
   "nbconvert_exporter": "python",
   "pygments_lexer": "ipython3",
   "version": "3.11.0"
  },
  "orig_nbformat": 4,
  "vscode": {
   "interpreter": {
    "hash": "b16b5e40b26fc74d21e921d7f9348a7b0997adadfafa1fa5a2ce7e2f89b5982f"
   }
  }
 },
 "nbformat": 4,
 "nbformat_minor": 2
}
