{
 "cells": [
  {
   "cell_type": "code",
   "execution_count": 1,
   "id": "38adefde",
   "metadata": {},
   "outputs": [],
   "source": [
    "from selenium import webdriver\n",
    "from selenium.webdriver.common.by import By\n",
    "from bs4 import BeautifulSoup\n",
    "import time\n",
    "import numpy as np"
   ]
  },
  {
   "cell_type": "code",
   "execution_count": 2,
   "id": "b804a8e1",
   "metadata": {},
   "outputs": [
    {
     "name": "stderr",
     "output_type": "stream",
     "text": [
      "C:\\Users\\pauli\\AppData\\Local\\Temp\\ipykernel_19312\\2135150641.py:4: DeprecationWarning: executable_path has been deprecated, please pass in a Service object\n",
      "  driver = webdriver.Chrome(\"/usr/local/bin/chromedriver\")\n"
     ]
    }
   ],
   "source": [
    "url = \"https://www.booking.com/hotel/fr/disney-39-s-newport-bay-club-r.fr.html#tab-reviews\"\n",
    "\n",
    "# Get the driver\n",
    "driver = webdriver.Chrome(\"/usr/local/bin/chromedriver\")\n",
    "\n",
    "# Put the url into the driver\n",
    "driver.get(url)\n",
    "\n",
    "# Reject cookies\n",
    "driver.find_element(By.ID, \"onetrust-reject-all-handler\").click()"
   ]
  },
  {
   "cell_type": "code",
   "execution_count": null,
   "id": "065f06c0",
   "metadata": {},
   "outputs": [],
   "source": []
  },
  {
   "cell_type": "code",
   "execution_count": 3,
   "id": "baf74446",
   "metadata": {},
   "outputs": [],
   "source": [
    "numpages = driver.find_element(By.XPATH, \"/html/body/div[5]/div/div[4]/div[1]/div[1]/div[1]/div/div[2]/div[13]/div/div[1]/div[2]/div/div[3]/div[3]/div[4]/div/div[1]/div/div[2]/div/div[7]/a/span[1]\").text\n",
    "nbcomm = driver.find_element(By.XPATH, \"/html/body/div[5]/div/div[4]/div[1]/div[1]/div[1]/div/div[2]/div[13]/div/div[1]/div[2]/div/div[3]/div[3]/div[4]/div/div[2]/span\").text"
   ]
  },
  {
   "cell_type": "code",
   "execution_count": 4,
   "id": "372cd6ed",
   "metadata": {},
   "outputs": [
    {
     "name": "stdout",
     "output_type": "stream",
     "text": [
      "229\n",
      "Résultats 1 – 10\n"
     ]
    }
   ],
   "source": [
    "print(numpages)\n",
    "print(nbcomm)\n"
   ]
  },
  {
   "cell_type": "code",
   "execution_count": 18,
   "id": "4edc4469",
   "metadata": {},
   "outputs": [
    {
     "ename": "NoSuchElementException",
     "evalue": "Message: no such element: Unable to locate element: {\"method\":\"xpath\",\"selector\":\"/html/body/div[3]/div/div[5]/div[1]/div[1]/div[1]/div/div[2]/div[13]/div/div[1]/div[2]/div/div[3]/div[3]/ul\"}\n  (Session info: chrome=108.0.5359.73)\nStacktrace:\nBacktrace:\n\t(No symbol) [0x00BDF243]\n\t(No symbol) [0x00B67FD1]\n\t(No symbol) [0x00A5D04D]\n\t(No symbol) [0x00A8C0B0]\n\t(No symbol) [0x00A8C22B]\n\t(No symbol) [0x00ABE612]\n\t(No symbol) [0x00AA85D4]\n\t(No symbol) [0x00ABC9EB]\n\t(No symbol) [0x00AA8386]\n\t(No symbol) [0x00A8163C]\n\t(No symbol) [0x00A8269D]\n\tGetHandleVerifier [0x00E79A22+2655074]\n\tGetHandleVerifier [0x00E6CA24+2601828]\n\tGetHandleVerifier [0x00C88C0A+619850]\n\tGetHandleVerifier [0x00C87830+614768]\n\t(No symbol) [0x00B705FC]\n\t(No symbol) [0x00B75968]\n\t(No symbol) [0x00B75A55]\n\t(No symbol) [0x00B8051B]\n\tBaseThreadInitThunk [0x7598FEF9+25]\n\tRtlGetAppContainerNamedObjectPath [0x77317BBE+286]\n\tRtlGetAppContainerNamedObjectPath [0x77317B8E+238]\n",
     "output_type": "error",
     "traceback": [
      "\u001b[1;31m---------------------------------------------------------------------------\u001b[0m",
      "\u001b[1;31mNoSuchElementException\u001b[0m                    Traceback (most recent call last)",
      "\u001b[1;32m~\\AppData\\Local\\Temp\\ipykernel_19312\\1571787379.py\u001b[0m in \u001b[0;36m<module>\u001b[1;34m\u001b[0m\n\u001b[1;32m----> 1\u001b[1;33m \u001b[0mtest\u001b[0m \u001b[1;33m=\u001b[0m \u001b[0mdriver\u001b[0m\u001b[1;33m.\u001b[0m\u001b[0mfind_element\u001b[0m\u001b[1;33m(\u001b[0m\u001b[0mBy\u001b[0m\u001b[1;33m.\u001b[0m\u001b[0mXPATH\u001b[0m\u001b[1;33m,\u001b[0m \u001b[1;34m\"/html/body/div[3]/div/div[5]/div[1]/div[1]/div[1]/div/div[2]/div[13]/div/div[1]/div[2]/div/div[3]/div[3]/ul\"\u001b[0m\u001b[1;33m)\u001b[0m\u001b[1;33m\u001b[0m\u001b[1;33m\u001b[0m\u001b[0m\n\u001b[0m\u001b[0;32m      2\u001b[0m \u001b[0mprint\u001b[0m\u001b[1;33m(\u001b[0m\u001b[0mtest\u001b[0m\u001b[1;33m.\u001b[0m\u001b[0mtext\u001b[0m\u001b[1;33m)\u001b[0m\u001b[1;33m\u001b[0m\u001b[1;33m\u001b[0m\u001b[0m\n",
      "\u001b[1;32m~\\anaconda3\\envs\\Disney\\lib\\site-packages\\selenium\\webdriver\\remote\\webdriver.py\u001b[0m in \u001b[0;36mfind_element\u001b[1;34m(self, by, value)\u001b[0m\n\u001b[0;32m    859\u001b[0m             \u001b[0mvalue\u001b[0m \u001b[1;33m=\u001b[0m \u001b[1;34m'[name=\"%s\"]'\u001b[0m \u001b[1;33m%\u001b[0m \u001b[0mvalue\u001b[0m\u001b[1;33m\u001b[0m\u001b[1;33m\u001b[0m\u001b[0m\n\u001b[0;32m    860\u001b[0m \u001b[1;33m\u001b[0m\u001b[0m\n\u001b[1;32m--> 861\u001b[1;33m         \u001b[1;32mreturn\u001b[0m \u001b[0mself\u001b[0m\u001b[1;33m.\u001b[0m\u001b[0mexecute\u001b[0m\u001b[1;33m(\u001b[0m\u001b[0mCommand\u001b[0m\u001b[1;33m.\u001b[0m\u001b[0mFIND_ELEMENT\u001b[0m\u001b[1;33m,\u001b[0m \u001b[1;33m{\u001b[0m\u001b[1;34m\"using\"\u001b[0m\u001b[1;33m:\u001b[0m \u001b[0mby\u001b[0m\u001b[1;33m,\u001b[0m \u001b[1;34m\"value\"\u001b[0m\u001b[1;33m:\u001b[0m \u001b[0mvalue\u001b[0m\u001b[1;33m}\u001b[0m\u001b[1;33m)\u001b[0m\u001b[1;33m[\u001b[0m\u001b[1;34m\"value\"\u001b[0m\u001b[1;33m]\u001b[0m\u001b[1;33m\u001b[0m\u001b[1;33m\u001b[0m\u001b[0m\n\u001b[0m\u001b[0;32m    862\u001b[0m \u001b[1;33m\u001b[0m\u001b[0m\n\u001b[0;32m    863\u001b[0m     \u001b[1;32mdef\u001b[0m \u001b[0mfind_elements\u001b[0m\u001b[1;33m(\u001b[0m\u001b[0mself\u001b[0m\u001b[1;33m,\u001b[0m \u001b[0mby\u001b[0m\u001b[1;33m=\u001b[0m\u001b[0mBy\u001b[0m\u001b[1;33m.\u001b[0m\u001b[0mID\u001b[0m\u001b[1;33m,\u001b[0m \u001b[0mvalue\u001b[0m\u001b[1;33m:\u001b[0m \u001b[0mOptional\u001b[0m\u001b[1;33m[\u001b[0m\u001b[0mstr\u001b[0m\u001b[1;33m]\u001b[0m \u001b[1;33m=\u001b[0m \u001b[1;32mNone\u001b[0m\u001b[1;33m)\u001b[0m \u001b[1;33m->\u001b[0m \u001b[0mList\u001b[0m\u001b[1;33m[\u001b[0m\u001b[0mWebElement\u001b[0m\u001b[1;33m]\u001b[0m\u001b[1;33m:\u001b[0m\u001b[1;33m\u001b[0m\u001b[1;33m\u001b[0m\u001b[0m\n",
      "\u001b[1;32m~\\anaconda3\\envs\\Disney\\lib\\site-packages\\selenium\\webdriver\\remote\\webdriver.py\u001b[0m in \u001b[0;36mexecute\u001b[1;34m(self, driver_command, params)\u001b[0m\n\u001b[0;32m    442\u001b[0m         \u001b[0mresponse\u001b[0m \u001b[1;33m=\u001b[0m \u001b[0mself\u001b[0m\u001b[1;33m.\u001b[0m\u001b[0mcommand_executor\u001b[0m\u001b[1;33m.\u001b[0m\u001b[0mexecute\u001b[0m\u001b[1;33m(\u001b[0m\u001b[0mdriver_command\u001b[0m\u001b[1;33m,\u001b[0m \u001b[0mparams\u001b[0m\u001b[1;33m)\u001b[0m\u001b[1;33m\u001b[0m\u001b[1;33m\u001b[0m\u001b[0m\n\u001b[0;32m    443\u001b[0m         \u001b[1;32mif\u001b[0m \u001b[0mresponse\u001b[0m\u001b[1;33m:\u001b[0m\u001b[1;33m\u001b[0m\u001b[1;33m\u001b[0m\u001b[0m\n\u001b[1;32m--> 444\u001b[1;33m             \u001b[0mself\u001b[0m\u001b[1;33m.\u001b[0m\u001b[0merror_handler\u001b[0m\u001b[1;33m.\u001b[0m\u001b[0mcheck_response\u001b[0m\u001b[1;33m(\u001b[0m\u001b[0mresponse\u001b[0m\u001b[1;33m)\u001b[0m\u001b[1;33m\u001b[0m\u001b[1;33m\u001b[0m\u001b[0m\n\u001b[0m\u001b[0;32m    445\u001b[0m             \u001b[0mresponse\u001b[0m\u001b[1;33m[\u001b[0m\u001b[1;34m\"value\"\u001b[0m\u001b[1;33m]\u001b[0m \u001b[1;33m=\u001b[0m \u001b[0mself\u001b[0m\u001b[1;33m.\u001b[0m\u001b[0m_unwrap_value\u001b[0m\u001b[1;33m(\u001b[0m\u001b[0mresponse\u001b[0m\u001b[1;33m.\u001b[0m\u001b[0mget\u001b[0m\u001b[1;33m(\u001b[0m\u001b[1;34m\"value\"\u001b[0m\u001b[1;33m,\u001b[0m \u001b[1;32mNone\u001b[0m\u001b[1;33m)\u001b[0m\u001b[1;33m)\u001b[0m\u001b[1;33m\u001b[0m\u001b[1;33m\u001b[0m\u001b[0m\n\u001b[0;32m    446\u001b[0m             \u001b[1;32mreturn\u001b[0m \u001b[0mresponse\u001b[0m\u001b[1;33m\u001b[0m\u001b[1;33m\u001b[0m\u001b[0m\n",
      "\u001b[1;32m~\\anaconda3\\envs\\Disney\\lib\\site-packages\\selenium\\webdriver\\remote\\errorhandler.py\u001b[0m in \u001b[0;36mcheck_response\u001b[1;34m(self, response)\u001b[0m\n\u001b[0;32m    247\u001b[0m                 \u001b[0malert_text\u001b[0m \u001b[1;33m=\u001b[0m \u001b[0mvalue\u001b[0m\u001b[1;33m[\u001b[0m\u001b[1;34m\"alert\"\u001b[0m\u001b[1;33m]\u001b[0m\u001b[1;33m.\u001b[0m\u001b[0mget\u001b[0m\u001b[1;33m(\u001b[0m\u001b[1;34m\"text\"\u001b[0m\u001b[1;33m)\u001b[0m\u001b[1;33m\u001b[0m\u001b[1;33m\u001b[0m\u001b[0m\n\u001b[0;32m    248\u001b[0m             \u001b[1;32mraise\u001b[0m \u001b[0mexception_class\u001b[0m\u001b[1;33m(\u001b[0m\u001b[0mmessage\u001b[0m\u001b[1;33m,\u001b[0m \u001b[0mscreen\u001b[0m\u001b[1;33m,\u001b[0m \u001b[0mstacktrace\u001b[0m\u001b[1;33m,\u001b[0m \u001b[0malert_text\u001b[0m\u001b[1;33m)\u001b[0m  \u001b[1;31m# type: ignore[call-arg]  # mypy is not smart enough here\u001b[0m\u001b[1;33m\u001b[0m\u001b[1;33m\u001b[0m\u001b[0m\n\u001b[1;32m--> 249\u001b[1;33m         \u001b[1;32mraise\u001b[0m \u001b[0mexception_class\u001b[0m\u001b[1;33m(\u001b[0m\u001b[0mmessage\u001b[0m\u001b[1;33m,\u001b[0m \u001b[0mscreen\u001b[0m\u001b[1;33m,\u001b[0m \u001b[0mstacktrace\u001b[0m\u001b[1;33m)\u001b[0m\u001b[1;33m\u001b[0m\u001b[1;33m\u001b[0m\u001b[0m\n\u001b[0m",
      "\u001b[1;31mNoSuchElementException\u001b[0m: Message: no such element: Unable to locate element: {\"method\":\"xpath\",\"selector\":\"/html/body/div[3]/div/div[5]/div[1]/div[1]/div[1]/div/div[2]/div[13]/div/div[1]/div[2]/div/div[3]/div[3]/ul\"}\n  (Session info: chrome=108.0.5359.73)\nStacktrace:\nBacktrace:\n\t(No symbol) [0x00BDF243]\n\t(No symbol) [0x00B67FD1]\n\t(No symbol) [0x00A5D04D]\n\t(No symbol) [0x00A8C0B0]\n\t(No symbol) [0x00A8C22B]\n\t(No symbol) [0x00ABE612]\n\t(No symbol) [0x00AA85D4]\n\t(No symbol) [0x00ABC9EB]\n\t(No symbol) [0x00AA8386]\n\t(No symbol) [0x00A8163C]\n\t(No symbol) [0x00A8269D]\n\tGetHandleVerifier [0x00E79A22+2655074]\n\tGetHandleVerifier [0x00E6CA24+2601828]\n\tGetHandleVerifier [0x00C88C0A+619850]\n\tGetHandleVerifier [0x00C87830+614768]\n\t(No symbol) [0x00B705FC]\n\t(No symbol) [0x00B75968]\n\t(No symbol) [0x00B75A55]\n\t(No symbol) [0x00B8051B]\n\tBaseThreadInitThunk [0x7598FEF9+25]\n\tRtlGetAppContainerNamedObjectPath [0x77317BBE+286]\n\tRtlGetAppContainerNamedObjectPath [0x77317B8E+238]\n"
     ]
    }
   ],
   "source": [
    "test = driver.find_element(By.XPATH, \"/html/body/div[3]/div/div[5]/div[1]/div[1]/div[1]/div/div[2]/div[13]/div/div[1]/div[2]/div/div[3]/div[3]/ul/li[1]\")\n",
    "pouette = test.text\n",
    "print(pouette)\n",
    "test = driver.find_element(By.XPATH, \"/html/body/div[5]/div/div[4]/div[1]/div[1]/div[1]/div/div[2]/div[13]/div/div[1]/div[2]/div/div[3]/div[3]/ul/li[1]\")\n",
    "review_list_new_item_block\n",
    "\"review_list_new_item_block\"\n"
   ]
  },
  {
   "cell_type": "code",
   "execution_count": null,
   "id": "4f54df57",
   "metadata": {},
   "outputs": [],
   "source": []
  },
  {
   "cell_type": "code",
   "execution_count": null,
   "id": "a21c9e17",
   "metadata": {},
   "outputs": [],
   "source": [
    "list_comm =[]\n",
    "\n",
    "for i in range(1,11) :\n",
    "    print(i)\n",
    "    xpath = \"/html/body/div[3]/div/div[5]/div[1]/div[1]/div[1]/div/div[2]/div[13]/div/div[1]/div[2]/div/div[3]/div[3]/ul/li[\"+str(i)+\"]\"\n",
    "    comm = driver.find_element(By.XPATH, xpath)\n",
    "    list_comm.append(comm.text)\n",
    "    \n",
    "list_comm"
   ]
  },
  {
   "cell_type": "code",
   "execution_count": 27,
   "id": "216cb19f",
   "metadata": {},
   "outputs": [],
   "source": [
    "ul = driver.find_element(By.XPATH, \"/html/body/div[5]/div/div[4]/div[1]/div[1]/div[1]/div/div[2]/div[13]/div/div[1]/div[2]/div/div[3]/div[3]/ul\")\n",
    "list_comments_ul=ul.text\n",
    "#list_comments_ul"
   ]
  },
  {
   "cell_type": "code",
   "execution_count": 26,
   "id": "ed3f1f89",
   "metadata": {},
   "outputs": [],
   "source": [
    "li = driver.find_element(By.XPATH, \"/html/body/div[5]/div/div[4]/div[1]/div[1]/div[1]/div/div[2]/div[13]/div/div[1]/div[2]/div/div[3]/div[3]/ul/li[1]\")\n",
    "list_comments_li=li.text\n",
    "#list_comments_li"
   ]
  },
  {
   "cell_type": "code",
   "execution_count": null,
   "id": "e36d02ef",
   "metadata": {},
   "outputs": [],
   "source": []
  },
  {
   "cell_type": "code",
   "execution_count": null,
   "id": "3186d6bf",
   "metadata": {},
   "outputs": [],
   "source": []
  },
  {
   "cell_type": "code",
   "execution_count": null,
   "id": "d3fbc996",
   "metadata": {},
   "outputs": [],
   "source": []
  },
  {
   "cell_type": "code",
   "execution_count": null,
   "id": "127ee41c",
   "metadata": {},
   "outputs": [],
   "source": []
  },
  {
   "cell_type": "code",
   "execution_count": null,
   "id": "da5e721b",
   "metadata": {},
   "outputs": [],
   "source": []
  }
 ],
 "metadata": {
  "kernelspec": {
   "display_name": "Python 3 (ipykernel)",
   "language": "python",
   "name": "python3"
  },
  "language_info": {
   "codemirror_mode": {
    "name": "ipython",
    "version": 3
   },
   "file_extension": ".py",
   "mimetype": "text/x-python",
   "name": "python",
   "nbconvert_exporter": "python",
   "pygments_lexer": "ipython3",
   "version": "3.9.15"
  }
 },
 "nbformat": 4,
 "nbformat_minor": 5
}
